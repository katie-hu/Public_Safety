{
 "cells": [
  {
   "cell_type": "code",
   "execution_count": 1,
   "metadata": {},
   "outputs": [],
   "source": [
    "import numpy as np\n",
    "import pandas as pd\n",
    "import pymysql as mysql\n",
    "import matplotlib.pyplot as plt"
   ]
  },
  {
   "cell_type": "code",
   "execution_count": 8,
   "metadata": {},
   "outputs": [
    {
     "name": "stdout",
     "output_type": "stream",
     "text": [
      "{\"CO\": {\"concentration\": 267.03, \"aqi\": 3}, \"NO2\": {\"concentration\": 15.94, \"aqi\": 19}, \"O3\": {\"concentration\": 62.94, \"aqi\": 62}, \"SO2\": {\"concentration\": 0.73, \"aqi\": 1}, \"PM2.5\": {\"concentration\": 5.4, \"aqi\": 17}, \"PM10\": {\"concentration\": 10.91, \"aqi\": 10}, \"overall_aqi\": 62}\n"
     ]
    }
   ],
   "source": [
    "import requests\n",
    "\n",
    "url = \"https://air-quality-by-api-ninjas.p.rapidapi.com/v1/airquality\"\n",
    "\n",
    "querystring = {\"city\":\"San Diego\"}\n",
    "\n",
    "headers = {\n",
    "\t\"X-RapidAPI-Key\": \"570296f95emsh5f009ea13d4ed2cp106b38jsnbd81b0645b00\",\n",
    "\t\"X-RapidAPI-Host\": \"air-quality-by-api-ninjas.p.rapidapi.com\"\n",
    "}\n",
    "\n",
    "response = requests.request(\"GET\", url, headers=headers, params=querystring)\n",
    "\n",
    "print(response.text)"
   ]
  },
  {
   "cell_type": "code",
   "execution_count": null,
   "metadata": {},
   "outputs": [],
   "source": []
  }
 ],
 "metadata": {
  "kernelspec": {
   "display_name": "ADS500B",
   "language": "python",
   "name": "python3"
  },
  "language_info": {
   "codemirror_mode": {
    "name": "ipython",
    "version": 3
   },
   "file_extension": ".py",
   "mimetype": "text/x-python",
   "name": "python",
   "nbconvert_exporter": "python",
   "pygments_lexer": "ipython3",
   "version": "3.9.2"
  },
  "orig_nbformat": 4,
  "vscode": {
   "interpreter": {
    "hash": "ddb46927d1ef75e251eac7da7e5799506bd45f0bba9ac3fec5df7cda6478264c"
   }
  }
 },
 "nbformat": 4,
 "nbformat_minor": 2
}
