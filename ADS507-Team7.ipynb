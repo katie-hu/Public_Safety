{
 "cells": [
  {
   "attachments": {},
   "cell_type": "markdown",
   "metadata": {},
   "source": [
    "### **Initial Set Up**"
   ]
  },
  {
   "attachments": {},
   "cell_type": "markdown",
   "metadata": {},
   "source": [
    "Install Necessary Packages"
   ]
  },
  {
   "cell_type": "code",
   "execution_count": 2,
   "metadata": {},
   "outputs": [],
   "source": [
    "import numpy as np\n",
    "import pandas as pd\n",
    "import pymysql as msql\n",
    "import config\n",
    "import sql_config\n",
    "import json\n",
    "import requests\n",
    "import warnings\n",
    "import getpass as gp\n",
    "import mysql.connector as mysql\n",
    "import datetime\n",
    "from datetime import datetime\n",
    "from mysql.connector import Error\n",
    "import smtplib, ssl\n",
    "from email.mime.text import MIMEText\n",
    "from email.mime.multipart import MIMEMultipart\n",
    "import boto3\n",
    "warnings.filterwarnings(\"ignore\", category=DeprecationWarning)"
   ]
  },
  {
   "attachments": {},
   "cell_type": "markdown",
   "metadata": {},
   "source": [
    "Set up config.py file with subscriber keys necessary from APIs to access the information."
   ]
  },
  {
   "cell_type": "code",
   "execution_count": 3,
   "metadata": {},
   "outputs": [],
   "source": [
    "# Rapid API Subscriber Keys\n",
    "airquality_key = config.a_key\n",
    "covid_key = config.c_key\n",
    "weather_key = config.w_key\n",
    "\n",
    "# S3 Data Store\n",
    "AWS_KEY = config.AWS_KEY\n",
    "AWS_SECRET = config.AWS_SECRET\n"
   ]
  },
  {
   "attachments": {},
   "cell_type": "markdown",
   "metadata": {},
   "source": [
    "Password for SQL Connection/Email Connection"
   ]
  },
  {
   "cell_type": "code",
   "execution_count": 4,
   "metadata": {},
   "outputs": [],
   "source": [
    "#passwd=gp.getpass('Enter Password:')\n",
    "passwd = sql_config.s_key\n",
    "epasswd = sql_config.e_key"
   ]
  },
  {
   "attachments": {},
   "cell_type": "markdown",
   "metadata": {},
   "source": [
    "Input your City of Choice"
   ]
  },
  {
   "cell_type": "code",
   "execution_count": 5,
   "metadata": {},
   "outputs": [
    {
     "data": {
      "text/plain": [
       "'San Diego'"
      ]
     },
     "execution_count": 5,
     "metadata": {},
     "output_type": "execute_result"
    }
   ],
   "source": [
    "city = \"San Diego\"\n",
    "# city = input(\"What city are you in?\")\n",
    "city"
   ]
  },
  {
   "attachments": {},
   "cell_type": "markdown",
   "metadata": {},
   "source": [
    "#### Air Quality API"
   ]
  },
  {
   "cell_type": "code",
   "execution_count": 6,
   "metadata": {},
   "outputs": [
    {
     "name": "stdout",
     "output_type": "stream",
     "text": [
      "{\"CO\": {\"concentration\": 270.37, \"aqi\": 3}, \"NO2\": {\"concentration\": 14.05, \"aqi\": 17}, \"O3\": {\"concentration\": 72.96, \"aqi\": 93}, \"SO2\": {\"concentration\": 0.98, \"aqi\": 1}, \"PM2.5\": {\"concentration\": 3.06, \"aqi\": 9}, \"PM10\": {\"concentration\": 5.26, \"aqi\": 4}, \"overall_aqi\": 93}\n"
     ]
    }
   ],
   "source": [
    "# URL Website of Air Quality API\n",
    "url = \"https://air-quality-by-api-ninjas.p.rapidapi.com/v1/airquality\"\n",
    "\n",
    "# Parameter Input\n",
    "querystring = {\"city\": city}\n",
    "\n",
    "# Pulling in of Host and Subscriber Key\n",
    "headers = {\n",
    "\t\"X-RapidAPI-Key\": airquality_key,\n",
    "\t\"X-RapidAPI-Host\": \"air-quality-by-api-ninjas.p.rapidapi.com\"\n",
    "}\n",
    "\n",
    "# Pull Data using request library\n",
    "a_response = requests.request(\"GET\", url, headers=headers, params=querystring)\n",
    "\n",
    "print(a_response.text)"
   ]
  },
  {
   "cell_type": "code",
   "execution_count": 7,
   "metadata": {},
   "outputs": [],
   "source": [
    "# Convert the response to a dictionary\n",
    "a_data = a_response.json()\n",
    "\n",
    "# Create a Pandas dataframe from the dictionary\n",
    "a_df = pd.DataFrame(a_data)\n",
    "#a_df"
   ]
  },
  {
   "cell_type": "code",
   "execution_count": 8,
   "metadata": {},
   "outputs": [
    {
     "data": {
      "text/html": [
       "<div>\n",
       "<style scoped>\n",
       "    .dataframe tbody tr th:only-of-type {\n",
       "        vertical-align: middle;\n",
       "    }\n",
       "\n",
       "    .dataframe tbody tr th {\n",
       "        vertical-align: top;\n",
       "    }\n",
       "\n",
       "    .dataframe thead th {\n",
       "        text-align: right;\n",
       "    }\n",
       "</style>\n",
       "<table border=\"1\" class=\"dataframe\">\n",
       "  <thead>\n",
       "    <tr style=\"text-align: right;\">\n",
       "      <th></th>\n",
       "      <th>CO</th>\n",
       "      <th>NO2</th>\n",
       "      <th>O3</th>\n",
       "      <th>SO2</th>\n",
       "      <th>PM2.5</th>\n",
       "      <th>PM10</th>\n",
       "      <th>overall_aqi</th>\n",
       "    </tr>\n",
       "  </thead>\n",
       "  <tbody>\n",
       "    <tr>\n",
       "      <th>concentration</th>\n",
       "      <td>270.37</td>\n",
       "      <td>14.05</td>\n",
       "      <td>72.96</td>\n",
       "      <td>0.98</td>\n",
       "      <td>3.06</td>\n",
       "      <td>5.26</td>\n",
       "      <td>93</td>\n",
       "    </tr>\n",
       "  </tbody>\n",
       "</table>\n",
       "</div>"
      ],
      "text/plain": [
       "                   CO    NO2     O3   SO2  PM2.5  PM10  overall_aqi\n",
       "concentration  270.37  14.05  72.96  0.98   3.06  5.26           93"
      ]
     },
     "execution_count": 8,
     "metadata": {},
     "output_type": "execute_result"
    }
   ],
   "source": [
    "# Remove last row as it is not needed.\n",
    "\n",
    "a_df = a_df.drop(a_df.index[-1])\n",
    "a_df"
   ]
  },
  {
   "cell_type": "code",
   "execution_count": 9,
   "metadata": {},
   "outputs": [],
   "source": [
    "# Renaming of Columns since decimals in column names do not work with SQL\n",
    "a_df = a_df.rename(columns={\"PM2.5\":\"FineParticulateMatter\", \"PM10\":\"InhalableParticulateMatter\", \"overall_aqi\":\"Overall_AQI\"})\n",
    "\n",
    "# save variable city value to add to dataframe column\n",
    "new_city_col = [city]\n",
    "\n",
    "# add new column to the dataframe with the saved value\n",
    "a_df['city'] = new_city_col\n"
   ]
  },
  {
   "cell_type": "code",
   "execution_count": 10,
   "metadata": {},
   "outputs": [
    {
     "name": "stdout",
     "output_type": "stream",
     "text": [
      "Variables in Air Quality are: \n",
      " ['CO', 'NO2', 'O3', 'SO2', 'FineParticulateMatter', 'InhalableParticulateMatter', 'Overall_AQI', 'city']\n",
      "Data Types are: \n",
      " CO                            float64\n",
      "NO2                           float64\n",
      "O3                            float64\n",
      "SO2                           float64\n",
      "FineParticulateMatter         float64\n",
      "InhalableParticulateMatter    float64\n",
      "Overall_AQI                     int64\n",
      "city                           object\n",
      "dtype: object\n"
     ]
    }
   ],
   "source": [
    "# List of Columns in Air Quality and Data Types\n",
    "print(\"Variables in Air Quality are: \\n\", list(a_df.columns))\n",
    "print(\"Data Types are: \\n\",a_df.dtypes)"
   ]
  },
  {
   "cell_type": "code",
   "execution_count": 11,
   "metadata": {},
   "outputs": [
    {
     "data": {
      "text/plain": [
       "[(270.37, 14.05, 72.96, 0.98, 3.06, 5.26, 93, 'San Diego')]"
      ]
     },
     "execution_count": 11,
     "metadata": {},
     "output_type": "execute_result"
    }
   ],
   "source": [
    "# Convert Dataframe to Dictionary\n",
    "a_dict = a_df.to_dict('records')\n",
    "a_dict\n",
    "\n",
    "# Convert Dictionary to Tuple Values to feed into SQL\n",
    "a_tuple = [tuple(d.values()) for d in a_dict]\n",
    "a_tuple"
   ]
  },
  {
   "cell_type": "code",
   "execution_count": 12,
   "metadata": {},
   "outputs": [],
   "source": [
    "# Export to CSV File \n",
    "\n",
    "a_df.to_csv('Data/a_csv.csv')\n"
   ]
  },
  {
   "attachments": {},
   "cell_type": "markdown",
   "metadata": {},
   "source": [
    "### Covid-19 API"
   ]
  },
  {
   "cell_type": "code",
   "execution_count": 13,
   "metadata": {},
   "outputs": [
    {
     "name": "stdout",
     "output_type": "stream",
     "text": [
      "{\"data\":[{\"date\":\"2023-02-26\",\"confirmed\":12084297,\"deaths\":100816,\"recovered\":0,\"confirmed_diff\":0,\"deaths_diff\":0,\"recovered_diff\":0,\"last_update\":\"2023-02-27 04:20:54\",\"active\":11983481,\"active_diff\":0,\"fatality_rate\":0.0083,\"region\":{\"iso\":\"USA\",\"name\":\"US\",\"province\":\"California\",\"lat\":\"36.1162\",\"long\":\"-119.6816\",\"cities\":[{\"name\":\"San Diego\",\"date\":\"2023-02-26\",\"fips\":6073,\"lat\":\"33.03484597\",\"long\":\"-116.7365326\",\"confirmed\":1064093,\"deaths\":5768,\"confirmed_diff\":0,\"deaths_diff\":0,\"last_update\":\"2023-02-27 04:20:54\"}]}}]}\n"
     ]
    }
   ],
   "source": [
    "# make the API call\n",
    "# link to documentation: https://rapidapi.com/axisbits-axisbits-default/api/covid-19-statistics/\n",
    "url = \"https://covid-19-statistics.p.rapidapi.com/reports\"\n",
    "\n",
    "# optional parameter selected to querying the API\n",
    "querystring = {\"city_name\":city}\n",
    "\n",
    "# API credentials\n",
    "headers = {\n",
    "\t\"X-RapidAPI-Key\": covid_key,\n",
    "\t\"X-RapidAPI-Host\": \"covid-19-statistics.p.rapidapi.com\"\n",
    "}\n",
    "\n",
    "# get raw response query from the API\n",
    "c_response = requests.request(\"GET\", url, headers=headers, params=querystring)\n",
    "print(c_response.text)"
   ]
  },
  {
   "cell_type": "code",
   "execution_count": 14,
   "metadata": {},
   "outputs": [
    {
     "data": {
      "text/html": [
       "<div>\n",
       "<style scoped>\n",
       "    .dataframe tbody tr th:only-of-type {\n",
       "        vertical-align: middle;\n",
       "    }\n",
       "\n",
       "    .dataframe tbody tr th {\n",
       "        vertical-align: top;\n",
       "    }\n",
       "\n",
       "    .dataframe thead th {\n",
       "        text-align: right;\n",
       "    }\n",
       "</style>\n",
       "<table border=\"1\" class=\"dataframe\">\n",
       "  <thead>\n",
       "    <tr style=\"text-align: right;\">\n",
       "      <th></th>\n",
       "      <th>date</th>\n",
       "      <th>total_confirmed_cases_state</th>\n",
       "      <th>total_deaths_state</th>\n",
       "      <th>recovered</th>\n",
       "      <th>confirmed_today_state</th>\n",
       "      <th>deaths_today_state</th>\n",
       "      <th>recovered_today_state</th>\n",
       "      <th>fatality_rate_state</th>\n",
       "      <th>country</th>\n",
       "      <th>state</th>\n",
       "      <th>...</th>\n",
       "      <th>state_longitude</th>\n",
       "      <th>city</th>\n",
       "      <th>fips_city_code</th>\n",
       "      <th>city_latitude</th>\n",
       "      <th>city_longitude</th>\n",
       "      <th>total_confirmed_cases_city</th>\n",
       "      <th>total_deaths_city</th>\n",
       "      <th>confirmed_today_city</th>\n",
       "      <th>deaths_today_city</th>\n",
       "      <th>last_API_update</th>\n",
       "    </tr>\n",
       "  </thead>\n",
       "  <tbody>\n",
       "    <tr>\n",
       "      <th>0</th>\n",
       "      <td>2023-02-26</td>\n",
       "      <td>12084297</td>\n",
       "      <td>100816</td>\n",
       "      <td>0</td>\n",
       "      <td>0</td>\n",
       "      <td>0</td>\n",
       "      <td>0</td>\n",
       "      <td>0.0083</td>\n",
       "      <td>USA</td>\n",
       "      <td>California</td>\n",
       "      <td>...</td>\n",
       "      <td>-119.6816</td>\n",
       "      <td>San Diego</td>\n",
       "      <td>6073</td>\n",
       "      <td>33.03484597</td>\n",
       "      <td>-116.7365326</td>\n",
       "      <td>1064093</td>\n",
       "      <td>5768</td>\n",
       "      <td>0</td>\n",
       "      <td>0</td>\n",
       "      <td>2023-02-27 04:20:54</td>\n",
       "    </tr>\n",
       "  </tbody>\n",
       "</table>\n",
       "<p>1 rows × 21 columns</p>\n",
       "</div>"
      ],
      "text/plain": [
       "         date  total_confirmed_cases_state  total_deaths_state  recovered  \\\n",
       "0  2023-02-26                     12084297              100816          0   \n",
       "\n",
       "   confirmed_today_state  deaths_today_state  recovered_today_state  \\\n",
       "0                      0                   0                      0   \n",
       "\n",
       "   fatality_rate_state country       state  ... state_longitude       city  \\\n",
       "0               0.0083     USA  California  ...       -119.6816  San Diego   \n",
       "\n",
       "  fips_city_code  city_latitude city_longitude total_confirmed_cases_city  \\\n",
       "0           6073    33.03484597   -116.7365326                    1064093   \n",
       "\n",
       "   total_deaths_city  confirmed_today_city  deaths_today_city  \\\n",
       "0               5768                     0                  0   \n",
       "\n",
       "       last_API_update  \n",
       "0  2023-02-27 04:20:54  \n",
       "\n",
       "[1 rows x 21 columns]"
      ]
     },
     "execution_count": 14,
     "metadata": {},
     "output_type": "execute_result"
    }
   ],
   "source": [
    "# Convert the response to a dictionary\n",
    "c_data = c_response.json()\n",
    "\n",
    "# Create a Pandas dataframe from the dictionary\n",
    "c_df = pd.DataFrame(c_data)\n",
    "\n",
    "# Unpack the dictionaries in the column into separate columns\n",
    "df_unpacked = pd.json_normalize(c_df['data'])\n",
    "\n",
    "# merge the new columns back into the original dataframe\n",
    "df_1 = c_df.merge(df_unpacked, left_index=True, right_index=True)\n",
    "\n",
    "# drop the original column containing the dictionaries\n",
    "df_2 = df_1.drop('data', axis=1)\n",
    "\n",
    "# extract the dictionary from region.cities column for flattening\n",
    "col_dic = df_2['region.cities'].iloc[0]\n",
    "\n",
    "# turn the extracted dictionary into its on dataframe \n",
    "flatten_col = pd.DataFrame(col_dic)\n",
    "\n",
    "# merge the two dataframes\n",
    "result = df_2.merge(flatten_col, left_index=True, right_index=True)\n",
    "\n",
    "# drop columns \n",
    "result.drop(['last_update_x', 'active', 'active_diff', 'region.name', 'region.cities', 'date_y'], axis=1, inplace=True)\n",
    "\n",
    "# rename columns to be more understandable\n",
    "c_df = result.rename(columns={\"date_x\": \"date\", \"confirmed_x\": \"total_confirmed_cases_state\",\"deaths_x\": \"total_deaths_state\", \n",
    "                                         \"confirmed_diff_x\": \"confirmed_today_state\", \"deaths_diff_x\": \"deaths_today_state\",\n",
    "                                        \"recovered_diff\": \"recovered_today_state\", \"fatality_rate\":\"fatality_rate_state\",\"region.iso\":\"country\",\n",
    "                                        \"region.province\": \"state\", \"region.lat\":\"state_latitude\", \"region.long\":\"state_longitude\", \"name\": \"city\",\n",
    "                                        \"fips\":\"fips_city_code\", \"lat\": \"city_latitude\", \"long\": \"city_longitude\", \"confirmed_y\":\"total_confirmed_cases_city\",\n",
    "                                        \"deaths_y\": \"total_deaths_city\", \"confirmed_diff_y\":\"confirmed_today_city\", \"deaths_diff_y\": \"deaths_today_city\",\n",
    "                                        \"last_update_y\": \"last_API_update\"})\n",
    "\n",
    "c_df"
   ]
  },
  {
   "cell_type": "code",
   "execution_count": 15,
   "metadata": {},
   "outputs": [
    {
     "data": {
      "text/plain": [
       "[('2023-02-26',\n",
       "  12084297,\n",
       "  100816,\n",
       "  0,\n",
       "  0,\n",
       "  0,\n",
       "  0,\n",
       "  0.0083,\n",
       "  'USA',\n",
       "  'California',\n",
       "  '36.1162',\n",
       "  '-119.6816',\n",
       "  'San Diego',\n",
       "  6073,\n",
       "  '33.03484597',\n",
       "  '-116.7365326',\n",
       "  1064093,\n",
       "  5768,\n",
       "  0,\n",
       "  0,\n",
       "  '2023-02-27 04:20:54')]"
      ]
     },
     "execution_count": 15,
     "metadata": {},
     "output_type": "execute_result"
    }
   ],
   "source": [
    "# show the values of all the columns\n",
    "c_dict = c_df.to_dict('records')\n",
    "#c_dict\n",
    "\n",
    "c_tuple = [tuple(d.values()) for d in c_dict]\n",
    "c_tuple"
   ]
  },
  {
   "cell_type": "code",
   "execution_count": 16,
   "metadata": {},
   "outputs": [
    {
     "name": "stdout",
     "output_type": "stream",
     "text": [
      "Variables in Covid-19 are: \n",
      " ['date', 'total_confirmed_cases_state', 'total_deaths_state', 'recovered', 'confirmed_today_state', 'deaths_today_state', 'recovered_today_state', 'fatality_rate_state', 'country', 'state', 'state_latitude', 'state_longitude', 'city', 'fips_city_code', 'city_latitude', 'city_longitude', 'total_confirmed_cases_city', 'total_deaths_city', 'confirmed_today_city', 'deaths_today_city', 'last_API_update']\n",
      "Data Types are: \n",
      " date                            object\n",
      "total_confirmed_cases_state      int64\n",
      "total_deaths_state               int64\n",
      "recovered                        int64\n",
      "confirmed_today_state            int64\n",
      "deaths_today_state               int64\n",
      "recovered_today_state            int64\n",
      "fatality_rate_state            float64\n",
      "country                         object\n",
      "state                           object\n",
      "state_latitude                  object\n",
      "state_longitude                 object\n",
      "city                            object\n",
      "fips_city_code                   int64\n",
      "city_latitude                   object\n",
      "city_longitude                  object\n",
      "total_confirmed_cases_city       int64\n",
      "total_deaths_city                int64\n",
      "confirmed_today_city             int64\n",
      "deaths_today_city                int64\n",
      "last_API_update                 object\n",
      "dtype: object\n"
     ]
    }
   ],
   "source": [
    "# List of Columns in Covid-19 and Data Types\n",
    "print(\"Variables in Covid-19 are: \\n\", list(c_df.columns))\n",
    "print(\"Data Types are: \\n\",c_df.dtypes)"
   ]
  },
  {
   "cell_type": "code",
   "execution_count": 17,
   "metadata": {},
   "outputs": [],
   "source": [
    "c_csv = c_df.to_csv('Data/c_csv.csv')"
   ]
  },
  {
   "attachments": {},
   "cell_type": "markdown",
   "metadata": {},
   "source": [
    "### Weather API"
   ]
  },
  {
   "cell_type": "code",
   "execution_count": 18,
   "metadata": {},
   "outputs": [
    {
     "name": "stdout",
     "output_type": "stream",
     "text": [
      "{\"cloud_pct\": 75, \"temp\": 12, \"feels_like\": 11, \"humidity\": 80, \"min_temp\": 10, \"max_temp\": 13, \"wind_speed\": 3.6, \"wind_degrees\": 210, \"sunrise\": 1677507548, \"sunset\": 1677548637}\n"
     ]
    }
   ],
   "source": [
    "# URL Website of Weather API\n",
    "url = \"https://weather-by-api-ninjas.p.rapidapi.com/v1/weather\"\n",
    "\n",
    "# Pulling of Host and Subscriber Key\n",
    "headers = {\n",
    "\t\"X-RapidAPI-Key\": weather_key,\n",
    "\t\"X-RapidAPI-Host\": \"weather-by-api-ninjas.p.rapidapi.com\"\n",
    "}\n",
    "\n",
    "# Parameter Input\n",
    "querystring = {\"city\": city}\n",
    "\n",
    "# Pull Data using request library\n",
    "w_response = requests.request(\"GET\", url, headers=headers, params = querystring)\n",
    "\n",
    "print(w_response.text)"
   ]
  },
  {
   "cell_type": "code",
   "execution_count": 19,
   "metadata": {},
   "outputs": [],
   "source": [
    "# Convert the response to a dictionary\n",
    "w_data = w_response.json()\n",
    "\n",
    "# Create a Pandas dataframe from the dictionary\n",
    "w_df = pd.DataFrame(w_data, index = [0])"
   ]
  },
  {
   "cell_type": "code",
   "execution_count": 20,
   "metadata": {},
   "outputs": [],
   "source": [
    "# Convert Unix Timestamp to Readable Datetime\n",
    "w_df['sunrise'] = datetime.fromtimestamp(w_df['sunrise']).strftime('%Y-%m-%d %H:%M:%S')\n",
    "w_df['sunset'] = datetime.fromtimestamp(w_df['sunset']).strftime('%Y-%m-%d %H:%M:%S')\n"
   ]
  },
  {
   "cell_type": "code",
   "execution_count": 21,
   "metadata": {},
   "outputs": [],
   "source": [
    "# Convert Temperatures from Celsius to Fahrenheit\n",
    "w_df['temperature'] = w_df.apply(lambda x: (9/5)*x['temp']+32,axis=1)\n",
    "w_df['temp_feels_like'] = w_df.apply(lambda x: (9/5)*x['feels_like']+32,axis=1)\n",
    "w_df['min_temperature'] = w_df.apply(lambda x: (9/5)*x['min_temp']+32,axis=1)\n",
    "w_df['max_temperature'] = w_df.apply(lambda x: (9/5)*x['max_temp']+32,axis=1)"
   ]
  },
  {
   "cell_type": "code",
   "execution_count": 22,
   "metadata": {},
   "outputs": [
    {
     "data": {
      "text/html": [
       "<div>\n",
       "<style scoped>\n",
       "    .dataframe tbody tr th:only-of-type {\n",
       "        vertical-align: middle;\n",
       "    }\n",
       "\n",
       "    .dataframe tbody tr th {\n",
       "        vertical-align: top;\n",
       "    }\n",
       "\n",
       "    .dataframe thead th {\n",
       "        text-align: right;\n",
       "    }\n",
       "</style>\n",
       "<table border=\"1\" class=\"dataframe\">\n",
       "  <thead>\n",
       "    <tr style=\"text-align: right;\">\n",
       "      <th></th>\n",
       "      <th>cloud_pct</th>\n",
       "      <th>temp</th>\n",
       "      <th>feels_like</th>\n",
       "      <th>humidity</th>\n",
       "      <th>min_temp</th>\n",
       "      <th>max_temp</th>\n",
       "      <th>wind_speed</th>\n",
       "      <th>wind_degrees</th>\n",
       "      <th>sunrise</th>\n",
       "      <th>sunset</th>\n",
       "      <th>temperature</th>\n",
       "      <th>temp_feels_like</th>\n",
       "      <th>min_temperature</th>\n",
       "      <th>max_temperature</th>\n",
       "      <th>city</th>\n",
       "    </tr>\n",
       "  </thead>\n",
       "  <tbody>\n",
       "    <tr>\n",
       "      <th>0</th>\n",
       "      <td>75</td>\n",
       "      <td>12</td>\n",
       "      <td>11</td>\n",
       "      <td>80</td>\n",
       "      <td>10</td>\n",
       "      <td>13</td>\n",
       "      <td>3.6</td>\n",
       "      <td>210</td>\n",
       "      <td>2023-02-27 06:19:08</td>\n",
       "      <td>2023-02-27 17:43:57</td>\n",
       "      <td>53.6</td>\n",
       "      <td>51.8</td>\n",
       "      <td>50.0</td>\n",
       "      <td>55.4</td>\n",
       "      <td>San Diego</td>\n",
       "    </tr>\n",
       "  </tbody>\n",
       "</table>\n",
       "</div>"
      ],
      "text/plain": [
       "   cloud_pct  temp  feels_like  humidity  min_temp  max_temp  wind_speed  \\\n",
       "0         75    12          11        80        10        13         3.6   \n",
       "\n",
       "   wind_degrees              sunrise               sunset  temperature  \\\n",
       "0           210  2023-02-27 06:19:08  2023-02-27 17:43:57         53.6   \n",
       "\n",
       "   temp_feels_like  min_temperature  max_temperature       city  \n",
       "0             51.8             50.0             55.4  San Diego  "
      ]
     },
     "execution_count": 22,
     "metadata": {},
     "output_type": "execute_result"
    }
   ],
   "source": [
    "# save variable city value to add to dataframe column\n",
    "new_city_col = [city]\n",
    "\n",
    "# add new column to the dataframe with the saved value\n",
    "w_df['city'] = new_city_col\n",
    "w_df"
   ]
  },
  {
   "cell_type": "code",
   "execution_count": 23,
   "metadata": {},
   "outputs": [
    {
     "data": {
      "text/html": [
       "<div>\n",
       "<style scoped>\n",
       "    .dataframe tbody tr th:only-of-type {\n",
       "        vertical-align: middle;\n",
       "    }\n",
       "\n",
       "    .dataframe tbody tr th {\n",
       "        vertical-align: top;\n",
       "    }\n",
       "\n",
       "    .dataframe thead th {\n",
       "        text-align: right;\n",
       "    }\n",
       "</style>\n",
       "<table border=\"1\" class=\"dataframe\">\n",
       "  <thead>\n",
       "    <tr style=\"text-align: right;\">\n",
       "      <th></th>\n",
       "      <th>temperature</th>\n",
       "      <th>temp_feels_like</th>\n",
       "      <th>min_temperature</th>\n",
       "      <th>max_temperature</th>\n",
       "      <th>cloud_pct</th>\n",
       "      <th>humidity</th>\n",
       "      <th>wind_speed</th>\n",
       "      <th>wind_degrees</th>\n",
       "      <th>sunrise</th>\n",
       "      <th>sunset</th>\n",
       "      <th>city</th>\n",
       "    </tr>\n",
       "  </thead>\n",
       "  <tbody>\n",
       "    <tr>\n",
       "      <th>0</th>\n",
       "      <td>53.6</td>\n",
       "      <td>51.8</td>\n",
       "      <td>50.0</td>\n",
       "      <td>55.4</td>\n",
       "      <td>75</td>\n",
       "      <td>80</td>\n",
       "      <td>3.6</td>\n",
       "      <td>210</td>\n",
       "      <td>2023-02-27 06:19:08</td>\n",
       "      <td>2023-02-27 17:43:57</td>\n",
       "      <td>San Diego</td>\n",
       "    </tr>\n",
       "  </tbody>\n",
       "</table>\n",
       "</div>"
      ],
      "text/plain": [
       "   temperature  temp_feels_like  min_temperature  max_temperature  cloud_pct  \\\n",
       "0         53.6             51.8             50.0             55.4         75   \n",
       "\n",
       "   humidity  wind_speed  wind_degrees              sunrise  \\\n",
       "0        80         3.6           210  2023-02-27 06:19:08   \n",
       "\n",
       "                sunset       city  \n",
       "0  2023-02-27 17:43:57  San Diego  "
      ]
     },
     "execution_count": 23,
     "metadata": {},
     "output_type": "execute_result"
    }
   ],
   "source": [
    "# Preview Dataframe\n",
    "# Change order of the columns for the preview, based on the average user needs\n",
    "w_df = w_df.iloc[:,[10, 11, 12, 13, 0, 3, 6, 7, 8, 9, 14]]\n",
    "w_df"
   ]
  },
  {
   "cell_type": "code",
   "execution_count": 24,
   "metadata": {},
   "outputs": [
    {
     "name": "stdout",
     "output_type": "stream",
     "text": [
      "Variables in Weather are: \n",
      " ['temperature', 'temp_feels_like', 'min_temperature', 'max_temperature', 'cloud_pct', 'humidity', 'wind_speed', 'wind_degrees', 'sunrise', 'sunset', 'city']\n",
      "Data Types are: \n",
      " temperature        float64\n",
      "temp_feels_like    float64\n",
      "min_temperature    float64\n",
      "max_temperature    float64\n",
      "cloud_pct            int64\n",
      "humidity             int64\n",
      "wind_speed         float64\n",
      "wind_degrees         int64\n",
      "sunrise             object\n",
      "sunset              object\n",
      "city                object\n",
      "dtype: object\n"
     ]
    }
   ],
   "source": [
    "# List of Columns in Weather and Data Types\n",
    "print(\"Variables in Weather are: \\n\", list(w_df.columns))\n",
    "print(\"Data Types are: \\n\",w_df.dtypes)"
   ]
  },
  {
   "cell_type": "code",
   "execution_count": 25,
   "metadata": {},
   "outputs": [
    {
     "data": {
      "text/plain": [
       "[(53.6,\n",
       "  51.8,\n",
       "  50.0,\n",
       "  55.400000000000006,\n",
       "  75,\n",
       "  80,\n",
       "  3.6,\n",
       "  210,\n",
       "  '2023-02-27 06:19:08',\n",
       "  '2023-02-27 17:43:57',\n",
       "  'San Diego')]"
      ]
     },
     "execution_count": 25,
     "metadata": {},
     "output_type": "execute_result"
    }
   ],
   "source": [
    "# Convert to Dictionary\n",
    "w_dict = w_df.to_dict('records')\n",
    "#w_dict\n",
    "\n",
    "# Convert to Tuple for feeding into SQL Table\n",
    "w_tuple = [tuple(d.values()) for d in w_dict]\n",
    "w_tuple"
   ]
  },
  {
   "cell_type": "code",
   "execution_count": 26,
   "metadata": {},
   "outputs": [],
   "source": [
    "w_csv = w_df.to_csv('Data/w_csv.csv')"
   ]
  },
  {
   "attachments": {},
   "cell_type": "markdown",
   "metadata": {},
   "source": [
    "Save All Output CSV Files for Time Stamp Logs"
   ]
  },
  {
   "cell_type": "code",
   "execution_count": 27,
   "metadata": {},
   "outputs": [],
   "source": [
    "import datetime\n",
    "a_df.to_csv(f'Data/PythonCSVTimeLogs/a_csv{datetime.datetime.now().strftime(\"%Y-%m-%d-%H-%M-%S\")}.csv')\n",
    "w_df.to_csv(f'Data/PythonCSVTimeLogs/w_csv{datetime.datetime.now().strftime(\"%Y-%m-%d-%H-%M-%S\")}.csv')\n",
    "c_df.to_csv(f'Data/PythonCSVTimeLogs/c_csv{datetime.datetime.now().strftime(\"%Y-%m-%d-%H-%M-%S\")}.csv')\n"
   ]
  },
  {
   "attachments": {},
   "cell_type": "markdown",
   "metadata": {},
   "source": [
    "### **Load Python to SQL Database**"
   ]
  },
  {
   "attachments": {},
   "cell_type": "markdown",
   "metadata": {},
   "source": [
    "#### Create Database"
   ]
  },
  {
   "cell_type": "code",
   "execution_count": 28,
   "metadata": {},
   "outputs": [
    {
     "name": "stdout",
     "output_type": "stream",
     "text": [
      "Error while connecting to MySQL 1007 (HY000): Can't create database 'public_safety'; database exists\n"
     ]
    }
   ],
   "source": [
    "# Create New Database\n",
    "try:\n",
    "    conn=mysql.connect(host='localhost',port=int(3306),user='root',passwd=passwd)\n",
    "    if conn.is_connected():\n",
    "        cursor = conn.cursor()\n",
    "        cursor.execute(\"CREATE DATABASE public_safety\")\n",
    "        print(\"Database is created\")\n",
    "except Error as e:\n",
    "    print(\"Error while connecting to MySQL\", e)"
   ]
  },
  {
   "attachments": {},
   "cell_type": "markdown",
   "metadata": {},
   "source": [
    "#### Add Air Quality Table to Public Safety Database"
   ]
  },
  {
   "cell_type": "code",
   "execution_count": 29,
   "metadata": {},
   "outputs": [
    {
     "name": "stdout",
     "output_type": "stream",
     "text": [
      "You're connected to database:  ('public_safety',)\n",
      "Creating Table Air Quality\n",
      "Table is created....\n",
      "Record inserted\n",
      "Table is Complete\n"
     ]
    }
   ],
   "source": [
    "try:\n",
    "    conn=mysql.connect(host='localhost',port=int(3306),user='root',passwd=passwd, database= 'public_safety')\n",
    "    if conn.is_connected():\n",
    "        cursor = conn.cursor()\n",
    "        cursor.execute(\"select database();\")\n",
    "        record = cursor.fetchone()\n",
    "        print(\"You're connected to database: \", record)\n",
    "        cursor.execute('DROP TABLE IF EXISTS air_quality;')\n",
    "        print('Creating Table Air Quality')\n",
    "# in the below line please pass the create table statement which you want #to create\n",
    "        cursor.execute('CREATE TABLE air_quality(CO float, NO2 float, O3 float, SO2 float, FineParticulateMatter float, InhalableParticulateMatter float, Overall_AQI SMALLINT, city text)')\n",
    "        conn.commit()\n",
    "        print(\"Table is created....\")\n",
    "        #loop through the data frame\n",
    "            #here %S means string values \n",
    "        a_sql = 'INSERT INTO air_quality (CO, NO2, O3, SO2, FineParticulateMatter, InhalableParticulateMatter, Overall_AQI, city) VALUES (%s,%s,%s,%s,%s,%s,%s,%s)'\n",
    "        cursor.executemany(a_sql, a_tuple)\n",
    "        print(\"Record inserted\")\n",
    "            # the connection is not auto committed by default, so we must commit to save our changes\n",
    "        conn.commit()\n",
    "        print(\"Table is Complete\")\n",
    "except Error as e:\n",
    "            print(\"Error while connecting to MySQL\", e)"
   ]
  },
  {
   "attachments": {},
   "cell_type": "markdown",
   "metadata": {},
   "source": [
    "#### Transform Data in SQL for Air Quality"
   ]
  },
  {
   "cell_type": "code",
   "execution_count": 30,
   "metadata": {},
   "outputs": [
    {
     "name": "stderr",
     "output_type": "stream",
     "text": [
      "c:\\Users\\trevor.sauerbrey\\WPy64-3890\\python-3.8.9.amd64\\lib\\site-packages\\pandas\\io\\sql.py:761: UserWarning: pandas only support SQLAlchemy connectable(engine/connection) ordatabase string URI or sqlite3 DBAPI2 connectionother DBAPI2 objects are not tested, please consider using SQLAlchemy\n",
      "  warnings.warn(\n"
     ]
    },
    {
     "data": {
      "text/html": [
       "<div>\n",
       "<style scoped>\n",
       "    .dataframe tbody tr th:only-of-type {\n",
       "        vertical-align: middle;\n",
       "    }\n",
       "\n",
       "    .dataframe tbody tr th {\n",
       "        vertical-align: top;\n",
       "    }\n",
       "\n",
       "    .dataframe thead th {\n",
       "        text-align: right;\n",
       "    }\n",
       "</style>\n",
       "<table border=\"1\" class=\"dataframe\">\n",
       "  <thead>\n",
       "    <tr style=\"text-align: right;\">\n",
       "      <th></th>\n",
       "      <th>CO</th>\n",
       "      <th>NO2</th>\n",
       "      <th>O3</th>\n",
       "      <th>SO2</th>\n",
       "      <th>FineParticulateMatter</th>\n",
       "      <th>InhalableParticulateMatter</th>\n",
       "      <th>Overall_AQI</th>\n",
       "      <th>City</th>\n",
       "    </tr>\n",
       "  </thead>\n",
       "  <tbody>\n",
       "    <tr>\n",
       "      <th>0</th>\n",
       "      <td>270.37</td>\n",
       "      <td>14.05</td>\n",
       "      <td>72.96</td>\n",
       "      <td>0.98</td>\n",
       "      <td>3.06</td>\n",
       "      <td>5.26</td>\n",
       "      <td>93</td>\n",
       "      <td>San Diego</td>\n",
       "    </tr>\n",
       "  </tbody>\n",
       "</table>\n",
       "</div>"
      ],
      "text/plain": [
       "       CO    NO2     O3   SO2  FineParticulateMatter  \\\n",
       "0  270.37  14.05  72.96  0.98                   3.06   \n",
       "\n",
       "   InhalableParticulateMatter  Overall_AQI       City  \n",
       "0                        5.26           93  San Diego  "
      ]
     },
     "execution_count": 30,
     "metadata": {},
     "output_type": "execute_result"
    }
   ],
   "source": [
    "a_query= pd.read_sql(\"\"\" \n",
    "SELECT CO,\n",
    "    NO2,\n",
    "    O3,\n",
    "    SO2,\n",
    "    FineParticulateMatter,\n",
    "    InhalableParticulateMatter,\n",
    "    Overall_AQI,\n",
    "    city AS City\n",
    "FROM air_quality;\n",
    " \"\"\", conn)\n",
    " \n",
    "a_query"
   ]
  },
  {
   "cell_type": "code",
   "execution_count": 31,
   "metadata": {},
   "outputs": [],
   "source": [
    "# Export Query as CSV File\n",
    "\n",
    "sql_adf = pd.DataFrame(a_query)\n",
    "\n",
    "a_sql_csv = sql_adf.to_csv('Data/a_sql_csv.csv')"
   ]
  },
  {
   "attachments": {},
   "cell_type": "markdown",
   "metadata": {},
   "source": [
    "#### Add Weather Table to Public Safety Database"
   ]
  },
  {
   "cell_type": "code",
   "execution_count": 32,
   "metadata": {},
   "outputs": [
    {
     "name": "stdout",
     "output_type": "stream",
     "text": [
      "You're connected to database:  ('public_safety',)\n",
      "Creating Table Weather\n",
      "Table is created....\n",
      "Record inserted\n",
      "Table is Complete\n"
     ]
    }
   ],
   "source": [
    "try:\n",
    "    conn=mysql.connect(host='localhost',port=int(3306),user='root',passwd=passwd, database= 'public_safety')\n",
    "    if conn.is_connected():\n",
    "        cursor = conn.cursor()\n",
    "        cursor.execute(\"select database();\")\n",
    "        record = cursor.fetchone()\n",
    "        print(\"You're connected to database: \", record)\n",
    "        cursor.execute('DROP TABLE IF EXISTS weather;')\n",
    "        print('Creating Table Weather')\n",
    "# in the below line please pass the create table statement which you want #to create\n",
    "        cursor.execute('CREATE TABLE weather(temperature float, temp_feels_like float, min_temperature float, max_temperature float, cloud_pct SMALLINT, humidity SMALLINT, wind_speed float, wind_degrees SMALLINT, sunrise datetime, sunset datetime, city text)')\n",
    "        conn.commit()\n",
    "        print(\"Table is created....\")\n",
    "        #loop through the data frame\n",
    "            #here %S means string values \n",
    "        w_sql = 'INSERT INTO weather (temperature, temp_feels_like, min_temperature, max_temperature, cloud_pct, humidity, wind_speed, wind_degrees, sunrise, sunset, city) VALUES (%s,%s,%s,%s,%s,%s,%s,%s,%s,%s,%s)'\n",
    "        cursor.executemany(w_sql, w_tuple)\n",
    "        print(\"Record inserted\")\n",
    "            # the connection is not auto committed by default, so we must commit to save our changes\n",
    "        conn.commit()\n",
    "        print(\"Table is Complete\")\n",
    "except Error as e:\n",
    "            print(\"Error while connecting to MySQL\", e)"
   ]
  },
  {
   "attachments": {},
   "cell_type": "markdown",
   "metadata": {},
   "source": [
    "#### Transform Data in SQL for Weather"
   ]
  },
  {
   "cell_type": "code",
   "execution_count": 33,
   "metadata": {},
   "outputs": [
    {
     "name": "stderr",
     "output_type": "stream",
     "text": [
      "c:\\Users\\trevor.sauerbrey\\WPy64-3890\\python-3.8.9.amd64\\lib\\site-packages\\pandas\\io\\sql.py:761: UserWarning: pandas only support SQLAlchemy connectable(engine/connection) ordatabase string URI or sqlite3 DBAPI2 connectionother DBAPI2 objects are not tested, please consider using SQLAlchemy\n",
      "  warnings.warn(\n"
     ]
    },
    {
     "data": {
      "text/html": [
       "<div>\n",
       "<style scoped>\n",
       "    .dataframe tbody tr th:only-of-type {\n",
       "        vertical-align: middle;\n",
       "    }\n",
       "\n",
       "    .dataframe tbody tr th {\n",
       "        vertical-align: top;\n",
       "    }\n",
       "\n",
       "    .dataframe thead th {\n",
       "        text-align: right;\n",
       "    }\n",
       "</style>\n",
       "<table border=\"1\" class=\"dataframe\">\n",
       "  <thead>\n",
       "    <tr style=\"text-align: right;\">\n",
       "      <th></th>\n",
       "      <th>temperature</th>\n",
       "      <th>temp_feels_like</th>\n",
       "      <th>min_temperature</th>\n",
       "      <th>max_temperature</th>\n",
       "      <th>cloud_pct</th>\n",
       "      <th>humidity</th>\n",
       "      <th>wind_speed</th>\n",
       "      <th>wind_degrees</th>\n",
       "      <th>sunrise</th>\n",
       "      <th>sunset</th>\n",
       "      <th>city</th>\n",
       "    </tr>\n",
       "  </thead>\n",
       "  <tbody>\n",
       "    <tr>\n",
       "      <th>0</th>\n",
       "      <td>53.6</td>\n",
       "      <td>51.8</td>\n",
       "      <td>50.0</td>\n",
       "      <td>55.4</td>\n",
       "      <td>75</td>\n",
       "      <td>80</td>\n",
       "      <td>3.6</td>\n",
       "      <td>210</td>\n",
       "      <td>2023-02-27 06:19:08</td>\n",
       "      <td>2023-02-27 17:43:57</td>\n",
       "      <td>San Diego</td>\n",
       "    </tr>\n",
       "  </tbody>\n",
       "</table>\n",
       "</div>"
      ],
      "text/plain": [
       "   temperature  temp_feels_like  min_temperature  max_temperature  cloud_pct  \\\n",
       "0         53.6             51.8             50.0             55.4         75   \n",
       "\n",
       "   humidity  wind_speed  wind_degrees             sunrise              sunset  \\\n",
       "0        80         3.6           210 2023-02-27 06:19:08 2023-02-27 17:43:57   \n",
       "\n",
       "        city  \n",
       "0  San Diego  "
      ]
     },
     "execution_count": 33,
     "metadata": {},
     "output_type": "execute_result"
    }
   ],
   "source": [
    "w_query= pd.read_sql(\"\"\" \n",
    "SELECT * FROM weather;\n",
    " \"\"\", conn)\n",
    " \n",
    "w_query"
   ]
  },
  {
   "cell_type": "code",
   "execution_count": 34,
   "metadata": {},
   "outputs": [],
   "source": [
    "# Export Query as CSV File\n",
    "\n",
    "sql_wdf = pd.DataFrame(w_query)\n",
    "\n",
    "w_sql_csv = sql_wdf.to_csv('Data/w_sql_csv.csv')"
   ]
  },
  {
   "attachments": {},
   "cell_type": "markdown",
   "metadata": {},
   "source": [
    "#### Add Covid-19 Table to Public Safety Database"
   ]
  },
  {
   "cell_type": "code",
   "execution_count": 35,
   "metadata": {},
   "outputs": [
    {
     "name": "stdout",
     "output_type": "stream",
     "text": [
      "You're connected to database:  ('public_safety',)\n",
      "Creating Table Covid-19\n",
      "Table is created....\n",
      "Record inserted\n",
      "Table is Complete\n"
     ]
    }
   ],
   "source": [
    "try:\n",
    "    conn=mysql.connect(host='localhost',port=int(3306),user='root',passwd=passwd, database= 'public_safety')\n",
    "    if conn.is_connected():\n",
    "        cursor = conn.cursor()\n",
    "        cursor.execute(\"select database();\")\n",
    "        record = cursor.fetchone()\n",
    "        print(\"You're connected to database: \", record)\n",
    "        cursor.execute('DROP TABLE IF EXISTS covid;')\n",
    "        print('Creating Table Covid-19')\n",
    "# in the below line please pass the create table statement which you want to create\n",
    "        cursor.execute('CREATE TABLE covid(date date, total_confirmed_cases_state INT, total_deaths_state INT, recovered INT, confirmed_today_state INT, deaths_today_state INT, recovered_today_state INT, fatality_rate_state float, country text, state text, state_latitude float, state_longitude float, city text, fips_city_code INT, city_latitude float, city_longitude float, total_confirmed_cases_city INT, total_deaths_city INT, confirmed_today_city INT, deaths_today_city INT, last_API_update datetime)')\n",
    "        conn.commit()\n",
    "        print(\"Table is created....\")\n",
    "        #loop through the data frame\n",
    "            #here %S means string values \n",
    "        c_sql = 'INSERT INTO covid (date, total_confirmed_cases_state, total_deaths_state, recovered, confirmed_today_state, deaths_today_state, recovered_today_state, fatality_rate_state, country, state, state_latitude, state_longitude, city, fips_city_code, city_latitude, city_longitude, total_confirmed_cases_city, total_deaths_city, confirmed_today_city, deaths_today_city, last_API_update) VALUES (%s,%s,%s,%s,%s,%s,%s,%s,%s,%s,%s,%s,%s,%s,%s,%s,%s,%s,%s,%s,%s)'\n",
    "        cursor.executemany(c_sql, c_tuple)\n",
    "        print(\"Record inserted\")\n",
    "            # the connection is not auto committed by default, so we must commit to save our changes\n",
    "        conn.commit()\n",
    "        print(\"Table is Complete\")\n",
    "except Error as e:\n",
    "            print(\"Error while connecting to MySQL\", e)"
   ]
  },
  {
   "attachments": {},
   "cell_type": "markdown",
   "metadata": {},
   "source": [
    "#### Transform Data in SQL for Covid-19\n",
    "Transform Covid-19 Table to select only data specifically related to the city to be cohesive with the air quality and weather APIs that only show city data."
   ]
  },
  {
   "cell_type": "code",
   "execution_count": 36,
   "metadata": {},
   "outputs": [
    {
     "name": "stderr",
     "output_type": "stream",
     "text": [
      "c:\\Users\\trevor.sauerbrey\\WPy64-3890\\python-3.8.9.amd64\\lib\\site-packages\\pandas\\io\\sql.py:761: UserWarning: pandas only support SQLAlchemy connectable(engine/connection) ordatabase string URI or sqlite3 DBAPI2 connectionother DBAPI2 objects are not tested, please consider using SQLAlchemy\n",
      "  warnings.warn(\n"
     ]
    },
    {
     "data": {
      "text/html": [
       "<div>\n",
       "<style scoped>\n",
       "    .dataframe tbody tr th:only-of-type {\n",
       "        vertical-align: middle;\n",
       "    }\n",
       "\n",
       "    .dataframe tbody tr th {\n",
       "        vertical-align: top;\n",
       "    }\n",
       "\n",
       "    .dataframe thead th {\n",
       "        text-align: right;\n",
       "    }\n",
       "</style>\n",
       "<table border=\"1\" class=\"dataframe\">\n",
       "  <thead>\n",
       "    <tr style=\"text-align: right;\">\n",
       "      <th></th>\n",
       "      <th>Date</th>\n",
       "      <th>Total_Confirmed_Cases</th>\n",
       "      <th>Total_Covid_Related_Deaths</th>\n",
       "      <th>Confirmed_Positive_Cases_Today</th>\n",
       "      <th>Covid_Related_Deaths_Today</th>\n",
       "      <th>FIPS_City_Code</th>\n",
       "      <th>City</th>\n",
       "    </tr>\n",
       "  </thead>\n",
       "  <tbody>\n",
       "    <tr>\n",
       "      <th>0</th>\n",
       "      <td>2023-02-26</td>\n",
       "      <td>1064093</td>\n",
       "      <td>5768</td>\n",
       "      <td>0</td>\n",
       "      <td>0</td>\n",
       "      <td>6073</td>\n",
       "      <td>San Diego</td>\n",
       "    </tr>\n",
       "  </tbody>\n",
       "</table>\n",
       "</div>"
      ],
      "text/plain": [
       "         Date  Total_Confirmed_Cases  Total_Covid_Related_Deaths  \\\n",
       "0  2023-02-26                1064093                        5768   \n",
       "\n",
       "   Confirmed_Positive_Cases_Today  Covid_Related_Deaths_Today  FIPS_City_Code  \\\n",
       "0                               0                           0            6073   \n",
       "\n",
       "        City  \n",
       "0  San Diego  "
      ]
     },
     "execution_count": 36,
     "metadata": {},
     "output_type": "execute_result"
    }
   ],
   "source": [
    "# Transform to query only city related information and information users would need\n",
    "c_query= pd.read_sql(\"\"\" \n",
    "SELECT date as Date,\n",
    "    total_confirmed_cases_city AS Total_Confirmed_Cases,\n",
    "    total_deaths_city AS Total_Covid_Related_Deaths,\n",
    "    confirmed_today_city AS Confirmed_Positive_Cases_Today,\n",
    "    deaths_today_city AS Covid_Related_Deaths_Today,\n",
    "    fips_city_code AS FIPS_City_Code,\n",
    "    city AS City\n",
    "FROM covid;\n",
    " \"\"\", conn)\n",
    " \n",
    "c_query"
   ]
  },
  {
   "cell_type": "code",
   "execution_count": 37,
   "metadata": {},
   "outputs": [],
   "source": [
    "# Export Query as CSV File\n",
    "\n",
    "sql_cdf = pd.DataFrame(c_query)\n",
    "\n",
    "c_sql_csv = sql_cdf.to_csv('Data/c_sql_csv.csv')"
   ]
  },
  {
   "attachments": {},
   "cell_type": "markdown",
   "metadata": {},
   "source": [
    "#### Load CSV Files to S3 Data Storage"
   ]
  },
  {
   "cell_type": "code",
   "execution_count": 38,
   "metadata": {},
   "outputs": [
    {
     "data": {
      "text/plain": [
       "{'ResponseMetadata': {'RequestId': '2S6QJC0C85EMJP57',\n",
       "  'HostId': 'iG8cU6tJ/4djEK5s2CARdMOFzeYTpCvxMYQ+Hyh/uSeoBhZMNSBm/64+T4FnucreeC/2oSRmtuM=',\n",
       "  'HTTPStatusCode': 200,\n",
       "  'HTTPHeaders': {'x-amz-id-2': 'iG8cU6tJ/4djEK5s2CARdMOFzeYTpCvxMYQ+Hyh/uSeoBhZMNSBm/64+T4FnucreeC/2oSRmtuM=',\n",
       "   'x-amz-request-id': '2S6QJC0C85EMJP57',\n",
       "   'date': 'Tue, 28 Feb 2023 04:22:44 GMT',\n",
       "   'x-amz-version-id': 'n5nXkZPpT9kfLQoZ_aU_e1LzYi2MitzM',\n",
       "   'x-amz-server-side-encryption': 'AES256',\n",
       "   'etag': '\"f248dc36763e36d01a197dd51e71b45a\"',\n",
       "   'server': 'AmazonS3',\n",
       "   'content-length': '0'},\n",
       "  'RetryAttempts': 1},\n",
       " 'ETag': '\"f248dc36763e36d01a197dd51e71b45a\"',\n",
       " 'ServerSideEncryption': 'AES256',\n",
       " 'VersionId': 'n5nXkZPpT9kfLQoZ_aU_e1LzYi2MitzM'}"
      ]
     },
     "execution_count": 38,
     "metadata": {},
     "output_type": "execute_result"
    }
   ],
   "source": [
    "# S3 Bucket Name\n",
    "bucket = \"ads507publicsafety\"\n",
    "\n",
    "# Make Connection to S3 for Writing in Data to it\n",
    "s3_open = boto3.client('s3',\n",
    "                        aws_access_key_id = AWS_KEY,\n",
    "                        aws_secret_access_key = AWS_SECRET)\n",
    "a_filename = 'Data/a_sql_csv.csv'\n",
    "w_filename = 'Data/w_sql_csv.csv'\n",
    "c_filename = 'Data/c_sql_csv.csv'\n",
    "a_csv_buffer = sql_adf.to_csv(index=False)\n",
    "w_csv_buffer = sql_wdf.to_csv(index=False)\n",
    "c_csv_buffer = sql_cdf.to_csv(index=False)\n",
    "\n",
    "# Push CSV Files to S3 Bucket\n",
    "s3_open.put_object(Bucket = bucket, Key = a_filename, Body = a_csv_buffer)\n",
    "s3_open.put_object(Bucket = bucket, Key = w_filename, Body = w_csv_buffer)\n",
    "s3_open.put_object(Bucket = bucket, Key = c_filename, Body = c_csv_buffer)"
   ]
  },
  {
   "attachments": {},
   "cell_type": "markdown",
   "metadata": {},
   "source": [
    "Export CSV Files from SQL Queries to Record Keeping Time Logs"
   ]
  },
  {
   "cell_type": "code",
   "execution_count": 39,
   "metadata": {},
   "outputs": [],
   "source": [
    "sql_adf.to_csv(f'Data/SQLCSVTimeLogs/a_csv{datetime.datetime.now().strftime(\"%Y-%m-%d-%H-%M-%S\")}.csv')\n",
    "sql_wdf.to_csv(f'Data/SQLCSVTimeLogs/w_csv{datetime.datetime.now().strftime(\"%Y-%m-%d-%H-%M-%S\")}.csv')\n",
    "sql_cdf.to_csv(f'Data/SQLCSVTimeLogs/c_csv{datetime.datetime.now().strftime(\"%Y-%m-%d-%H-%M-%S\")}.csv')"
   ]
  },
  {
   "attachments": {},
   "cell_type": "markdown",
   "metadata": {},
   "source": [
    "#### Automated E-Mail Feature"
   ]
  },
  {
   "attachments": {},
   "cell_type": "markdown",
   "metadata": {},
   "source": [
    "For any complications with e-mail errors. Please refer to these links. It could be that your e-mail is a school or work email, or does not have 2-Step Authentication turned on. An APP Password is needed if you receive an error.\n",
    "\n",
    "https://support.google.com/accounts/answer/185833?hl=en\n",
    "\n",
    "https://joequery.me/guides/python-smtp-authenticationerror/"
   ]
  },
  {
   "cell_type": "code",
   "execution_count": 40,
   "metadata": {},
   "outputs": [],
   "source": [
    "# Email Password for Sender Email\n",
    "emailpw=epasswd"
   ]
  },
  {
   "cell_type": "code",
   "execution_count": 41,
   "metadata": {},
   "outputs": [],
   "source": [
    "# Set up Connection to Email Parameters\n",
    "smtp_server = \"smtp.gmail.com\"\n",
    "port = 587  # For starttls\n",
    "sender_email = \"khu@sandiego.edu\"\n",
    "recipients = [\"khu@sandiego.edu\", \"gtashchyan@sandiego.edu\", \"tsauerbrey@sandiego.edu\"]\n",
    "password = emailpw\n",
    "\n",
    "message = MIMEMultipart(\"alternative\")\n",
    "message[\"Subject\"] = \"Public Safety Daily Updates\"\n",
    "message[\"From\"] = sender_email\n",
    "message[\"To\"] = \", \".join(recipients)\n"
   ]
  },
  {
   "cell_type": "code",
   "execution_count": 42,
   "metadata": {},
   "outputs": [
    {
     "name": "stdout",
     "output_type": "stream",
     "text": [
      "Email has been sent!\n"
     ]
    }
   ],
   "source": [
    "# Create the plain-text and HTML version of your message\n",
    "text = \"\"\"\\\n",
    "Hello,\n",
    "\n",
    "Here are your daily public safety updates.\n",
    "\"\"\"\n",
    "html = \"\"\"\\\n",
    "<html>\n",
    "  <body>\n",
    "    <p style=\"color:Black;\">Hello,<br><br>\n",
    "       Here are your daily public safety updates.\n",
    "  </body>\n",
    "</html>\n",
    "\"\"\"\n",
    "\n",
    "# Format Output of Air Quality SQL Query to HTML \n",
    "a_html = \"\"\"\\\n",
    "<html>\n",
    "  <head></head>\n",
    "  <body>\n",
    "  <p style=\"color:Black;\"><b>Air Quality and Pollutant Concentration</b></p>\n",
    "    {0}\n",
    "  <br>\n",
    "      <img src=\"https://encrypted-tbn0.gstatic.com/images?q=tbn:ANd9GcSqEWsXN5DNGa97qL9jXCDqoi5KutgfzzWM-w&usqp=CAU\" alt=\"img\" />\n",
    "  <br/>\n",
    "  </body>\n",
    "</html>\n",
    "\"\"\".format(sql_adf.to_html())\n",
    "\n",
    "# Format Output of Weather SQL Query to HTML \n",
    "w_html = \"\"\"\\\n",
    "<html>\n",
    "  <head></head>\n",
    "  <body>\n",
    "  <p style=\"color:Black;\"><b>Weather</b></p>\n",
    "    {0}\n",
    "  <br>\n",
    "  </body>\n",
    "</html>\n",
    "\"\"\".format(sql_wdf.to_html())\n",
    "\n",
    "# Format Output of Covid-19 SQL Query to HTML \n",
    "c_html = \"\"\"\\\n",
    "<html>\n",
    "  <head></head>\n",
    "  <body>\n",
    "  <p style=\"color:Black;\"><b>Covid-19 Statistics</b></p>\n",
    "    {0}\n",
    "  </body>\n",
    "  <br>\n",
    "</html>\n",
    "\"\"\".format(sql_cdf.to_html())\n",
    "\n",
    "# Add Footer for auto-generated email.\n",
    "footer_html = \"\"\"\\\n",
    "<html>\n",
    "  <body>\n",
    "  <br><br>\n",
    "    <p style=\"color:red;\"><b>Please do not reply to this email as it is auto-generated. </b></p>\n",
    "    </p>\n",
    "  </body>\n",
    "</html>\n",
    "\"\"\"\n",
    "\n",
    "# Turn these into plain/html MIMEText objects\n",
    "part1 = MIMEText(text, \"plain\")\n",
    "part2 = MIMEText(html+a_html+w_html+c_html+footer_html, \"html\")\n",
    "\n",
    "# Add HTML/plain-text parts to MIMEMultipart message\n",
    "# The email client will try to render the last part first\n",
    "message.attach(part1)\n",
    "message.attach(part2)\n",
    "\n",
    "# Create secure connection with server and send email\n",
    "context = ssl.create_default_context()\n",
    "with smtplib.SMTP_SSL(\"smtp.gmail.com\", 465, context=context) as server:\n",
    "    server.login(sender_email, emailpw)\n",
    "    server.sendmail(\n",
    "        sender_email, recipients, message.as_string()\n",
    "    )\n",
    "print(\"Email has been sent!\")"
   ]
  },
  {
   "cell_type": "code",
   "execution_count": null,
   "metadata": {},
   "outputs": [],
   "source": []
  }
 ],
 "metadata": {
  "kernelspec": {
   "display_name": "Python 3",
   "language": "python",
   "name": "python3"
  },
  "language_info": {
   "codemirror_mode": {
    "name": "ipython",
    "version": 3
   },
   "file_extension": ".py",
   "mimetype": "text/x-python",
   "name": "python",
   "nbconvert_exporter": "python",
   "pygments_lexer": "ipython3",
   "version": "3.8.9"
  },
  "orig_nbformat": 4,
  "vscode": {
   "interpreter": {
    "hash": "71d0c68ba06236e2f266f7ad49bc5e690fe02a75a02b9cb128e1bd4d2795d1e9"
   }
  }
 },
 "nbformat": 4,
 "nbformat_minor": 2
}
