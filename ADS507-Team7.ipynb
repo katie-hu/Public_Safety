{
 "cells": [
  {
   "cell_type": "code",
   "execution_count": 1,
   "metadata": {},
   "outputs": [],
   "source": [
    "import numpy as np\n",
    "import pandas as pd\n",
    "import pymysql as mysql\n",
    "import matplotlib.pyplot as plt\n",
    "import config\n",
    "import json\n",
    "import requests"
   ]
  },
  {
   "cell_type": "code",
   "execution_count": 3,
   "metadata": {},
   "outputs": [],
   "source": [
    "airquality_key = config.a_key\n",
    "covid_key = config.c_key\n",
    "weather_key = config.w_key"
   ]
  },
  {
   "cell_type": "code",
   "execution_count": 20,
   "metadata": {},
   "outputs": [
    {
     "data": {
      "text/html": [
       "<div>\n",
       "<style scoped>\n",
       "    .dataframe tbody tr th:only-of-type {\n",
       "        vertical-align: middle;\n",
       "    }\n",
       "\n",
       "    .dataframe tbody tr th {\n",
       "        vertical-align: top;\n",
       "    }\n",
       "\n",
       "    .dataframe thead th {\n",
       "        text-align: right;\n",
       "    }\n",
       "</style>\n",
       "<table border=\"1\" class=\"dataframe\">\n",
       "  <thead>\n",
       "    <tr style=\"text-align: right;\">\n",
       "      <th></th>\n",
       "      <th>First Name</th>\n",
       "      <th>Last Name</th>\n",
       "      <th>Address</th>\n",
       "      <th>City</th>\n",
       "      <th>State</th>\n",
       "      <th>Zipcode</th>\n",
       "      <th>Email</th>\n",
       "    </tr>\n",
       "  </thead>\n",
       "  <tbody>\n",
       "    <tr>\n",
       "      <th>0</th>\n",
       "      <td>Katie</td>\n",
       "      <td>Hu</td>\n",
       "      <td>1234 Wallaby Ln</td>\n",
       "      <td>San Diego</td>\n",
       "      <td>CA</td>\n",
       "      <td>92123</td>\n",
       "      <td>khu@sandiego.edu</td>\n",
       "    </tr>\n",
       "    <tr>\n",
       "      <th>1</th>\n",
       "      <td>Trevor</td>\n",
       "      <td>Sauerbrey</td>\n",
       "      <td>3623 Ruette de Ville</td>\n",
       "      <td>San Diego</td>\n",
       "      <td>CA</td>\n",
       "      <td>921230</td>\n",
       "      <td>trevsauer@gmail.com</td>\n",
       "    </tr>\n",
       "    <tr>\n",
       "      <th>2</th>\n",
       "      <td>Grigor</td>\n",
       "      <td>Tashcyan</td>\n",
       "      <td>11426 Aldrich St</td>\n",
       "      <td>Whittier</td>\n",
       "      <td>CA</td>\n",
       "      <td>90606</td>\n",
       "      <td>grigortashchyan@gmail.com</td>\n",
       "    </tr>\n",
       "  </tbody>\n",
       "</table>\n",
       "</div>"
      ],
      "text/plain": [
       "  First Name  Last Name               Address       City State  Zipcode  \\\n",
       "0      Katie         Hu       1234 Wallaby Ln  San Diego    CA    92123   \n",
       "1     Trevor  Sauerbrey  3623 Ruette de Ville  San Diego    CA   921230   \n",
       "2     Grigor   Tashcyan      11426 Aldrich St   Whittier    CA    90606   \n",
       "\n",
       "                       Email  \n",
       "0           khu@sandiego.edu  \n",
       "1        trevsauer@gmail.com  \n",
       "2  grigortashchyan@gmail.com  "
      ]
     },
     "execution_count": 20,
     "metadata": {},
     "output_type": "execute_result"
    }
   ],
   "source": [
    "subscriber_df = pd.read_csv('../Data/Subscriber_Info.csv')\n",
    "subscriber_df"
   ]
  },
  {
   "cell_type": "code",
   "execution_count": 3,
   "metadata": {},
   "outputs": [
    {
     "data": {
      "text/plain": [
       "['San Diego', 'Whittier', 'Brooklyn']"
      ]
     },
     "execution_count": 3,
     "metadata": {},
     "output_type": "execute_result"
    }
   ],
   "source": [
    "city_id = ['San Diego', 'Whittier', 'Brooklyn']\n",
    "city_id"
   ]
  },
  {
   "attachments": {},
   "cell_type": "markdown",
   "metadata": {},
   "source": [
    "Air Quality API"
   ]
  },
  {
   "cell_type": "code",
   "execution_count": 22,
   "metadata": {},
   "outputs": [
    {
     "name": "stdout",
     "output_type": "stream",
     "text": [
      "{\"CO\": {\"concentration\": 297.07, \"aqi\": 3}, \"NO2\": {\"concentration\": 18.34, \"aqi\": 22}, \"O3\": {\"concentration\": 69.38, \"aqi\": 82}, \"SO2\": {\"concentration\": 6.38, \"aqi\": 9}, \"PM2.5\": {\"concentration\": 14.91, \"aqi\": 48}, \"PM10\": {\"concentration\": 16.87, \"aqi\": 15}, \"overall_aqi\": 82}\n"
     ]
    }
   ],
   "source": [
    "url = \"https://air-quality-by-api-ninjas.p.rapidapi.com/v1/airquality\"\n",
    "\n",
    "querystring = {\"city\":city_id}\n",
    "\n",
    "headers = {\n",
    "\t\"X-RapidAPI-Key\": airquality_key,\n",
    "\t\"X-RapidAPI-Host\": \"air-quality-by-api-ninjas.p.rapidapi.com\"\n",
    "}\n",
    "\n",
    "a_response = requests.request(\"GET\", url, headers=headers, params=querystring)\n",
    "\n",
    "print(a_response.text)"
   ]
  },
  {
   "cell_type": "code",
   "execution_count": 24,
   "metadata": {},
   "outputs": [
    {
     "data": {
      "text/html": [
       "<div>\n",
       "<style scoped>\n",
       "    .dataframe tbody tr th:only-of-type {\n",
       "        vertical-align: middle;\n",
       "    }\n",
       "\n",
       "    .dataframe tbody tr th {\n",
       "        vertical-align: top;\n",
       "    }\n",
       "\n",
       "    .dataframe thead th {\n",
       "        text-align: right;\n",
       "    }\n",
       "</style>\n",
       "<table border=\"1\" class=\"dataframe\">\n",
       "  <thead>\n",
       "    <tr style=\"text-align: right;\">\n",
       "      <th></th>\n",
       "      <th>CO</th>\n",
       "      <th>NO2</th>\n",
       "      <th>O3</th>\n",
       "      <th>SO2</th>\n",
       "      <th>PM2.5</th>\n",
       "      <th>PM10</th>\n",
       "      <th>overall_aqi</th>\n",
       "    </tr>\n",
       "  </thead>\n",
       "  <tbody>\n",
       "    <tr>\n",
       "      <th>concentration</th>\n",
       "      <td>297.07</td>\n",
       "      <td>18.34</td>\n",
       "      <td>69.38</td>\n",
       "      <td>6.38</td>\n",
       "      <td>14.91</td>\n",
       "      <td>16.87</td>\n",
       "      <td>82</td>\n",
       "    </tr>\n",
       "    <tr>\n",
       "      <th>aqi</th>\n",
       "      <td>3.00</td>\n",
       "      <td>22.00</td>\n",
       "      <td>82.00</td>\n",
       "      <td>9.00</td>\n",
       "      <td>48.00</td>\n",
       "      <td>15.00</td>\n",
       "      <td>82</td>\n",
       "    </tr>\n",
       "  </tbody>\n",
       "</table>\n",
       "</div>"
      ],
      "text/plain": [
       "                   CO    NO2     O3   SO2  PM2.5   PM10  overall_aqi\n",
       "concentration  297.07  18.34  69.38  6.38  14.91  16.87           82\n",
       "aqi              3.00  22.00  82.00  9.00  48.00  15.00           82"
      ]
     },
     "execution_count": 24,
     "metadata": {},
     "output_type": "execute_result"
    }
   ],
   "source": [
    "# Convert the response to a dictionary\n",
    "a_data = a_response.json()\n",
    "\n",
    "# Create a Pandas dataframe from the dictionary\n",
    "a_df = pd.DataFrame(a_data)\n",
    "a_df"
   ]
  },
  {
   "attachments": {},
   "cell_type": "markdown",
   "metadata": {},
   "source": [
    "Covid-19 API"
   ]
  },
  {
   "cell_type": "code",
   "execution_count": 18,
   "metadata": {},
   "outputs": [
    {
     "name": "stdout",
     "output_type": "stream",
     "text": [
      "{\"data\":[{\"date\":\"2023-02-12\",\"confirmed\":12031907,\"deaths\":100300,\"recovered\":0,\"confirmed_diff\":0,\"deaths_diff\":0,\"recovered_diff\":0,\"last_update\":\"2023-02-13 04:20:44\",\"active\":11931607,\"active_diff\":0,\"fatality_rate\":0.0083,\"region\":{\"iso\":\"USA\",\"name\":\"US\",\"province\":\"California\",\"lat\":\"36.1162\",\"long\":\"-119.6816\",\"cities\":[{\"name\":\"San Diego\",\"date\":\"2023-02-12\",\"fips\":6073,\"lat\":\"33.03484597\",\"long\":\"-116.7365326\",\"confirmed\":1059657,\"deaths\":5745,\"confirmed_diff\":0,\"deaths_diff\":0,\"last_update\":\"2023-02-13 04:20:44\"}]}}]}\n"
     ]
    }
   ],
   "source": [
    "# make the API call\n",
    "# link to documentation: https://rapidapi.com/axisbits-axisbits-default/api/covid-19-statistics/\n",
    "url = \"https://covid-19-statistics.p.rapidapi.com/reports\"\n",
    "\n",
    "# optional parameter selected to querying the API\n",
    "querystring = {\"city_name\":\"San Diego\"}\n",
    "\n",
    "# API credentials\n",
    "headers = {\n",
    "\t\"X-RapidAPI-Key\": covid_key,\n",
    "\t\"X-RapidAPI-Host\": \"covid-19-statistics.p.rapidapi.com\"\n",
    "}\n",
    "\n",
    "# get raw response query from the API\n",
    "c_response = requests.request(\"GET\", url, headers=headers, params=querystring)\n",
    "print(c_response.text)"
   ]
  },
  {
   "cell_type": "code",
   "execution_count": 19,
   "metadata": {},
   "outputs": [
    {
     "data": {
      "text/plain": [
       "{'date_x': '2023-02-12',\n",
       " 'confirmed_x': 12031907,\n",
       " 'deaths_x': 100300,\n",
       " 'recovered': 0,\n",
       " 'confirmed_diff_x': 0,\n",
       " 'deaths_diff_x': 0,\n",
       " 'recovered_diff': 0,\n",
       " 'last_update_x': '2023-02-13 04:20:44',\n",
       " 'active': 11931607,\n",
       " 'active_diff': 0,\n",
       " 'fatality_rate': 0.0083,\n",
       " 'region.iso': 'USA',\n",
       " 'region.name': 'US',\n",
       " 'region.province': 'California',\n",
       " 'region.lat': '36.1162',\n",
       " 'region.long': '-119.6816',\n",
       " 'region.cities': [{'name': 'San Diego',\n",
       "   'date': '2023-02-12',\n",
       "   'fips': 6073,\n",
       "   'lat': '33.03484597',\n",
       "   'long': '-116.7365326',\n",
       "   'confirmed': 1059657,\n",
       "   'deaths': 5745,\n",
       "   'confirmed_diff': 0,\n",
       "   'deaths_diff': 0,\n",
       "   'last_update': '2023-02-13 04:20:44'}],\n",
       " 'name': 'San Diego',\n",
       " 'date_y': '2023-02-12',\n",
       " 'fips': 6073,\n",
       " 'lat': '33.03484597',\n",
       " 'long': '-116.7365326',\n",
       " 'confirmed_y': 1059657,\n",
       " 'deaths_y': 5745,\n",
       " 'confirmed_diff_y': 0,\n",
       " 'deaths_diff_y': 0,\n",
       " 'last_update_y': '2023-02-13 04:20:44'}"
      ]
     },
     "execution_count": 19,
     "metadata": {},
     "output_type": "execute_result"
    }
   ],
   "source": [
    "# Convert the response to a dictionary\n",
    "c_data = c_response.json()\n",
    "\n",
    "# Create a Pandas dataframe from the dictionary\n",
    "c_df = pd.DataFrame(c_data)\n",
    "\n",
    "# Unpack the dictionaries in the column into separate columns\n",
    "df_unpacked = pd.json_normalize(c_df['data'])\n",
    "\n",
    "# merge the new columns back into the original dataframe\n",
    "df_1 = c_df.merge(df_unpacked, left_index=True, right_index=True)\n",
    "\n",
    "# drop the original column containing the dictionaries\n",
    "df_2 = df_1.drop('data', axis=1)\n",
    "\n",
    "# extract the dictionary from region.cities column for flattening\n",
    "col_dic = df_2['region.cities'].iloc[0]\n",
    "\n",
    "# turn the extracted dictionary into its on dataframe \n",
    "flatten_col = pd.DataFrame(col_dic)\n",
    "\n",
    "# merge the two dataframes\n",
    "result = df_2.merge(flatten_col, left_index=True, right_index=True)\n",
    "\n",
    "# show the values of all the columns\n",
    "row_values = result.iloc[0].to_dict()\n",
    "row_values"
   ]
  },
  {
   "attachments": {},
   "cell_type": "markdown",
   "metadata": {},
   "source": [
    "Weather API"
   ]
  },
  {
   "cell_type": "code",
   "execution_count": 20,
   "metadata": {},
   "outputs": [
    {
     "name": "stdout",
     "output_type": "stream",
     "text": [
      "{\"cloud_pct\": 0, \"temp\": 9, \"feels_like\": 5, \"humidity\": 34, \"min_temp\": 7, \"max_temp\": 10, \"wind_speed\": 6.69, \"wind_degrees\": 270, \"sunrise\": 1676289162, \"sunset\": 1676327252}\n"
     ]
    }
   ],
   "source": [
    "url = \"https://weather-by-api-ninjas.p.rapidapi.com/v1/weather\"\n",
    "\n",
    "headers = {\n",
    "\t\"X-RapidAPI-Key\": weather_key,\n",
    "\t\"X-RapidAPI-Host\": \"weather-by-api-ninjas.p.rapidapi.com\"\n",
    "}\n",
    "querystring = {\"city\":city_id}\n",
    "\n",
    "w_response = requests.request(\"GET\", url, headers=headers, params = querystring)\n",
    "\n",
    "print(w_response.text)"
   ]
  },
  {
   "cell_type": "code",
   "execution_count": 25,
   "metadata": {},
   "outputs": [
    {
     "data": {
      "text/html": [
       "<div>\n",
       "<style scoped>\n",
       "    .dataframe tbody tr th:only-of-type {\n",
       "        vertical-align: middle;\n",
       "    }\n",
       "\n",
       "    .dataframe tbody tr th {\n",
       "        vertical-align: top;\n",
       "    }\n",
       "\n",
       "    .dataframe thead th {\n",
       "        text-align: right;\n",
       "    }\n",
       "</style>\n",
       "<table border=\"1\" class=\"dataframe\">\n",
       "  <thead>\n",
       "    <tr style=\"text-align: right;\">\n",
       "      <th></th>\n",
       "      <th>cloud_pct</th>\n",
       "      <th>temp</th>\n",
       "      <th>feels_like</th>\n",
       "      <th>humidity</th>\n",
       "      <th>min_temp</th>\n",
       "      <th>max_temp</th>\n",
       "      <th>wind_speed</th>\n",
       "      <th>wind_degrees</th>\n",
       "      <th>sunrise</th>\n",
       "      <th>sunset</th>\n",
       "    </tr>\n",
       "  </thead>\n",
       "  <tbody>\n",
       "    <tr>\n",
       "      <th>0</th>\n",
       "      <td>0</td>\n",
       "      <td>9</td>\n",
       "      <td>5</td>\n",
       "      <td>34</td>\n",
       "      <td>7</td>\n",
       "      <td>10</td>\n",
       "      <td>6.69</td>\n",
       "      <td>270</td>\n",
       "      <td>1676289162</td>\n",
       "      <td>1676327252</td>\n",
       "    </tr>\n",
       "  </tbody>\n",
       "</table>\n",
       "</div>"
      ],
      "text/plain": [
       "   cloud_pct  temp  feels_like  humidity  min_temp  max_temp  wind_speed  \\\n",
       "0          0     9           5        34         7        10        6.69   \n",
       "\n",
       "   wind_degrees     sunrise      sunset  \n",
       "0           270  1676289162  1676327252  "
      ]
     },
     "execution_count": 25,
     "metadata": {},
     "output_type": "execute_result"
    }
   ],
   "source": [
    "# Convert the response to a dictionary\n",
    "w_data = w_response.json()\n",
    "\n",
    "# Create a Pandas dataframe from the dictionary\n",
    "w_df = pd.DataFrame(w_data, index = [0])\n",
    "w_df"
   ]
  },
  {
   "cell_type": "code",
   "execution_count": null,
   "metadata": {},
   "outputs": [],
   "source": []
  }
 ],
 "metadata": {
  "kernelspec": {
   "display_name": "ADS500B",
   "language": "python",
   "name": "python3"
  },
  "language_info": {
   "codemirror_mode": {
    "name": "ipython",
    "version": 3
   },
   "file_extension": ".py",
   "mimetype": "text/x-python",
   "name": "python",
   "nbconvert_exporter": "python",
   "pygments_lexer": "ipython3",
   "version": "3.9.2"
  },
  "orig_nbformat": 4,
  "vscode": {
   "interpreter": {
    "hash": "ddb46927d1ef75e251eac7da7e5799506bd45f0bba9ac3fec5df7cda6478264c"
   }
  }
 },
 "nbformat": 4,
 "nbformat_minor": 2
}
