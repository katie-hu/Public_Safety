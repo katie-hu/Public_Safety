{
 "cells": [
  {
   "attachments": {},
   "cell_type": "markdown",
   "metadata": {},
   "source": [
    "### **Initial Set Up**"
   ]
  },
  {
   "attachments": {},
   "cell_type": "markdown",
   "metadata": {},
   "source": [
    "Install Necessary Packages"
   ]
  },
  {
   "cell_type": "code",
   "execution_count": 74,
   "metadata": {},
   "outputs": [],
   "source": [
    "import numpy as np\n",
    "import pandas as pd\n",
    "import pymysql as msql\n",
    "import matplotlib.pyplot as plt\n",
    "import config\n",
    "import json\n",
    "import requests\n",
    "import warnings\n",
    "import getpass as gp\n",
    "import mysql.connector as mysql\n",
    "from datetime import datetime\n",
    "from mysql.connector import Error\n",
    "warnings.filterwarnings(\"ignore\", category=DeprecationWarning)"
   ]
  },
  {
   "attachments": {},
   "cell_type": "markdown",
   "metadata": {},
   "source": [
    "Set up config.py file with subscriber keys necessary from APIs to access the information."
   ]
  },
  {
   "cell_type": "code",
   "execution_count": 6,
   "metadata": {},
   "outputs": [],
   "source": [
    "\n",
    "airquality_key = config.a_key\n",
    "covid_key = config.c_key\n",
    "weather_key = config.w_key"
   ]
  },
  {
   "attachments": {},
   "cell_type": "markdown",
   "metadata": {},
   "source": [
    "Password for SQL Connection"
   ]
  },
  {
   "cell_type": "code",
   "execution_count": 7,
   "metadata": {},
   "outputs": [],
   "source": [
    "passwd=gp.getpass('Enter Password:')"
   ]
  },
  {
   "attachments": {},
   "cell_type": "markdown",
   "metadata": {},
   "source": [
    "### **Extract and Transform Data**"
   ]
  },
  {
   "attachments": {},
   "cell_type": "markdown",
   "metadata": {},
   "source": [
    "Insert your City of Choice."
   ]
  },
  {
   "cell_type": "code",
   "execution_count": 134,
   "metadata": {},
   "outputs": [
    {
     "data": {
      "text/plain": [
       "'San Diego'"
      ]
     },
     "execution_count": 134,
     "metadata": {},
     "output_type": "execute_result"
    }
   ],
   "source": [
    "city = 'San Diego'\n",
    "city"
   ]
  },
  {
   "attachments": {},
   "cell_type": "markdown",
   "metadata": {},
   "source": [
    "#### Air Quality API"
   ]
  },
  {
   "cell_type": "code",
   "execution_count": 131,
   "metadata": {},
   "outputs": [
    {
     "name": "stdout",
     "output_type": "stream",
     "text": [
      "{\"CO\": {\"concentration\": 353.81, \"aqi\": 4}, \"NO2\": {\"concentration\": 45.93, \"aqi\": 57}, \"O3\": {\"concentration\": 35.05, \"aqi\": 29}, \"SO2\": {\"concentration\": 11.21, \"aqi\": 16}, \"PM2.5\": {\"concentration\": 4.5, \"aqi\": 14}, \"PM10\": {\"concentration\": 7.05, \"aqi\": 6}, \"overall_aqi\": 57}\n"
     ]
    }
   ],
   "source": [
    "# URL Website of Air Quality API\n",
    "url = \"https://air-quality-by-api-ninjas.p.rapidapi.com/v1/airquality\"\n",
    "\n",
    "# Parameter Input\n",
    "querystring = {\"city\":city}\n",
    "\n",
    "# Pulling in of Host and Subscriber Key\n",
    "headers = {\n",
    "\t\"X-RapidAPI-Key\": airquality_key,\n",
    "\t\"X-RapidAPI-Host\": \"air-quality-by-api-ninjas.p.rapidapi.com\"\n",
    "}\n",
    "\n",
    "# Pull Data using request library\n",
    "a_response = requests.request(\"GET\", url, headers=headers, params=querystring)\n",
    "\n",
    "print(a_response.text)"
   ]
  },
  {
   "cell_type": "code",
   "execution_count": 11,
   "metadata": {},
   "outputs": [],
   "source": [
    "# Convert the response to a dictionary\n",
    "a_data = a_response.json()\n",
    "\n",
    "# Create a Pandas dataframe from the dictionary\n",
    "a_df = pd.DataFrame(a_data)\n",
    "#a_df"
   ]
  },
  {
   "cell_type": "code",
   "execution_count": 32,
   "metadata": {},
   "outputs": [
    {
     "data": {
      "text/html": [
       "<div>\n",
       "<style scoped>\n",
       "    .dataframe tbody tr th:only-of-type {\n",
       "        vertical-align: middle;\n",
       "    }\n",
       "\n",
       "    .dataframe tbody tr th {\n",
       "        vertical-align: top;\n",
       "    }\n",
       "\n",
       "    .dataframe thead th {\n",
       "        text-align: right;\n",
       "    }\n",
       "</style>\n",
       "<table border=\"1\" class=\"dataframe\">\n",
       "  <thead>\n",
       "    <tr style=\"text-align: right;\">\n",
       "      <th></th>\n",
       "      <th>CO</th>\n",
       "      <th>NO2</th>\n",
       "      <th>O3</th>\n",
       "      <th>SO2</th>\n",
       "      <th>PM2.5</th>\n",
       "      <th>PM10</th>\n",
       "      <th>overall_aqi</th>\n",
       "    </tr>\n",
       "  </thead>\n",
       "  <tbody>\n",
       "    <tr>\n",
       "      <th>concentration</th>\n",
       "      <td>283.72</td>\n",
       "      <td>17.99</td>\n",
       "      <td>75.1</td>\n",
       "      <td>3.22</td>\n",
       "      <td>2.23</td>\n",
       "      <td>3.3</td>\n",
       "      <td>100</td>\n",
       "    </tr>\n",
       "  </tbody>\n",
       "</table>\n",
       "</div>"
      ],
      "text/plain": [
       "                   CO    NO2    O3   SO2  PM2.5  PM10  overall_aqi\n",
       "concentration  283.72  17.99  75.1  3.22   2.23   3.3          100"
      ]
     },
     "execution_count": 32,
     "metadata": {},
     "output_type": "execute_result"
    }
   ],
   "source": [
    "# Remove last row as it is not needed.\n",
    "\n",
    "a_df = a_df.drop(a_df.index[-1])\n",
    "a_df"
   ]
  },
  {
   "cell_type": "code",
   "execution_count": 57,
   "metadata": {},
   "outputs": [
    {
     "data": {
      "text/plain": [
       "['CO',\n",
       " 'NO2',\n",
       " 'O3',\n",
       " 'SO2',\n",
       " 'FineParticulateMatter',\n",
       " 'InhalableParticulateMatter',\n",
       " 'Overall_AQI']"
      ]
     },
     "execution_count": 57,
     "metadata": {},
     "output_type": "execute_result"
    }
   ],
   "source": [
    "a_df = a_df.rename(columns={\"PM2.5\":\"FineParticulateMatter\", \"PM10\":\"InhalableParticulateMatter\", \"overall_aqi\":\"Overall_AQI\"})\n"
   ]
  },
  {
   "cell_type": "code",
   "execution_count": 142,
   "metadata": {},
   "outputs": [
    {
     "name": "stdout",
     "output_type": "stream",
     "text": [
      "Variables in Air Quality are: \n",
      " ['CO', 'NO2', 'O3', 'SO2', 'PM2.5', 'PM10', 'overall_aqi']\n",
      "Data Types are: \n",
      " CO             float64\n",
      "NO2            float64\n",
      "O3             float64\n",
      "SO2            float64\n",
      "PM2.5          float64\n",
      "PM10           float64\n",
      "overall_aqi      int64\n",
      "dtype: object\n"
     ]
    }
   ],
   "source": [
    "# List of Columns in Air Quality and Data Types\n",
    "print(\"Variables in Air Quality are: \\n\", list(a_df.columns))\n",
    "print(\"Data Types are: \\n\",a_df.dtypes)"
   ]
  },
  {
   "cell_type": "code",
   "execution_count": 22,
   "metadata": {},
   "outputs": [
    {
     "data": {
      "text/plain": [
       "[(393.87, 50.72, 36.48, 12.99, 8.06, 10.82, 63),\n",
       " (4.0, 63.0, 30.0, 19.0, 26.0, 10.0, 63)]"
      ]
     },
     "execution_count": 22,
     "metadata": {},
     "output_type": "execute_result"
    }
   ],
   "source": [
    "a_dict = a_df.to_dict('records')\n",
    "a_dict\n",
    "\n",
    "a_tuple = [tuple(d.values()) for d in a_dict]\n",
    "a_tuple"
   ]
  },
  {
   "cell_type": "code",
   "execution_count": 58,
   "metadata": {},
   "outputs": [],
   "source": [
    "a_df.to_csv('Data/a_csv.csv')"
   ]
  },
  {
   "attachments": {},
   "cell_type": "markdown",
   "metadata": {},
   "source": [
    "### Covid-19 API"
   ]
  },
  {
   "cell_type": "code",
   "execution_count": 135,
   "metadata": {},
   "outputs": [
    {
     "name": "stdout",
     "output_type": "stream",
     "text": [
      "{\"data\":[{\"date\":\"2023-02-24\",\"confirmed\":12084297,\"deaths\":100816,\"recovered\":0,\"confirmed_diff\":3910,\"deaths_diff\":0,\"recovered_diff\":0,\"last_update\":\"2023-02-25 04:21:00\",\"active\":11983481,\"active_diff\":3910,\"fatality_rate\":0.0083,\"region\":{\"iso\":\"USA\",\"name\":\"US\",\"province\":\"California\",\"lat\":\"36.1162\",\"long\":\"-119.6816\",\"cities\":[{\"name\":\"San Diego\",\"date\":\"2023-02-24\",\"fips\":6073,\"lat\":\"33.03484597\",\"long\":\"-116.7365326\",\"confirmed\":1064093,\"deaths\":5768,\"confirmed_diff\":153,\"deaths_diff\":0,\"last_update\":\"2023-02-25 04:21:00\"}]}}]}\n"
     ]
    }
   ],
   "source": [
    "# make the API call\n",
    "# link to documentation: https://rapidapi.com/axisbits-axisbits-default/api/covid-19-statistics/\n",
    "url = \"https://covid-19-statistics.p.rapidapi.com/reports\"\n",
    "\n",
    "# optional parameter selected to querying the API\n",
    "querystring = {\"city_name\":city}\n",
    "\n",
    "# API credentials\n",
    "headers = {\n",
    "\t\"X-RapidAPI-Key\": covid_key,\n",
    "\t\"X-RapidAPI-Host\": \"covid-19-statistics.p.rapidapi.com\"\n",
    "}\n",
    "\n",
    "# get raw response query from the API\n",
    "c_response = requests.request(\"GET\", url, headers=headers, params=querystring)\n",
    "print(c_response.text)"
   ]
  },
  {
   "cell_type": "code",
   "execution_count": 139,
   "metadata": {},
   "outputs": [
    {
     "data": {
      "text/html": [
       "<div>\n",
       "<style scoped>\n",
       "    .dataframe tbody tr th:only-of-type {\n",
       "        vertical-align: middle;\n",
       "    }\n",
       "\n",
       "    .dataframe tbody tr th {\n",
       "        vertical-align: top;\n",
       "    }\n",
       "\n",
       "    .dataframe thead th {\n",
       "        text-align: right;\n",
       "    }\n",
       "</style>\n",
       "<table border=\"1\" class=\"dataframe\">\n",
       "  <thead>\n",
       "    <tr style=\"text-align: right;\">\n",
       "      <th></th>\n",
       "      <th>date</th>\n",
       "      <th>total_confirmed_cases_state</th>\n",
       "      <th>total_deaths_state</th>\n",
       "      <th>recovered</th>\n",
       "      <th>confirmed_today_state</th>\n",
       "      <th>deaths_today_state</th>\n",
       "      <th>recovered_today_state</th>\n",
       "      <th>fatality_rate_state</th>\n",
       "      <th>country</th>\n",
       "      <th>state</th>\n",
       "      <th>...</th>\n",
       "      <th>state_longitude</th>\n",
       "      <th>city</th>\n",
       "      <th>fips_city_code</th>\n",
       "      <th>city_latitude</th>\n",
       "      <th>city_longitude</th>\n",
       "      <th>total_confirmed_cases_city</th>\n",
       "      <th>total_deaths_city</th>\n",
       "      <th>confirmed_today_city</th>\n",
       "      <th>deaths_today_city</th>\n",
       "      <th>last_API_update</th>\n",
       "    </tr>\n",
       "  </thead>\n",
       "  <tbody>\n",
       "    <tr>\n",
       "      <th>0</th>\n",
       "      <td>2023-02-24</td>\n",
       "      <td>12084297</td>\n",
       "      <td>100816</td>\n",
       "      <td>0</td>\n",
       "      <td>3910</td>\n",
       "      <td>0</td>\n",
       "      <td>0</td>\n",
       "      <td>0.0083</td>\n",
       "      <td>USA</td>\n",
       "      <td>California</td>\n",
       "      <td>...</td>\n",
       "      <td>-119.6816</td>\n",
       "      <td>San Diego</td>\n",
       "      <td>6073</td>\n",
       "      <td>33.03484597</td>\n",
       "      <td>-116.7365326</td>\n",
       "      <td>1064093</td>\n",
       "      <td>5768</td>\n",
       "      <td>153</td>\n",
       "      <td>0</td>\n",
       "      <td>2023-02-25 04:21:00</td>\n",
       "    </tr>\n",
       "  </tbody>\n",
       "</table>\n",
       "<p>1 rows × 21 columns</p>\n",
       "</div>"
      ],
      "text/plain": [
       "         date  total_confirmed_cases_state  total_deaths_state  recovered  \\\n",
       "0  2023-02-24                     12084297              100816          0   \n",
       "\n",
       "   confirmed_today_state  deaths_today_state  recovered_today_state  \\\n",
       "0                   3910                   0                      0   \n",
       "\n",
       "   fatality_rate_state country       state  ... state_longitude       city  \\\n",
       "0               0.0083     USA  California  ...       -119.6816  San Diego   \n",
       "\n",
       "  fips_city_code  city_latitude city_longitude total_confirmed_cases_city  \\\n",
       "0           6073    33.03484597   -116.7365326                    1064093   \n",
       "\n",
       "   total_deaths_city  confirmed_today_city  deaths_today_city  \\\n",
       "0               5768                   153                  0   \n",
       "\n",
       "       last_API_update  \n",
       "0  2023-02-25 04:21:00  \n",
       "\n",
       "[1 rows x 21 columns]"
      ]
     },
     "execution_count": 139,
     "metadata": {},
     "output_type": "execute_result"
    }
   ],
   "source": [
    "# Convert the response to a dictionary\n",
    "c_data = c_response.json()\n",
    "\n",
    "# Create a Pandas dataframe from the dictionary\n",
    "c_df = pd.DataFrame(c_data)\n",
    "\n",
    "# Unpack the dictionaries in the column into separate columns\n",
    "df_unpacked = pd.json_normalize(c_df['data'])\n",
    "\n",
    "# merge the new columns back into the original dataframe\n",
    "df_1 = c_df.merge(df_unpacked, left_index=True, right_index=True)\n",
    "\n",
    "# drop the original column containing the dictionaries\n",
    "df_2 = df_1.drop('data', axis=1)\n",
    "\n",
    "# extract the dictionary from region.cities column for flattening\n",
    "col_dic = df_2['region.cities'].iloc[0]\n",
    "\n",
    "# turn the extracted dictionary into its on dataframe \n",
    "flatten_col = pd.DataFrame(col_dic)\n",
    "\n",
    "# merge the two dataframes\n",
    "result = df_2.merge(flatten_col, left_index=True, right_index=True)\n",
    "\n",
    "# drop columns \n",
    "result.drop(['last_update_x', 'active', 'active_diff', 'region.name', 'region.cities', 'date_y'], axis=1, inplace=True)\n",
    "\n",
    "# rename columns to be more understandable\n",
    "c_df = result.rename(columns={\"date_x\": \"date\", \"confirmed_x\": \"total_confirmed_cases_state\",\"deaths_x\": \"total_deaths_state\", \n",
    "                                         \"confirmed_diff_x\": \"confirmed_today_state\", \"deaths_diff_x\": \"deaths_today_state\",\n",
    "                                        \"recovered_diff\": \"recovered_today_state\", \"fatality_rate\":\"fatality_rate_state\",\"region.iso\":\"country\",\n",
    "                                        \"region.province\": \"state\", \"region.lat\":\"state_latitude\", \"region.long\":\"state_longitude\", \"name\": \"city\",\n",
    "                                        \"fips\":\"fips_city_code\", \"lat\": \"city_latitude\", \"long\": \"city_longitude\", \"confirmed_y\":\"total_confirmed_cases_city\",\n",
    "                                        \"deaths_y\": \"total_deaths_city\", \"confirmed_diff_y\":\"confirmed_today_city\", \"deaths_diff_y\": \"deaths_today_city\",\n",
    "                                        \"last_update_y\": \"last_API_update\"})\n",
    "\n",
    "c_df"
   ]
  },
  {
   "cell_type": "code",
   "execution_count": 140,
   "metadata": {},
   "outputs": [
    {
     "data": {
      "text/plain": [
       "[('2023-02-24',\n",
       "  12084297,\n",
       "  100816,\n",
       "  0,\n",
       "  3910,\n",
       "  0,\n",
       "  0,\n",
       "  0.0083,\n",
       "  'USA',\n",
       "  'California',\n",
       "  '36.1162',\n",
       "  '-119.6816',\n",
       "  'San Diego',\n",
       "  6073,\n",
       "  '33.03484597',\n",
       "  '-116.7365326',\n",
       "  1064093,\n",
       "  5768,\n",
       "  153,\n",
       "  0,\n",
       "  '2023-02-25 04:21:00')]"
      ]
     },
     "execution_count": 140,
     "metadata": {},
     "output_type": "execute_result"
    }
   ],
   "source": [
    "# show the values of all the columns\n",
    "c_dict = c_df.to_dict('records')\n",
    "#c_dict\n",
    "\n",
    "c_tuple = [tuple(d.values()) for d in c_dict]\n",
    "c_tuple"
   ]
  },
  {
   "cell_type": "code",
   "execution_count": 143,
   "metadata": {},
   "outputs": [
    {
     "name": "stdout",
     "output_type": "stream",
     "text": [
      "Variables in Covid-19 are: \n",
      " ['date', 'total_confirmed_cases_state', 'total_deaths_state', 'recovered', 'confirmed_today_state', 'deaths_today_state', 'recovered_today_state', 'fatality_rate_state', 'country', 'state', 'state_latitude', 'state_longitude', 'city', 'fips_city_code', 'city_latitude', 'city_longitude', 'total_confirmed_cases_city', 'total_deaths_city', 'confirmed_today_city', 'deaths_today_city', 'last_API_update']\n",
      "Data Types are: \n",
      " date                            object\n",
      "total_confirmed_cases_state      int64\n",
      "total_deaths_state               int64\n",
      "recovered                        int64\n",
      "confirmed_today_state            int64\n",
      "deaths_today_state               int64\n",
      "recovered_today_state            int64\n",
      "fatality_rate_state            float64\n",
      "country                         object\n",
      "state                           object\n",
      "state_latitude                  object\n",
      "state_longitude                 object\n",
      "city                            object\n",
      "fips_city_code                   int64\n",
      "city_latitude                   object\n",
      "city_longitude                  object\n",
      "total_confirmed_cases_city       int64\n",
      "total_deaths_city                int64\n",
      "confirmed_today_city             int64\n",
      "deaths_today_city                int64\n",
      "last_API_update                 object\n",
      "dtype: object\n"
     ]
    }
   ],
   "source": [
    "# List of Columns in Covid-19 and Data Types\n",
    "print(\"Variables in Covid-19 are: \\n\", list(c_df.columns))\n",
    "print(\"Data Types are: \\n\",c_df.dtypes)"
   ]
  },
  {
   "cell_type": "code",
   "execution_count": 141,
   "metadata": {},
   "outputs": [],
   "source": [
    "c_csv = c_df.to_csv('Data/c_csv.csv')"
   ]
  },
  {
   "attachments": {},
   "cell_type": "markdown",
   "metadata": {},
   "source": [
    "### Weather API"
   ]
  },
  {
   "cell_type": "code",
   "execution_count": 133,
   "metadata": {},
   "outputs": [
    {
     "name": "stdout",
     "output_type": "stream",
     "text": [
      "{\"cloud_pct\": 75, \"temp\": 6, \"feels_like\": 4, \"humidity\": 89, \"min_temp\": 5, \"max_temp\": 8, \"wind_speed\": 2.57, \"wind_degrees\": 0, \"sunrise\": 1677335163, \"sunset\": 1677375883}\n"
     ]
    }
   ],
   "source": [
    "# URL Website of Weather API\n",
    "url = \"https://weather-by-api-ninjas.p.rapidapi.com/v1/weather\"\n",
    "\n",
    "# Pulling of Host and Subscriber Key\n",
    "headers = {\n",
    "\t\"X-RapidAPI-Key\": weather_key,\n",
    "\t\"X-RapidAPI-Host\": \"weather-by-api-ninjas.p.rapidapi.com\"\n",
    "}\n",
    "\n",
    "# Parameter Input\n",
    "querystring = {\"city\": city}\n",
    "\n",
    "# Pull Data using request library\n",
    "w_response = requests.request(\"GET\", url, headers=headers, params = querystring)\n",
    "\n",
    "print(w_response.text)"
   ]
  },
  {
   "cell_type": "code",
   "execution_count": 121,
   "metadata": {},
   "outputs": [],
   "source": [
    "# Convert the response to a dictionary\n",
    "w_data = w_response.json()\n",
    "\n",
    "# Create a Pandas dataframe from the dictionary\n",
    "w_df = pd.DataFrame(w_data, index = [0])"
   ]
  },
  {
   "cell_type": "code",
   "execution_count": 122,
   "metadata": {},
   "outputs": [],
   "source": [
    "# Convert Unix Timestamp to Readable Datetime\n",
    "w_df['sunrise'] = datetime.fromtimestamp(w_df['sunrise']).strftime('%Y-%m-%d %H:%M:%S')\n",
    "w_df['sunset'] = datetime.fromtimestamp(w_df['sunset']).strftime('%Y-%m-%d %H:%M:%S')\n"
   ]
  },
  {
   "cell_type": "code",
   "execution_count": 123,
   "metadata": {},
   "outputs": [],
   "source": [
    "# Convert Temperatures from Celsius to Fahrenheit\n",
    "w_df['temperature'] = w_df.apply(lambda x: (9/5)*x['temp']+32,axis=1)\n",
    "w_df['temp_feels_like'] = w_df.apply(lambda x: (9/5)*x['feels_like']+32,axis=1)\n",
    "w_df['min_temperature'] = w_df.apply(lambda x: (9/5)*x['min_temp']+32,axis=1)\n",
    "w_df['max_temperature'] = w_df.apply(lambda x: (9/5)*x['max_temp']+32,axis=1)"
   ]
  },
  {
   "cell_type": "code",
   "execution_count": 124,
   "metadata": {},
   "outputs": [
    {
     "data": {
      "text/html": [
       "<div>\n",
       "<style scoped>\n",
       "    .dataframe tbody tr th:only-of-type {\n",
       "        vertical-align: middle;\n",
       "    }\n",
       "\n",
       "    .dataframe tbody tr th {\n",
       "        vertical-align: top;\n",
       "    }\n",
       "\n",
       "    .dataframe thead th {\n",
       "        text-align: right;\n",
       "    }\n",
       "</style>\n",
       "<table border=\"1\" class=\"dataframe\">\n",
       "  <thead>\n",
       "    <tr style=\"text-align: right;\">\n",
       "      <th></th>\n",
       "      <th>temperature</th>\n",
       "      <th>temp_feels_like</th>\n",
       "      <th>min_temperature</th>\n",
       "      <th>max_temperature</th>\n",
       "      <th>cloud_pct</th>\n",
       "      <th>humidity</th>\n",
       "      <th>wind_speed</th>\n",
       "      <th>wind_degrees</th>\n",
       "      <th>sunrise</th>\n",
       "      <th>sunset</th>\n",
       "    </tr>\n",
       "  </thead>\n",
       "  <tbody>\n",
       "    <tr>\n",
       "      <th>0</th>\n",
       "      <td>50.0</td>\n",
       "      <td>42.8</td>\n",
       "      <td>44.6</td>\n",
       "      <td>53.6</td>\n",
       "      <td>75</td>\n",
       "      <td>86</td>\n",
       "      <td>8.75</td>\n",
       "      <td>220</td>\n",
       "      <td>2023-02-25 06:21:26</td>\n",
       "      <td>2023-02-25 17:42:19</td>\n",
       "    </tr>\n",
       "  </tbody>\n",
       "</table>\n",
       "</div>"
      ],
      "text/plain": [
       "   temperature  temp_feels_like  min_temperature  max_temperature  cloud_pct  \\\n",
       "0         50.0             42.8             44.6             53.6         75   \n",
       "\n",
       "   humidity  wind_speed  wind_degrees              sunrise  \\\n",
       "0        86        8.75           220  2023-02-25 06:21:26   \n",
       "\n",
       "                sunset  \n",
       "0  2023-02-25 17:42:19  "
      ]
     },
     "execution_count": 124,
     "metadata": {},
     "output_type": "execute_result"
    }
   ],
   "source": [
    "# Preview Dataframe\n",
    "w_df = w_df.iloc[:,[10, 11, 12, 13, 0, 3, 6, 7, 8, 9]]\n",
    "w_df"
   ]
  },
  {
   "cell_type": "code",
   "execution_count": 125,
   "metadata": {},
   "outputs": [
    {
     "name": "stdout",
     "output_type": "stream",
     "text": [
      "Variables in Weather are: \n",
      " ['temperature', 'temp_feels_like', 'min_temperature', 'max_temperature', 'cloud_pct', 'humidity', 'wind_speed', 'wind_degrees', 'sunrise', 'sunset']\n",
      "Data Types are: \n",
      " temperature        float64\n",
      "temp_feels_like    float64\n",
      "min_temperature    float64\n",
      "max_temperature    float64\n",
      "cloud_pct            int64\n",
      "humidity             int64\n",
      "wind_speed         float64\n",
      "wind_degrees         int64\n",
      "sunrise             object\n",
      "sunset              object\n",
      "dtype: object\n"
     ]
    }
   ],
   "source": [
    "# List of Columns in Weather and Data Types\n",
    "print(\"Variables in Weather are: \\n\", list(w_df.columns))\n",
    "print(\"Data Types are: \\n\",w_df.dtypes)"
   ]
  },
  {
   "cell_type": "code",
   "execution_count": 126,
   "metadata": {},
   "outputs": [
    {
     "data": {
      "text/plain": [
       "[(50.0,\n",
       "  42.8,\n",
       "  44.6,\n",
       "  53.6,\n",
       "  75,\n",
       "  86,\n",
       "  8.75,\n",
       "  220,\n",
       "  '2023-02-25 06:21:26',\n",
       "  '2023-02-25 17:42:19')]"
      ]
     },
     "execution_count": 126,
     "metadata": {},
     "output_type": "execute_result"
    }
   ],
   "source": [
    "# Convert to Dictionary\n",
    "w_dict = w_df.to_dict('records')\n",
    "#w_dict\n",
    "\n",
    "# Convert to Tuple for feeding into SQL Table\n",
    "w_tuple = [tuple(d.values()) for d in w_dict]\n",
    "w_tuple"
   ]
  },
  {
   "cell_type": "code",
   "execution_count": 127,
   "metadata": {},
   "outputs": [],
   "source": [
    "w_csv = w_df.to_csv('Data/w_csv.csv')"
   ]
  },
  {
   "attachments": {},
   "cell_type": "markdown",
   "metadata": {},
   "source": [
    "### **Load Python to SQL Database**"
   ]
  },
  {
   "attachments": {},
   "cell_type": "markdown",
   "metadata": {},
   "source": [
    "#### Create Database"
   ]
  },
  {
   "cell_type": "code",
   "execution_count": 19,
   "metadata": {},
   "outputs": [
    {
     "name": "stdout",
     "output_type": "stream",
     "text": [
      "Error while connecting to MySQL 1007 (HY000): Can't create database 'public_safety'; database exists\n"
     ]
    }
   ],
   "source": [
    "# Create New Database\n",
    "try:\n",
    "    conn=mysql.connect(host='localhost',port=int(3306),user='root',passwd=passwd)\n",
    "    if conn.is_connected():\n",
    "        cursor = conn.cursor()\n",
    "        cursor.execute(\"CREATE DATABASE public_safety\")\n",
    "        print(\"Database is created\")\n",
    "except Error as e:\n",
    "    print(\"Error while connecting to MySQL\", e)"
   ]
  },
  {
   "attachments": {},
   "cell_type": "markdown",
   "metadata": {},
   "source": [
    "#### Add Air Quality Table to Public Safety Database"
   ]
  },
  {
   "cell_type": "code",
   "execution_count": 25,
   "metadata": {},
   "outputs": [
    {
     "name": "stdout",
     "output_type": "stream",
     "text": [
      "You're connected to database:  ('public_safety',)\n",
      "Creating Table Air Quality\n",
      "Table is created....\n",
      "Record inserted\n",
      "Table is Complete\n"
     ]
    }
   ],
   "source": [
    "try:\n",
    "    conn=mysql.connect(host='localhost',port=int(3306),user='root',passwd=passwd, database= 'public_safety')\n",
    "    if conn.is_connected():\n",
    "        cursor = conn.cursor()\n",
    "        cursor.execute(\"select database();\")\n",
    "        record = cursor.fetchone()\n",
    "        print(\"You're connected to database: \", record)\n",
    "        cursor.execute('DROP TABLE IF EXISTS air_quality;')\n",
    "        print('Creating Table Air Quality')\n",
    "# in the below line please pass the create table statement which you want #to create\n",
    "        cursor.execute('CREATE TABLE air_quality(CO float, NO2 float, O3 float, SO2 float, FineParticulateMatter float, InhalableParticulateMatter float, Overall_AQI SMALLINT)')\n",
    "        conn.commit()\n",
    "        print(\"Table is created....\")\n",
    "        #loop through the data frame\n",
    "            #here %S means string values \n",
    "        a_sql = 'INSERT INTO air_quality (CO, NO2, O3, SO2, FineParticulateMatter, InhalableParticulateMatter, Overall_AQI) VALUES (%s,%s,%s,%s,%s,%s,%s)'\n",
    "        cursor.executemany(a_sql, a_tuple)\n",
    "        print(\"Record inserted\")\n",
    "            # the connection is not auto committed by default, so we must commit to save our changes\n",
    "        conn.commit()\n",
    "        print(\"Table is Complete\")\n",
    "except Error as e:\n",
    "            print(\"Error while connecting to MySQL\", e)"
   ]
  },
  {
   "cell_type": "code",
   "execution_count": 137,
   "metadata": {},
   "outputs": [
    {
     "data": {
      "text/html": [
       "<div>\n",
       "<style scoped>\n",
       "    .dataframe tbody tr th:only-of-type {\n",
       "        vertical-align: middle;\n",
       "    }\n",
       "\n",
       "    .dataframe tbody tr th {\n",
       "        vertical-align: top;\n",
       "    }\n",
       "\n",
       "    .dataframe thead th {\n",
       "        text-align: right;\n",
       "    }\n",
       "</style>\n",
       "<table border=\"1\" class=\"dataframe\">\n",
       "  <thead>\n",
       "    <tr style=\"text-align: right;\">\n",
       "      <th></th>\n",
       "      <th>CO</th>\n",
       "      <th>NO2</th>\n",
       "      <th>O3</th>\n",
       "      <th>SO2</th>\n",
       "      <th>FineParticulateMatter</th>\n",
       "      <th>InhalableParticulateMatter</th>\n",
       "      <th>Overall_AQI</th>\n",
       "    </tr>\n",
       "  </thead>\n",
       "  <tbody>\n",
       "    <tr>\n",
       "      <th>0</th>\n",
       "      <td>283.72</td>\n",
       "      <td>17.99</td>\n",
       "      <td>75.1</td>\n",
       "      <td>3.22</td>\n",
       "      <td>2.23</td>\n",
       "      <td>3.3</td>\n",
       "      <td>100</td>\n",
       "    </tr>\n",
       "  </tbody>\n",
       "</table>\n",
       "</div>"
      ],
      "text/plain": [
       "       CO    NO2    O3   SO2  FineParticulateMatter  \\\n",
       "0  283.72  17.99  75.1  3.22                   2.23   \n",
       "\n",
       "   InhalableParticulateMatter  Overall_AQI  \n",
       "0                         3.3          100  "
      ]
     },
     "execution_count": 137,
     "metadata": {},
     "output_type": "execute_result"
    }
   ],
   "source": [
    "query_testing= pd.read_sql(\"\"\" \n",
    "SELECT * FROM air_quality;\n",
    " \"\"\", conn)\n",
    " \n",
    "query_testing"
   ]
  },
  {
   "attachments": {},
   "cell_type": "markdown",
   "metadata": {},
   "source": [
    "#### Add Weather Table to Public Safety Database"
   ]
  },
  {
   "cell_type": "code",
   "execution_count": 128,
   "metadata": {},
   "outputs": [
    {
     "name": "stdout",
     "output_type": "stream",
     "text": [
      "You're connected to database:  ('public_safety',)\n",
      "Creating Table Weather\n",
      "Table is created....\n",
      "Record inserted\n",
      "Table is Complete\n"
     ]
    }
   ],
   "source": [
    "try:\n",
    "    conn=mysql.connect(host='localhost',port=int(3306),user='root',passwd=passwd, database= 'public_safety')\n",
    "    if conn.is_connected():\n",
    "        cursor = conn.cursor()\n",
    "        cursor.execute(\"select database();\")\n",
    "        record = cursor.fetchone()\n",
    "        print(\"You're connected to database: \", record)\n",
    "        cursor.execute('DROP TABLE IF EXISTS weather;')\n",
    "        print('Creating Table Weather')\n",
    "# in the below line please pass the create table statement which you want #to create\n",
    "        cursor.execute('CREATE TABLE weather(temperature float, temp_feels_like float, min_temperature float, max_temperature float, cloud_pct SMALLINT, humidity SMALLINT, wind_speed float, wind_degrees SMALLINT, sunrise datetime, sunset datetime)')\n",
    "        conn.commit()\n",
    "        print(\"Table is created....\")\n",
    "        #loop through the data frame\n",
    "            #here %S means string values \n",
    "        w_sql = 'INSERT INTO weather (temperature, temp_feels_like, min_temperature, max_temperature, cloud_pct, humidity, wind_speed, wind_degrees, sunrise, sunset) VALUES (%s,%s,%s,%s,%s,%s,%s,%s,%s,%s)'\n",
    "        cursor.executemany(w_sql, w_tuple)\n",
    "        print(\"Record inserted\")\n",
    "            # the connection is not auto committed by default, so we must commit to save our changes\n",
    "        conn.commit()\n",
    "        print(\"Table is Complete\")\n",
    "except Error as e:\n",
    "            print(\"Error while connecting to MySQL\", e)"
   ]
  },
  {
   "cell_type": "code",
   "execution_count": 129,
   "metadata": {},
   "outputs": [
    {
     "data": {
      "text/html": [
       "<div>\n",
       "<style scoped>\n",
       "    .dataframe tbody tr th:only-of-type {\n",
       "        vertical-align: middle;\n",
       "    }\n",
       "\n",
       "    .dataframe tbody tr th {\n",
       "        vertical-align: top;\n",
       "    }\n",
       "\n",
       "    .dataframe thead th {\n",
       "        text-align: right;\n",
       "    }\n",
       "</style>\n",
       "<table border=\"1\" class=\"dataframe\">\n",
       "  <thead>\n",
       "    <tr style=\"text-align: right;\">\n",
       "      <th></th>\n",
       "      <th>temperature</th>\n",
       "      <th>temp_feels_like</th>\n",
       "      <th>min_temperature</th>\n",
       "      <th>max_temperature</th>\n",
       "      <th>cloud_pct</th>\n",
       "      <th>humidity</th>\n",
       "      <th>wind_speed</th>\n",
       "      <th>wind_degrees</th>\n",
       "      <th>sunrise</th>\n",
       "      <th>sunset</th>\n",
       "    </tr>\n",
       "  </thead>\n",
       "  <tbody>\n",
       "    <tr>\n",
       "      <th>0</th>\n",
       "      <td>50.0</td>\n",
       "      <td>42.8</td>\n",
       "      <td>44.6</td>\n",
       "      <td>53.6</td>\n",
       "      <td>75</td>\n",
       "      <td>86</td>\n",
       "      <td>8.75</td>\n",
       "      <td>220</td>\n",
       "      <td>2023-02-25 06:21:26</td>\n",
       "      <td>2023-02-25 17:42:19</td>\n",
       "    </tr>\n",
       "  </tbody>\n",
       "</table>\n",
       "</div>"
      ],
      "text/plain": [
       "   temperature  temp_feels_like  min_temperature  max_temperature  cloud_pct  \\\n",
       "0         50.0             42.8             44.6             53.6         75   \n",
       "\n",
       "   humidity  wind_speed  wind_degrees             sunrise              sunset  \n",
       "0        86        8.75           220 2023-02-25 06:21:26 2023-02-25 17:42:19  "
      ]
     },
     "execution_count": 129,
     "metadata": {},
     "output_type": "execute_result"
    }
   ],
   "source": [
    "w_query_testing= pd.read_sql(\"\"\" \n",
    "SELECT * FROM weather;\n",
    " \"\"\", conn)\n",
    " \n",
    "w_query_testing"
   ]
  },
  {
   "attachments": {},
   "cell_type": "markdown",
   "metadata": {},
   "source": [
    "#### Add Covid-19 Table to Public Safety Database"
   ]
  },
  {
   "cell_type": "code",
   "execution_count": 148,
   "metadata": {},
   "outputs": [
    {
     "name": "stdout",
     "output_type": "stream",
     "text": [
      "You're connected to database:  ('public_safety',)\n",
      "Creating Table Covid-19\n",
      "Table is created....\n",
      "Record inserted\n",
      "Table is Complete\n"
     ]
    }
   ],
   "source": [
    "try:\n",
    "    conn=mysql.connect(host='localhost',port=int(3306),user='root',passwd=passwd, database= 'public_safety')\n",
    "    if conn.is_connected():\n",
    "        cursor = conn.cursor()\n",
    "        cursor.execute(\"select database();\")\n",
    "        record = cursor.fetchone()\n",
    "        print(\"You're connected to database: \", record)\n",
    "        cursor.execute('DROP TABLE IF EXISTS covid;')\n",
    "        print('Creating Table Covid-19')\n",
    "# in the below line please pass the create table statement which you want #to create\n",
    "        cursor.execute('CREATE TABLE covid(date date, total_confirmed_cases_state INT, total_deaths_state INT, recovered INT, confirmed_today_state INT, deaths_today_state INT, recovered_today_state INT, fatality_rate_state float, country text, state text, state_latitude float, state_longitude float, city text, fips_city_code INT, city_latitude float, city_longitude float, total_confirmed_cases_city INT, total_deaths_city INT, confirmed_today_city INT, deaths_today_city INT, last_API_update datetime)')\n",
    "        conn.commit()\n",
    "        print(\"Table is created....\")\n",
    "        #loop through the data frame\n",
    "            #here %S means string values \n",
    "        c_sql = 'INSERT INTO covid (date, total_confirmed_cases_state, total_deaths_state, recovered, confirmed_today_state, deaths_today_state, recovered_today_state, fatality_rate_state, country, state, state_latitude, state_longitude, city, fips_city_code, city_latitude, city_longitude, total_confirmed_cases_city, total_deaths_city, confirmed_today_city, deaths_today_city, last_API_update) VALUES (%s,%s,%s,%s,%s,%s,%s,%s,%s,%s,%s,%s,%s,%s,%s,%s,%s,%s,%s,%s,%s)'\n",
    "        cursor.executemany(c_sql, c_tuple)\n",
    "        print(\"Record inserted\")\n",
    "            # the connection is not auto committed by default, so we must commit to save our changes\n",
    "        conn.commit()\n",
    "        print(\"Table is Complete\")\n",
    "except Error as e:\n",
    "            print(\"Error while connecting to MySQL\", e)"
   ]
  },
  {
   "cell_type": "code",
   "execution_count": 149,
   "metadata": {},
   "outputs": [
    {
     "data": {
      "text/html": [
       "<div>\n",
       "<style scoped>\n",
       "    .dataframe tbody tr th:only-of-type {\n",
       "        vertical-align: middle;\n",
       "    }\n",
       "\n",
       "    .dataframe tbody tr th {\n",
       "        vertical-align: top;\n",
       "    }\n",
       "\n",
       "    .dataframe thead th {\n",
       "        text-align: right;\n",
       "    }\n",
       "</style>\n",
       "<table border=\"1\" class=\"dataframe\">\n",
       "  <thead>\n",
       "    <tr style=\"text-align: right;\">\n",
       "      <th></th>\n",
       "      <th>date</th>\n",
       "      <th>total_confirmed_cases_state</th>\n",
       "      <th>total_deaths_state</th>\n",
       "      <th>recovered</th>\n",
       "      <th>confirmed_today_state</th>\n",
       "      <th>deaths_today_state</th>\n",
       "      <th>recovered_today_state</th>\n",
       "      <th>fatality_rate_state</th>\n",
       "      <th>country</th>\n",
       "      <th>state</th>\n",
       "      <th>...</th>\n",
       "      <th>state_longitude</th>\n",
       "      <th>city</th>\n",
       "      <th>fips_city_code</th>\n",
       "      <th>city_latitude</th>\n",
       "      <th>city_longitude</th>\n",
       "      <th>total_confirmed_cases_city</th>\n",
       "      <th>total_deaths_city</th>\n",
       "      <th>confirmed_today_city</th>\n",
       "      <th>deaths_today_city</th>\n",
       "      <th>last_API_update</th>\n",
       "    </tr>\n",
       "  </thead>\n",
       "  <tbody>\n",
       "    <tr>\n",
       "      <th>0</th>\n",
       "      <td>2023-02-24</td>\n",
       "      <td>12084297</td>\n",
       "      <td>100816</td>\n",
       "      <td>0</td>\n",
       "      <td>3910</td>\n",
       "      <td>0</td>\n",
       "      <td>0</td>\n",
       "      <td>0.0083</td>\n",
       "      <td>USA</td>\n",
       "      <td>California</td>\n",
       "      <td>...</td>\n",
       "      <td>-119.682</td>\n",
       "      <td>San Diego</td>\n",
       "      <td>6073</td>\n",
       "      <td>33.0348</td>\n",
       "      <td>-116.737</td>\n",
       "      <td>1064093</td>\n",
       "      <td>5768</td>\n",
       "      <td>153</td>\n",
       "      <td>0</td>\n",
       "      <td>2023-02-25 04:21:00</td>\n",
       "    </tr>\n",
       "  </tbody>\n",
       "</table>\n",
       "<p>1 rows × 21 columns</p>\n",
       "</div>"
      ],
      "text/plain": [
       "         date  total_confirmed_cases_state  total_deaths_state  recovered  \\\n",
       "0  2023-02-24                     12084297              100816          0   \n",
       "\n",
       "   confirmed_today_state  deaths_today_state  recovered_today_state  \\\n",
       "0                   3910                   0                      0   \n",
       "\n",
       "   fatality_rate_state country       state  ...  state_longitude       city  \\\n",
       "0               0.0083     USA  California  ...         -119.682  San Diego   \n",
       "\n",
       "  fips_city_code  city_latitude  city_longitude  total_confirmed_cases_city  \\\n",
       "0           6073        33.0348        -116.737                     1064093   \n",
       "\n",
       "   total_deaths_city  confirmed_today_city  deaths_today_city  \\\n",
       "0               5768                   153                  0   \n",
       "\n",
       "      last_API_update  \n",
       "0 2023-02-25 04:21:00  \n",
       "\n",
       "[1 rows x 21 columns]"
      ]
     },
     "execution_count": 149,
     "metadata": {},
     "output_type": "execute_result"
    }
   ],
   "source": [
    "c_query_testing= pd.read_sql(\"\"\" \n",
    "SELECT * FROM covid;\n",
    " \"\"\", conn)\n",
    " \n",
    "c_query_testing"
   ]
  }
 ],
 "metadata": {
  "kernelspec": {
   "display_name": "ADS500B",
   "language": "python",
   "name": "python3"
  },
  "language_info": {
   "codemirror_mode": {
    "name": "ipython",
    "version": 3
   },
   "file_extension": ".py",
   "mimetype": "text/x-python",
   "name": "python",
   "nbconvert_exporter": "python",
   "pygments_lexer": "ipython3",
   "version": "3.9.2"
  },
  "orig_nbformat": 4,
  "vscode": {
   "interpreter": {
    "hash": "ddb46927d1ef75e251eac7da7e5799506bd45f0bba9ac3fec5df7cda6478264c"
   }
  }
 },
 "nbformat": 4,
 "nbformat_minor": 2
}
