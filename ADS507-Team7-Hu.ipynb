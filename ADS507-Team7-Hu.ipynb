{
 "cells": [
  {
   "cell_type": "code",
   "execution_count": 49,
   "metadata": {},
   "outputs": [],
   "source": [
    "import numpy as np\n",
    "import pandas as pd\n",
    "import pymysql as mysql\n",
    "import matplotlib.pyplot as plt\n",
    "import config\n",
    "import json\n",
    "import requests"
   ]
  },
  {
   "cell_type": "code",
   "execution_count": 50,
   "metadata": {},
   "outputs": [],
   "source": [
    "airquality_key = config.a_key"
   ]
  },
  {
   "cell_type": "code",
   "execution_count": 37,
   "metadata": {},
   "outputs": [
    {
     "data": {
      "text/plain": [
       "['San Diego', 'Whittier', 'Brooklyn']"
      ]
     },
     "execution_count": 37,
     "metadata": {},
     "output_type": "execute_result"
    }
   ],
   "source": [
    "city_id = ['San Diego', 'Whittier', 'Brooklyn']\n",
    "city_id"
   ]
  },
  {
   "cell_type": "code",
   "execution_count": 57,
   "metadata": {},
   "outputs": [
    {
     "name": "stdout",
     "output_type": "stream",
     "text": [
      "{\"CO\": {\"concentration\": 700.95, \"aqi\": 7}, \"NO2\": {\"concentration\": 91.85, \"aqi\": 106}, \"O3\": {\"concentration\": 0.05, \"aqi\": 0}, \"SO2\": {\"concentration\": 11.21, \"aqi\": 16}, \"PM2.5\": {\"concentration\": 50.1, \"aqi\": 119}, \"PM10\": {\"concentration\": 60.94, \"aqi\": 53}, \"overall_aqi\": 119}\n"
     ]
    }
   ],
   "source": [
    "url = \"https://air-quality-by-api-ninjas.p.rapidapi.com/v1/airquality\"\n",
    "\n",
    "querystring = {\"city\":city_id}\n",
    "\n",
    "headers = {\n",
    "\t\"X-RapidAPI-Key\": airquality_key,\n",
    "\t\"X-RapidAPI-Host\": \"air-quality-by-api-ninjas.p.rapidapi.com\"\n",
    "}\n",
    "\n",
    "response = requests.request(\"GET\", url, headers=headers, params=querystring)\n",
    "\n",
    "print(response.text)"
   ]
  },
  {
   "cell_type": "code",
   "execution_count": 61,
   "metadata": {},
   "outputs": [
    {
     "data": {
      "text/html": [
       "<div>\n",
       "<style scoped>\n",
       "    .dataframe tbody tr th:only-of-type {\n",
       "        vertical-align: middle;\n",
       "    }\n",
       "\n",
       "    .dataframe tbody tr th {\n",
       "        vertical-align: top;\n",
       "    }\n",
       "\n",
       "    .dataframe thead th {\n",
       "        text-align: right;\n",
       "    }\n",
       "</style>\n",
       "<table border=\"1\" class=\"dataframe\">\n",
       "  <thead>\n",
       "    <tr style=\"text-align: right;\">\n",
       "      <th></th>\n",
       "      <th>CO</th>\n",
       "      <th>NO2</th>\n",
       "      <th>O3</th>\n",
       "      <th>SO2</th>\n",
       "      <th>PM2.5</th>\n",
       "      <th>PM10</th>\n",
       "      <th>overall_aqi</th>\n",
       "    </tr>\n",
       "  </thead>\n",
       "  <tbody>\n",
       "    <tr>\n",
       "      <th>concentration</th>\n",
       "      <td>700.95</td>\n",
       "      <td>91.85</td>\n",
       "      <td>0.05</td>\n",
       "      <td>11.21</td>\n",
       "      <td>50.1</td>\n",
       "      <td>60.94</td>\n",
       "      <td>119</td>\n",
       "    </tr>\n",
       "    <tr>\n",
       "      <th>aqi</th>\n",
       "      <td>7.00</td>\n",
       "      <td>106.00</td>\n",
       "      <td>0.00</td>\n",
       "      <td>16.00</td>\n",
       "      <td>119.0</td>\n",
       "      <td>53.00</td>\n",
       "      <td>119</td>\n",
       "    </tr>\n",
       "  </tbody>\n",
       "</table>\n",
       "</div>"
      ],
      "text/plain": [
       "                   CO     NO2    O3    SO2  PM2.5   PM10  overall_aqi\n",
       "concentration  700.95   91.85  0.05  11.21   50.1  60.94          119\n",
       "aqi              7.00  106.00  0.00  16.00  119.0  53.00          119"
      ]
     },
     "execution_count": 61,
     "metadata": {},
     "output_type": "execute_result"
    }
   ],
   "source": [
    "# Convert the response to a dictionary\n",
    "data = response.json()\n",
    "\n",
    "# Create a Pandas dataframe from the dictionary\n",
    "df = pd.DataFrame(data)\n",
    "df"
   ]
  },
  {
   "attachments": {},
   "cell_type": "markdown",
   "metadata": {},
   "source": [
    "**Troubleshooting loop for city**"
   ]
  },
  {
   "cell_type": "code",
   "execution_count": 54,
   "metadata": {},
   "outputs": [
    {
     "data": {
      "text/plain": [
       "[{'CO': {'concentration': 1441.96, 'aqi': 16},\n",
       "  'NO2': {'concentration': 126.12, 'aqi': 126},\n",
       "  'O3': {'concentration': 0.02, 'aqi': 0},\n",
       "  'SO2': {'concentration': 24.56, 'aqi': 36},\n",
       "  'PM2.5': {'concentration': 92.87, 'aqi': 166},\n",
       "  'PM10': {'concentration': 115.28, 'aqi': 80},\n",
       "  'overall_aqi': 166},\n",
       " {'CO': {'concentration': 1441.96, 'aqi': 16},\n",
       "  'NO2': {'concentration': 126.12, 'aqi': 126},\n",
       "  'O3': {'concentration': 0.02, 'aqi': 0},\n",
       "  'SO2': {'concentration': 24.56, 'aqi': 36},\n",
       "  'PM2.5': {'concentration': 92.87, 'aqi': 166},\n",
       "  'PM10': {'concentration': 115.28, 'aqi': 80},\n",
       "  'overall_aqi': 166},\n",
       " {'CO': {'concentration': 1441.96, 'aqi': 16},\n",
       "  'NO2': {'concentration': 126.12, 'aqi': 126},\n",
       "  'O3': {'concentration': 0.02, 'aqi': 0},\n",
       "  'SO2': {'concentration': 24.56, 'aqi': 36},\n",
       "  'PM2.5': {'concentration': 92.87, 'aqi': 166},\n",
       "  'PM10': {'concentration': 115.28, 'aqi': 80},\n",
       "  'overall_aqi': 166}]"
      ]
     },
     "execution_count": 54,
     "metadata": {},
     "output_type": "execute_result"
    }
   ],
   "source": [
    "url = \"https://air-quality-by-api-ninjas.p.rapidapi.com/v1/airquality/\"\n",
    "querystring = {\"Seattle\"}\n",
    "response_list = []\n",
    "for x in city_id:\n",
    "    headers = {\n",
    "        \"X-RapidAPI-Key\": airquality_key,\n",
    "        \"X-RapidAPI-Host\": \"air-quality-by-api-ninjas.p.rapidapi.com\"\n",
    "        }\n",
    "    parameters = {\n",
    "        \"city\": city_id\n",
    "        }\n",
    "    response = requests.request(\"GET\", url, headers=headers, params = parameters)\n",
    "    response_list.append(response.json())\n",
    "\n",
    "response_list"
   ]
  },
  {
   "cell_type": "code",
   "execution_count": 53,
   "metadata": {},
   "outputs": [
    {
     "name": "stdout",
     "output_type": "stream",
     "text": [
      "{\"CO\": {\"concentration\": 1441.96, \"aqi\": 16}, \"NO2\": {\"concentration\": 126.12, \"aqi\": 126}, \"O3\": {\"concentration\": 0.02, \"aqi\": 0}, \"SO2\": {\"concentration\": 24.56, \"aqi\": 36}, \"PM2.5\": {\"concentration\": 92.87, \"aqi\": 166}, \"PM10\": {\"concentration\": 115.28, \"aqi\": 80}, \"overall_aqi\": 166}\n",
      "{\"CO\": {\"concentration\": 1441.96, \"aqi\": 16}, \"NO2\": {\"concentration\": 126.12, \"aqi\": 126}, \"O3\": {\"concentration\": 0.02, \"aqi\": 0}, \"SO2\": {\"concentration\": 24.56, \"aqi\": 36}, \"PM2.5\": {\"concentration\": 92.87, \"aqi\": 166}, \"PM10\": {\"concentration\": 115.28, \"aqi\": 80}, \"overall_aqi\": 166}\n",
      "{\"CO\": {\"concentration\": 1441.96, \"aqi\": 16}, \"NO2\": {\"concentration\": 126.12, \"aqi\": 126}, \"O3\": {\"concentration\": 0.02, \"aqi\": 0}, \"SO2\": {\"concentration\": 24.56, \"aqi\": 36}, \"PM2.5\": {\"concentration\": 92.87, \"aqi\": 166}, \"PM10\": {\"concentration\": 115.28, \"aqi\": 80}, \"overall_aqi\": 166}\n"
     ]
    }
   ],
   "source": [
    "url = \"https://air-quality-by-api-ninjas.p.rapidapi.com/v1/airquality\"\n",
    "\n",
    "querystring = {\"city\":\"Seattle\", \"city\":\"Brooklyn\"}\n",
    "\n",
    "#city_id = ['San Diego', 'Whittier', 'Brooklyn']\n",
    "\n",
    "headers = {\n",
    "\t\"X-RapidAPI-Key\": airquality_key,\n",
    "\t\"X-RapidAPI-Host\": \"air-quality-by-api-ninjas.p.rapidapi.com\"\n",
    "\t}\n",
    "parameters = {\n",
    "\t\"city\": city_id\n",
    "\t}\n",
    "\n",
    "for x in city_id:\n",
    "\tresponse = requests.request(\"GET\", url, headers=headers, params=querystring)\n",
    "\tprint(response.text)"
   ]
  },
  {
   "cell_type": "code",
   "execution_count": 52,
   "metadata": {},
   "outputs": [
    {
     "name": "stdout",
     "output_type": "stream",
     "text": [
      "{\"CO\": {\"concentration\": 1441.96, \"aqi\": 16}, \"NO2\": {\"concentration\": 126.12, \"aqi\": 126}, \"O3\": {\"concentration\": 0.02, \"aqi\": 0}, \"SO2\": {\"concentration\": 24.56, \"aqi\": 36}, \"PM2.5\": {\"concentration\": 92.87, \"aqi\": 166}, \"PM10\": {\"concentration\": 115.28, \"aqi\": 80}, \"overall_aqi\": 166}\n",
      "{\"CO\": {\"concentration\": 1441.96, \"aqi\": 16}, \"NO2\": {\"concentration\": 126.12, \"aqi\": 126}, \"O3\": {\"concentration\": 0.02, \"aqi\": 0}, \"SO2\": {\"concentration\": 24.56, \"aqi\": 36}, \"PM2.5\": {\"concentration\": 92.87, \"aqi\": 166}, \"PM10\": {\"concentration\": 115.28, \"aqi\": 80}, \"overall_aqi\": 166}\n",
      "{\"CO\": {\"concentration\": 1441.96, \"aqi\": 16}, \"NO2\": {\"concentration\": 126.12, \"aqi\": 126}, \"O3\": {\"concentration\": 0.02, \"aqi\": 0}, \"SO2\": {\"concentration\": 24.56, \"aqi\": 36}, \"PM2.5\": {\"concentration\": 92.87, \"aqi\": 166}, \"PM10\": {\"concentration\": 115.28, \"aqi\": 80}, \"overall_aqi\": 166}\n"
     ]
    }
   ],
   "source": [
    "querystring = {\"city\": city_id}\n",
    "city_id = ['San Diego', 'Whittier', 'Brooklyn']\n",
    "\n",
    "for x in city_id:\n",
    "\tresponse = requests.request(\"GET\", url, headers=headers, params = querystring)\n",
    "\tprint(response.text)"
   ]
  }
 ],
 "metadata": {
  "kernelspec": {
   "display_name": "ADS500B",
   "language": "python",
   "name": "python3"
  },
  "language_info": {
   "codemirror_mode": {
    "name": "ipython",
    "version": 3
   },
   "file_extension": ".py",
   "mimetype": "text/x-python",
   "name": "python",
   "nbconvert_exporter": "python",
   "pygments_lexer": "ipython3",
   "version": "3.9.2"
  },
  "orig_nbformat": 4,
  "vscode": {
   "interpreter": {
    "hash": "ddb46927d1ef75e251eac7da7e5799506bd45f0bba9ac3fec5df7cda6478264c"
   }
  }
 },
 "nbformat": 4,
 "nbformat_minor": 2
}
