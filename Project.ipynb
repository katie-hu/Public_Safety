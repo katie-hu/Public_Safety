{
 "cells": [
  {
   "cell_type": "code",
   "execution_count": 1,
   "metadata": {},
   "outputs": [],
   "source": [
    "import numpy as np\n",
    "import pandas as pd\n",
    "import pymysql as mysql\n",
    "import matplotlib.pyplot as plt\n",
    "import config as config\n",
    "import json\n",
    "import requests\n",
    "\n",
    "\n"
   ]
  },
  {
   "cell_type": "code",
   "execution_count": 2,
   "metadata": {},
   "outputs": [],
   "source": [
    "weather_key = config.w_key"
   ]
  },
  {
   "cell_type": "code",
   "execution_count": 3,
   "metadata": {},
   "outputs": [
    {
     "data": {
      "text/plain": [
       "['San Diego', 'Whittier', 'Brooklyn']"
      ]
     },
     "execution_count": 3,
     "metadata": {},
     "output_type": "execute_result"
    }
   ],
   "source": [
    "city_id = ['San Diego', 'Whittier', 'Brooklyn']\n",
    "city_id"
   ]
  },
  {
   "cell_type": "code",
   "execution_count": 12,
   "metadata": {},
   "outputs": [
    {
     "name": "stdout",
     "output_type": "stream",
     "text": [
      "{\"cloud_pct\": 0, \"temp\": 9, \"feels_like\": 5, \"humidity\": 34, \"min_temp\": 7, \"max_temp\": 10, \"wind_speed\": 6.69, \"wind_degrees\": 270, \"sunrise\": 1676289162, \"sunset\": 1676327252}\n"
     ]
    }
   ],
   "source": [
    "import requests\n",
    "\n",
    "url = \"https://weather-by-api-ninjas.p.rapidapi.com/v1/weather\"\n",
    "\n",
    "querystring = {\"city\":city_id}\n",
    "\n",
    "headers = {\n",
    "\t\"X-RapidAPI-Key\": weather_key,\n",
    "\t\"X-RapidAPI-Host\": \"weather-by-api-ninjas.p.rapidapi.com\"\n",
    "}\n",
    "\n",
    "response = requests.request(\"GET\", url, headers=headers, params=querystring)\n",
    "\n",
    "print(response.text)"
   ]
  },
  {
   "cell_type": "code",
   "execution_count": 14,
   "metadata": {},
   "outputs": [
    {
     "data": {
      "text/html": [
       "<div>\n",
       "<style scoped>\n",
       "    .dataframe tbody tr th:only-of-type {\n",
       "        vertical-align: middle;\n",
       "    }\n",
       "\n",
       "    .dataframe tbody tr th {\n",
       "        vertical-align: top;\n",
       "    }\n",
       "\n",
       "    .dataframe thead th {\n",
       "        text-align: right;\n",
       "    }\n",
       "</style>\n",
       "<table border=\"1\" class=\"dataframe\">\n",
       "  <thead>\n",
       "    <tr style=\"text-align: right;\">\n",
       "      <th></th>\n",
       "      <th>cloud_pct</th>\n",
       "      <th>temp</th>\n",
       "      <th>feels_like</th>\n",
       "      <th>humidity</th>\n",
       "      <th>min_temp</th>\n",
       "      <th>max_temp</th>\n",
       "      <th>wind_speed</th>\n",
       "      <th>wind_degrees</th>\n",
       "      <th>sunrise</th>\n",
       "      <th>sunset</th>\n",
       "    </tr>\n",
       "  </thead>\n",
       "  <tbody>\n",
       "    <tr>\n",
       "      <th>0</th>\n",
       "      <td>0</td>\n",
       "      <td>9</td>\n",
       "      <td>5</td>\n",
       "      <td>34</td>\n",
       "      <td>7</td>\n",
       "      <td>10</td>\n",
       "      <td>6.69</td>\n",
       "      <td>270</td>\n",
       "      <td>1676289162</td>\n",
       "      <td>1676327252</td>\n",
       "    </tr>\n",
       "  </tbody>\n",
       "</table>\n",
       "</div>"
      ],
      "text/plain": [
       "   cloud_pct  temp  feels_like  humidity  min_temp  max_temp  wind_speed  \\\n",
       "0          0     9           5        34         7        10        6.69   \n",
       "\n",
       "   wind_degrees     sunrise      sunset  \n",
       "0           270  1676289162  1676327252  "
      ]
     },
     "execution_count": 14,
     "metadata": {},
     "output_type": "execute_result"
    }
   ],
   "source": [
    "# Convert the response to a dictionary\n",
    "data = response.json()\n",
    "\n",
    "# Create a Pandas dataframe from the dictionary\n",
    "df = pd.DataFrame(data, index =[0])\n",
    "df"
   ]
  },
  {
   "cell_type": "code",
   "execution_count": 16,
   "metadata": {},
   "outputs": [
    {
     "data": {
      "text/plain": [
       "[{'cloud_pct': 0,\n",
       "  'temp': 9,\n",
       "  'feels_like': 5,\n",
       "  'humidity': 34,\n",
       "  'min_temp': 7,\n",
       "  'max_temp': 10,\n",
       "  'wind_speed': 6.69,\n",
       "  'wind_degrees': 270,\n",
       "  'sunrise': 1676289162,\n",
       "  'sunset': 1676327252},\n",
       " {'cloud_pct': 0,\n",
       "  'temp': 9,\n",
       "  'feels_like': 5,\n",
       "  'humidity': 34,\n",
       "  'min_temp': 7,\n",
       "  'max_temp': 10,\n",
       "  'wind_speed': 6.69,\n",
       "  'wind_degrees': 270,\n",
       "  'sunrise': 1676289162,\n",
       "  'sunset': 1676327252},\n",
       " {'cloud_pct': 0,\n",
       "  'temp': 9,\n",
       "  'feels_like': 5,\n",
       "  'humidity': 34,\n",
       "  'min_temp': 7,\n",
       "  'max_temp': 10,\n",
       "  'wind_speed': 6.69,\n",
       "  'wind_degrees': 270,\n",
       "  'sunrise': 1676289162,\n",
       "  'sunset': 1676327252}]"
      ]
     },
     "execution_count": 16,
     "metadata": {},
     "output_type": "execute_result"
    }
   ],
   "source": [
    "url = \"https://weather-by-api-ninjas.p.rapidapi.com/v1/weather\"\n",
    "querystring = {\"Tokyo\"}\n",
    "response_list = []\n",
    "for x in city_id:\n",
    "    headers = {\n",
    "        \"X-RapidAPI-Key\": weather_key,\n",
    "        \"X-RapidAPI-Host\": \"weather-by-api-ninjas.p.rapidapi.com\"\n",
    "        }\n",
    "    parameters = {\n",
    "        \"city\": city_id\n",
    "        }\n",
    "    response = requests.request(\"GET\", url, headers=headers, params = parameters)\n",
    "    response_list.append(response.json())\n",
    "\n",
    "response_list"
   ]
  },
  {
   "cell_type": "code",
   "execution_count": 17,
   "metadata": {},
   "outputs": [
    {
     "name": "stdout",
     "output_type": "stream",
     "text": [
      "{\"cloud_pct\": 0, \"temp\": 9, \"feels_like\": 5, \"humidity\": 34, \"min_temp\": 7, \"max_temp\": 10, \"wind_speed\": 6.69, \"wind_degrees\": 270, \"sunrise\": 1676289162, \"sunset\": 1676327252}\n",
      "{\"cloud_pct\": 0, \"temp\": 9, \"feels_like\": 5, \"humidity\": 34, \"min_temp\": 7, \"max_temp\": 10, \"wind_speed\": 6.69, \"wind_degrees\": 270, \"sunrise\": 1676289162, \"sunset\": 1676327252}\n",
      "{\"cloud_pct\": 0, \"temp\": 9, \"feels_like\": 5, \"humidity\": 34, \"min_temp\": 7, \"max_temp\": 10, \"wind_speed\": 6.69, \"wind_degrees\": 270, \"sunrise\": 1676289162, \"sunset\": 1676327252}\n"
     ]
    }
   ],
   "source": [
    "url = \"https://weather-by-api-ninjas.p.rapidapi.com/v1/weather\"\n",
    "\n",
    "querystring = {\"city\":\"Seattle\", \"city\":\"Brooklyn\"}\n",
    "\n",
    "#city_id = ['San Diego', 'Whittier', 'Brooklyn']\n",
    "\n",
    "headers = {\n",
    "\t\"X-RapidAPI-Key\": weather_key,\n",
    "\t\"X-RapidAPI-Host\": \"weather-by-api-ninjas.p.rapidapi.com\"\n",
    "\t}\n",
    "parameters = {\n",
    "\t\"city\": city_id\n",
    "\t}\n",
    "\n",
    "for x in city_id:\n",
    "\tresponse = requests.request(\"GET\", url, headers=headers, params=querystring)\n",
    "\tprint(response.text)"
   ]
  }
 ],
 "metadata": {
  "kernelspec": {
   "display_name": "Python 3",
   "language": "python",
   "name": "python3"
  },
  "language_info": {
   "codemirror_mode": {
    "name": "ipython",
    "version": 3
   },
   "file_extension": ".py",
   "mimetype": "text/x-python",
   "name": "python",
   "nbconvert_exporter": "python",
   "pygments_lexer": "ipython3",
   "version": "3.7.0"
  },
  "orig_nbformat": 4,
  "vscode": {
   "interpreter": {
    "hash": "bfa6328a8fdd9d60d58a0c372b5a30bf14ec5dd83eb52dbe1091b593635c022d"
   }
  }
 },
 "nbformat": 4,
 "nbformat_minor": 2
}
