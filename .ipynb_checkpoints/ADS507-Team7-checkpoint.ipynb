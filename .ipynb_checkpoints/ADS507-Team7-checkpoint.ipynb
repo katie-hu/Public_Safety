{
 "cells": [
  {
   "cell_type": "markdown",
   "metadata": {},
   "source": [
    "### **Initial Set Up**"
   ]
  },
  {
   "cell_type": "markdown",
   "metadata": {},
   "source": [
    "Install Necessary Packages"
   ]
  },
  {
   "cell_type": "code",
   "execution_count": 1,
   "metadata": {
    "execution": {
     "iopub.execute_input": "2023-02-27T02:07:48.567987Z",
     "iopub.status.busy": "2023-02-27T02:07:48.566978Z",
     "iopub.status.idle": "2023-02-27T02:07:50.103030Z",
     "shell.execute_reply": "2023-02-27T02:07:50.103030Z",
     "shell.execute_reply.started": "2023-02-27T02:07:48.567987Z"
    }
   },
   "outputs": [],
   "source": [
    "import numpy as np\n",
    "import pandas as pd\n",
    "import pymysql as msql\n",
    "import matplotlib.pyplot as plt\n",
    "import config\n",
    "import json\n",
    "import requests\n",
    "import warnings\n",
    "import getpass as gp\n",
    "import mysql.connector as mysql\n",
    "from datetime import datetime\n",
    "from mysql.connector import Error\n",
    "warnings.filterwarnings(\"ignore\", category=DeprecationWarning)"
   ]
  },
  {
   "cell_type": "markdown",
   "metadata": {},
   "source": [
    "Set up config.py file with subscriber keys necessary from APIs to access the information."
   ]
  },
  {
   "cell_type": "code",
   "execution_count": 2,
   "metadata": {
    "execution": {
     "iopub.execute_input": "2023-02-27T02:07:50.104977Z",
     "iopub.status.busy": "2023-02-27T02:07:50.103976Z",
     "iopub.status.idle": "2023-02-27T02:07:50.210976Z",
     "shell.execute_reply": "2023-02-27T02:07:50.210018Z",
     "shell.execute_reply.started": "2023-02-27T02:07:50.104977Z"
    }
   },
   "outputs": [],
   "source": [
    "airquality_key = config.a_key\n",
    "covid_key = config.c_key\n",
    "weather_key = config.w_key"
   ]
  },
  {
   "cell_type": "markdown",
   "metadata": {},
   "source": [
    "Password for SQL Connection"
   ]
  },
  {
   "cell_type": "code",
   "execution_count": 6,
   "metadata": {
    "execution": {
     "iopub.execute_input": "2023-02-27T02:08:00.146010Z",
     "iopub.status.busy": "2023-02-27T02:08:00.146010Z",
     "iopub.status.idle": "2023-02-27T02:08:05.343131Z",
     "shell.execute_reply": "2023-02-27T02:08:05.343131Z",
     "shell.execute_reply.started": "2023-02-27T02:08:00.146010Z"
    }
   },
   "outputs": [
    {
     "name": "stdin",
     "output_type": "stream",
     "text": [
      "Enter Password: ···········\n"
     ]
    }
   ],
   "source": [
    "passwd=gp.getpass('Enter Password:')"
   ]
  },
  {
   "cell_type": "markdown",
   "metadata": {},
   "source": [
    "### **Extract and Transform Data**"
   ]
  },
  {
   "cell_type": "markdown",
   "metadata": {},
   "source": [
    "Insert your City of Choice."
   ]
  },
  {
   "cell_type": "code",
   "execution_count": 7,
   "metadata": {
    "execution": {
     "iopub.execute_input": "2023-02-27T02:08:07.883889Z",
     "iopub.status.busy": "2023-02-27T02:08:07.882888Z",
     "iopub.status.idle": "2023-02-27T02:08:07.972409Z",
     "shell.execute_reply": "2023-02-27T02:08:07.972409Z",
     "shell.execute_reply.started": "2023-02-27T02:08:07.883889Z"
    }
   },
   "outputs": [
    {
     "data": {
      "text/plain": [
       "'San Diego'"
      ]
     },
     "execution_count": 7,
     "metadata": {},
     "output_type": "execute_result"
    }
   ],
   "source": [
    "city = 'San Diego'\n",
    "city"
   ]
  },
  {
   "cell_type": "markdown",
   "metadata": {},
   "source": [
    "#### Air Quality API"
   ]
  },
  {
   "cell_type": "code",
   "execution_count": 8,
   "metadata": {
    "execution": {
     "iopub.execute_input": "2023-02-27T02:08:08.377641Z",
     "iopub.status.busy": "2023-02-27T02:08:08.377641Z",
     "iopub.status.idle": "2023-02-27T02:08:10.753399Z",
     "shell.execute_reply": "2023-02-27T02:08:10.753399Z",
     "shell.execute_reply.started": "2023-02-27T02:08:08.377641Z"
    }
   },
   "outputs": [
    {
     "name": "stdout",
     "output_type": "stream",
     "text": [
      "{\"CO\": {\"concentration\": 453.95, \"aqi\": 5}, \"NO2\": {\"concentration\": 54.15, \"aqi\": 67}, \"O3\": {\"concentration\": 21.64, \"aqi\": 18}, \"SO2\": {\"concentration\": 1.15, \"aqi\": 1}, \"PM2.5\": {\"concentration\": 6.57, \"aqi\": 21}, \"PM10\": {\"concentration\": 10.92, \"aqi\": 10}, \"overall_aqi\": 67}\n"
     ]
    }
   ],
   "source": [
    "# URL Website of Air Quality API\n",
    "url = \"https://air-quality-by-api-ninjas.p.rapidapi.com/v1/airquality\"\n",
    "\n",
    "# Parameter Input\n",
    "querystring = {\"city\":city}\n",
    "\n",
    "# Pulling in of Host and Subscriber Key\n",
    "headers = {\n",
    "\t\"X-RapidAPI-Key\": airquality_key,\n",
    "\t\"X-RapidAPI-Host\": \"air-quality-by-api-ninjas.p.rapidapi.com\"\n",
    "}\n",
    "\n",
    "# Pull Data using request library\n",
    "a_response = requests.request(\"GET\", url, headers=headers, params=querystring)\n",
    "\n",
    "print(a_response.text)"
   ]
  },
  {
   "cell_type": "code",
   "execution_count": 9,
   "metadata": {
    "execution": {
     "iopub.execute_input": "2023-02-27T02:08:10.755394Z",
     "iopub.status.busy": "2023-02-27T02:08:10.754395Z",
     "iopub.status.idle": "2023-02-27T02:08:10.865440Z",
     "shell.execute_reply": "2023-02-27T02:08:10.864441Z",
     "shell.execute_reply.started": "2023-02-27T02:08:10.755394Z"
    }
   },
   "outputs": [
    {
     "data": {
      "text/html": [
       "<div>\n",
       "<style scoped>\n",
       "    .dataframe tbody tr th:only-of-type {\n",
       "        vertical-align: middle;\n",
       "    }\n",
       "\n",
       "    .dataframe tbody tr th {\n",
       "        vertical-align: top;\n",
       "    }\n",
       "\n",
       "    .dataframe thead th {\n",
       "        text-align: right;\n",
       "    }\n",
       "</style>\n",
       "<table border=\"1\" class=\"dataframe\">\n",
       "  <thead>\n",
       "    <tr style=\"text-align: right;\">\n",
       "      <th></th>\n",
       "      <th>CO</th>\n",
       "      <th>NO2</th>\n",
       "      <th>O3</th>\n",
       "      <th>SO2</th>\n",
       "      <th>PM2.5</th>\n",
       "      <th>PM10</th>\n",
       "      <th>overall_aqi</th>\n",
       "    </tr>\n",
       "  </thead>\n",
       "  <tbody>\n",
       "    <tr>\n",
       "      <th>concentration</th>\n",
       "      <td>453.95</td>\n",
       "      <td>54.15</td>\n",
       "      <td>21.64</td>\n",
       "      <td>1.15</td>\n",
       "      <td>6.57</td>\n",
       "      <td>10.92</td>\n",
       "      <td>67</td>\n",
       "    </tr>\n",
       "    <tr>\n",
       "      <th>aqi</th>\n",
       "      <td>5.00</td>\n",
       "      <td>67.00</td>\n",
       "      <td>18.00</td>\n",
       "      <td>1.00</td>\n",
       "      <td>21.00</td>\n",
       "      <td>10.00</td>\n",
       "      <td>67</td>\n",
       "    </tr>\n",
       "  </tbody>\n",
       "</table>\n",
       "</div>"
      ],
      "text/plain": [
       "                   CO    NO2     O3   SO2  PM2.5   PM10  overall_aqi\n",
       "concentration  453.95  54.15  21.64  1.15   6.57  10.92           67\n",
       "aqi              5.00  67.00  18.00  1.00  21.00  10.00           67"
      ]
     },
     "execution_count": 9,
     "metadata": {},
     "output_type": "execute_result"
    }
   ],
   "source": [
    "# Convert the response to a dictionary\n",
    "a_data = a_response.json()\n",
    "\n",
    "# Create a Pandas dataframe from the dictionary\n",
    "a_df = pd.DataFrame(a_data)\n",
    "a_df"
   ]
  },
  {
   "cell_type": "code",
   "execution_count": 10,
   "metadata": {
    "execution": {
     "iopub.execute_input": "2023-02-27T02:08:10.866443Z",
     "iopub.status.busy": "2023-02-27T02:08:10.866443Z",
     "iopub.status.idle": "2023-02-27T02:08:10.963442Z",
     "shell.execute_reply": "2023-02-27T02:08:10.963442Z",
     "shell.execute_reply.started": "2023-02-27T02:08:10.866443Z"
    }
   },
   "outputs": [
    {
     "data": {
      "text/html": [
       "<div>\n",
       "<style scoped>\n",
       "    .dataframe tbody tr th:only-of-type {\n",
       "        vertical-align: middle;\n",
       "    }\n",
       "\n",
       "    .dataframe tbody tr th {\n",
       "        vertical-align: top;\n",
       "    }\n",
       "\n",
       "    .dataframe thead th {\n",
       "        text-align: right;\n",
       "    }\n",
       "</style>\n",
       "<table border=\"1\" class=\"dataframe\">\n",
       "  <thead>\n",
       "    <tr style=\"text-align: right;\">\n",
       "      <th></th>\n",
       "      <th>CO</th>\n",
       "      <th>NO2</th>\n",
       "      <th>O3</th>\n",
       "      <th>SO2</th>\n",
       "      <th>PM2.5</th>\n",
       "      <th>PM10</th>\n",
       "      <th>overall_aqi</th>\n",
       "    </tr>\n",
       "  </thead>\n",
       "  <tbody>\n",
       "    <tr>\n",
       "      <th>concentration</th>\n",
       "      <td>453.95</td>\n",
       "      <td>54.15</td>\n",
       "      <td>21.64</td>\n",
       "      <td>1.15</td>\n",
       "      <td>6.57</td>\n",
       "      <td>10.92</td>\n",
       "      <td>67</td>\n",
       "    </tr>\n",
       "  </tbody>\n",
       "</table>\n",
       "</div>"
      ],
      "text/plain": [
       "                   CO    NO2     O3   SO2  PM2.5   PM10  overall_aqi\n",
       "concentration  453.95  54.15  21.64  1.15   6.57  10.92           67"
      ]
     },
     "execution_count": 10,
     "metadata": {},
     "output_type": "execute_result"
    }
   ],
   "source": [
    "# Remove last row as it is not needed.\n",
    "\n",
    "a_df = a_df.drop(a_df.index[-1])\n",
    "a_df"
   ]
  },
  {
   "cell_type": "code",
   "execution_count": 11,
   "metadata": {
    "execution": {
     "iopub.execute_input": "2023-02-27T02:08:10.964440Z",
     "iopub.status.busy": "2023-02-27T02:08:10.964440Z",
     "iopub.status.idle": "2023-02-27T02:08:11.075038Z",
     "shell.execute_reply": "2023-02-27T02:08:11.075038Z",
     "shell.execute_reply.started": "2023-02-27T02:08:10.964440Z"
    }
   },
   "outputs": [
    {
     "data": {
      "text/html": [
       "<div>\n",
       "<style scoped>\n",
       "    .dataframe tbody tr th:only-of-type {\n",
       "        vertical-align: middle;\n",
       "    }\n",
       "\n",
       "    .dataframe tbody tr th {\n",
       "        vertical-align: top;\n",
       "    }\n",
       "\n",
       "    .dataframe thead th {\n",
       "        text-align: right;\n",
       "    }\n",
       "</style>\n",
       "<table border=\"1\" class=\"dataframe\">\n",
       "  <thead>\n",
       "    <tr style=\"text-align: right;\">\n",
       "      <th></th>\n",
       "      <th>CO</th>\n",
       "      <th>NO2</th>\n",
       "      <th>O3</th>\n",
       "      <th>SO2</th>\n",
       "      <th>PM2.5</th>\n",
       "      <th>PM10</th>\n",
       "      <th>overall_aqi</th>\n",
       "      <th>city</th>\n",
       "    </tr>\n",
       "  </thead>\n",
       "  <tbody>\n",
       "    <tr>\n",
       "      <th>concentration</th>\n",
       "      <td>453.95</td>\n",
       "      <td>54.15</td>\n",
       "      <td>21.64</td>\n",
       "      <td>1.15</td>\n",
       "      <td>6.57</td>\n",
       "      <td>10.92</td>\n",
       "      <td>67</td>\n",
       "      <td>San Diego</td>\n",
       "    </tr>\n",
       "  </tbody>\n",
       "</table>\n",
       "</div>"
      ],
      "text/plain": [
       "                   CO    NO2     O3   SO2  PM2.5   PM10  overall_aqi  \\\n",
       "concentration  453.95  54.15  21.64  1.15   6.57  10.92           67   \n",
       "\n",
       "                    city  \n",
       "concentration  San Diego  "
      ]
     },
     "execution_count": 11,
     "metadata": {},
     "output_type": "execute_result"
    }
   ],
   "source": [
    "# save variable city value to add to dataframe column\n",
    "new_city_col = [city]\n",
    "\n",
    "# add new column to the dataframe with the saved value\n",
    "a_df['city'] = new_city_col\n",
    "a_df"
   ]
  },
  {
   "cell_type": "code",
   "execution_count": 12,
   "metadata": {
    "execution": {
     "iopub.execute_input": "2023-02-27T02:08:11.076036Z",
     "iopub.status.busy": "2023-02-27T02:08:11.076036Z",
     "iopub.status.idle": "2023-02-27T02:08:11.170038Z",
     "shell.execute_reply": "2023-02-27T02:08:11.169046Z",
     "shell.execute_reply.started": "2023-02-27T02:08:11.076036Z"
    }
   },
   "outputs": [],
   "source": [
    "a_df = a_df.rename(columns={\"PM2.5\":\"FineParticulateMatter\", \"PM10\":\"InhalableParticulateMatter\", \"overall_aqi\":\"Overall_AQI\"})\n"
   ]
  },
  {
   "cell_type": "code",
   "execution_count": 13,
   "metadata": {
    "execution": {
     "iopub.execute_input": "2023-02-27T02:08:11.172038Z",
     "iopub.status.busy": "2023-02-27T02:08:11.171038Z",
     "iopub.status.idle": "2023-02-27T02:08:11.259072Z",
     "shell.execute_reply": "2023-02-27T02:08:11.259072Z",
     "shell.execute_reply.started": "2023-02-27T02:08:11.172038Z"
    }
   },
   "outputs": [
    {
     "name": "stdout",
     "output_type": "stream",
     "text": [
      "Variables in Air Quality are: \n",
      " ['CO', 'NO2', 'O3', 'SO2', 'FineParticulateMatter', 'InhalableParticulateMatter', 'Overall_AQI', 'city']\n",
      "Data Types are: \n",
      " CO                            float64\n",
      "NO2                           float64\n",
      "O3                            float64\n",
      "SO2                           float64\n",
      "FineParticulateMatter         float64\n",
      "InhalableParticulateMatter    float64\n",
      "Overall_AQI                     int64\n",
      "city                           object\n",
      "dtype: object\n"
     ]
    }
   ],
   "source": [
    "# List of Columns in Air Quality and Data Types\n",
    "print(\"Variables in Air Quality are: \\n\", list(a_df.columns))\n",
    "print(\"Data Types are: \\n\",a_df.dtypes)"
   ]
  },
  {
   "cell_type": "code",
   "execution_count": 14,
   "metadata": {
    "execution": {
     "iopub.execute_input": "2023-02-27T02:08:11.261037Z",
     "iopub.status.busy": "2023-02-27T02:08:11.261037Z",
     "iopub.status.idle": "2023-02-27T02:08:11.348830Z",
     "shell.execute_reply": "2023-02-27T02:08:11.348830Z",
     "shell.execute_reply.started": "2023-02-27T02:08:11.261037Z"
    }
   },
   "outputs": [
    {
     "data": {
      "text/plain": [
       "[(453.95, 54.15, 21.64, 1.15, 6.57, 10.92, 67, 'San Diego')]"
      ]
     },
     "execution_count": 14,
     "metadata": {},
     "output_type": "execute_result"
    }
   ],
   "source": [
    "a_dict = a_df.to_dict('records')\n",
    "a_dict\n",
    "\n",
    "a_tuple = [tuple(d.values()) for d in a_dict]\n",
    "a_tuple"
   ]
  },
  {
   "cell_type": "code",
   "execution_count": 15,
   "metadata": {
    "execution": {
     "iopub.execute_input": "2023-02-27T02:08:13.719801Z",
     "iopub.status.busy": "2023-02-27T02:08:13.718767Z",
     "iopub.status.idle": "2023-02-27T02:08:13.818313Z",
     "shell.execute_reply": "2023-02-27T02:08:13.817311Z",
     "shell.execute_reply.started": "2023-02-27T02:08:13.719801Z"
    }
   },
   "outputs": [],
   "source": [
    "a_df.to_csv('Data/a_csv.csv')"
   ]
  },
  {
   "cell_type": "markdown",
   "metadata": {},
   "source": [
    "### Covid-19 API"
   ]
  },
  {
   "cell_type": "code",
   "execution_count": 16,
   "metadata": {
    "execution": {
     "iopub.execute_input": "2023-02-27T02:08:15.184562Z",
     "iopub.status.busy": "2023-02-27T02:08:15.184562Z",
     "iopub.status.idle": "2023-02-27T02:08:16.159981Z",
     "shell.execute_reply": "2023-02-27T02:08:16.158976Z",
     "shell.execute_reply.started": "2023-02-27T02:08:15.184562Z"
    }
   },
   "outputs": [
    {
     "name": "stdout",
     "output_type": "stream",
     "text": [
      "{\"data\":[{\"date\":\"2023-02-25\",\"confirmed\":12084297,\"deaths\":100816,\"recovered\":0,\"confirmed_diff\":0,\"deaths_diff\":0,\"recovered_diff\":0,\"last_update\":\"2023-02-26 04:20:54\",\"active\":11983481,\"active_diff\":0,\"fatality_rate\":0.0083,\"region\":{\"iso\":\"USA\",\"name\":\"US\",\"province\":\"California\",\"lat\":\"36.1162\",\"long\":\"-119.6816\",\"cities\":[{\"name\":\"San Diego\",\"date\":\"2023-02-25\",\"fips\":6073,\"lat\":\"33.03484597\",\"long\":\"-116.7365326\",\"confirmed\":1064093,\"deaths\":5768,\"confirmed_diff\":0,\"deaths_diff\":0,\"last_update\":\"2023-02-26 04:20:54\"}]}}]}\n"
     ]
    }
   ],
   "source": [
    "# make the API call\n",
    "# link to documentation: https://rapidapi.com/axisbits-axisbits-default/api/covid-19-statistics/\n",
    "url = \"https://covid-19-statistics.p.rapidapi.com/reports\"\n",
    "\n",
    "# optional parameter selected to querying the API\n",
    "querystring = {\"city_name\":city}\n",
    "\n",
    "# API credentials\n",
    "headers = {\n",
    "\t\"X-RapidAPI-Key\": covid_key,\n",
    "\t\"X-RapidAPI-Host\": \"covid-19-statistics.p.rapidapi.com\"\n",
    "}\n",
    "\n",
    "# get raw response query from the API\n",
    "c_response = requests.request(\"GET\", url, headers=headers, params=querystring)\n",
    "print(c_response.text)"
   ]
  },
  {
   "cell_type": "code",
   "execution_count": 17,
   "metadata": {
    "execution": {
     "iopub.execute_input": "2023-02-27T02:08:16.162985Z",
     "iopub.status.busy": "2023-02-27T02:08:16.161983Z",
     "iopub.status.idle": "2023-02-27T02:08:16.275502Z",
     "shell.execute_reply": "2023-02-27T02:08:16.274502Z",
     "shell.execute_reply.started": "2023-02-27T02:08:16.162985Z"
    }
   },
   "outputs": [
    {
     "data": {
      "text/plain": [
       "{'date': '2023-02-25',\n",
       " 'total_confirmed_cases_state': 12084297,\n",
       " 'total_deaths_state': 100816,\n",
       " 'recovered': 0,\n",
       " 'confirmed_today_state': 0,\n",
       " 'deaths_today_state': 0,\n",
       " 'recovered_today_state': 0,\n",
       " 'fatality_rate_state': 0.0083,\n",
       " 'country': 'USA',\n",
       " 'state': 'California',\n",
       " 'state_latitude': '36.1162',\n",
       " 'state_longitude': '-119.6816',\n",
       " 'city': 'San Diego',\n",
       " 'fips_city_code': 6073,\n",
       " 'city_latitude': '33.03484597',\n",
       " 'city_longitude': '-116.7365326',\n",
       " 'total_confirmed_cases_city': 1064093,\n",
       " 'total_deaths_city': 5768,\n",
       " 'confirmed_today_city': 0,\n",
       " 'deaths_today_city': 0,\n",
       " 'last_API_update': '2023-02-26 04:20:54'}"
      ]
     },
     "execution_count": 17,
     "metadata": {},
     "output_type": "execute_result"
    }
   ],
   "source": [
    "# Convert the response to a dictionary\n",
    "c_data = c_response.json()\n",
    "\n",
    "# Create a Pandas dataframe from the dictionary\n",
    "c_df = pd.DataFrame(c_data)\n",
    "\n",
    "# Unpack the dictionaries in the column into separate columns\n",
    "df_unpacked = pd.json_normalize(c_df['data'])\n",
    "\n",
    "# merge the new columns back into the original dataframe\n",
    "df_1 = c_df.merge(df_unpacked, left_index=True, right_index=True)\n",
    "\n",
    "# drop the original column containing the dictionaries\n",
    "df_2 = df_1.drop('data', axis=1)\n",
    "\n",
    "# extract the dictionary from region.cities column for flattening\n",
    "col_dic = df_2['region.cities'].iloc[0]\n",
    "\n",
    "# turn the extracted dictionary into its on dataframe \n",
    "flatten_col = pd.DataFrame(col_dic)\n",
    "\n",
    "# merge the two dataframes\n",
    "result = df_2.merge(flatten_col, left_index=True, right_index=True)\n",
    "\n",
    "# drop columns \n",
    "result.drop(['last_update_x', 'active', 'active_diff', 'region.name', 'region.cities', 'date_y'], axis=1, inplace=True)\n",
    "\n",
    "# rename columns to be more understandable\n",
    "c_df = result.rename(columns={\"date_x\": \"date\", \"confirmed_x\": \"total_confirmed_cases_state\",\"deaths_x\": \"total_deaths_state\", \n",
    "                                         \"confirmed_diff_x\": \"confirmed_today_state\", \"deaths_diff_x\": \"deaths_today_state\",\n",
    "                                        \"recovered_diff\": \"recovered_today_state\", \"fatality_rate\":\"fatality_rate_state\",\"region.iso\":\"country\",\n",
    "                                        \"region.province\": \"state\", \"region.lat\":\"state_latitude\", \"region.long\":\"state_longitude\", \"name\": \"city\",\n",
    "                                        \"fips\":\"fips_city_code\", \"lat\": \"city_latitude\", \"long\": \"city_longitude\", \"confirmed_y\":\"total_confirmed_cases_city\",\n",
    "                                        \"deaths_y\": \"total_deaths_city\", \"confirmed_diff_y\":\"confirmed_today_city\", \"deaths_diff_y\": \"deaths_today_city\",\n",
    "                                        \"last_update_y\": \"last_API_update\"})\n",
    "\n",
    "\n",
    "# show the values of all the columns\n",
    "row_values = c_df.iloc[0].to_dict()\n",
    "row_values"
   ]
  },
  {
   "cell_type": "code",
   "execution_count": 18,
   "metadata": {
    "execution": {
     "iopub.execute_input": "2023-02-27T02:08:16.276502Z",
     "iopub.status.busy": "2023-02-27T02:08:16.276502Z",
     "iopub.status.idle": "2023-02-27T02:08:16.365057Z",
     "shell.execute_reply": "2023-02-27T02:08:16.365057Z",
     "shell.execute_reply.started": "2023-02-27T02:08:16.276502Z"
    }
   },
   "outputs": [
    {
     "data": {
      "text/plain": [
       "[('2023-02-25',\n",
       "  12084297,\n",
       "  100816,\n",
       "  0,\n",
       "  0,\n",
       "  0,\n",
       "  0,\n",
       "  0.0083,\n",
       "  'USA',\n",
       "  'California',\n",
       "  '36.1162',\n",
       "  '-119.6816',\n",
       "  'San Diego',\n",
       "  6073,\n",
       "  '33.03484597',\n",
       "  '-116.7365326',\n",
       "  1064093,\n",
       "  5768,\n",
       "  0,\n",
       "  0,\n",
       "  '2023-02-26 04:20:54')]"
      ]
     },
     "execution_count": 18,
     "metadata": {},
     "output_type": "execute_result"
    }
   ],
   "source": [
    "# show the values of all the columns\n",
    "c_dict = c_df.to_dict('records')\n",
    "#c_dict\n",
    "\n",
    "c_tuple = [tuple(d.values()) for d in c_dict]\n",
    "c_tuple"
   ]
  },
  {
   "cell_type": "code",
   "execution_count": 19,
   "metadata": {
    "execution": {
     "iopub.execute_input": "2023-02-27T02:08:16.366023Z",
     "iopub.status.busy": "2023-02-27T02:08:16.366023Z",
     "iopub.status.idle": "2023-02-27T02:08:16.457022Z",
     "shell.execute_reply": "2023-02-27T02:08:16.457022Z",
     "shell.execute_reply.started": "2023-02-27T02:08:16.366023Z"
    }
   },
   "outputs": [
    {
     "name": "stdout",
     "output_type": "stream",
     "text": [
      "Variables in Covid-19 are: \n",
      " ['date', 'total_confirmed_cases_state', 'total_deaths_state', 'recovered', 'confirmed_today_state', 'deaths_today_state', 'recovered_today_state', 'fatality_rate_state', 'country', 'state', 'state_latitude', 'state_longitude', 'city', 'fips_city_code', 'city_latitude', 'city_longitude', 'total_confirmed_cases_city', 'total_deaths_city', 'confirmed_today_city', 'deaths_today_city', 'last_API_update']\n",
      "Data Types are: \n",
      " date                            object\n",
      "total_confirmed_cases_state      int64\n",
      "total_deaths_state               int64\n",
      "recovered                        int64\n",
      "confirmed_today_state            int64\n",
      "deaths_today_state               int64\n",
      "recovered_today_state            int64\n",
      "fatality_rate_state            float64\n",
      "country                         object\n",
      "state                           object\n",
      "state_latitude                  object\n",
      "state_longitude                 object\n",
      "city                            object\n",
      "fips_city_code                   int64\n",
      "city_latitude                   object\n",
      "city_longitude                  object\n",
      "total_confirmed_cases_city       int64\n",
      "total_deaths_city                int64\n",
      "confirmed_today_city             int64\n",
      "deaths_today_city                int64\n",
      "last_API_update                 object\n",
      "dtype: object\n"
     ]
    }
   ],
   "source": [
    "# List of Columns in Covid-19 and Data Types\n",
    "print(\"Variables in Covid-19 are: \\n\", list(c_df.columns))\n",
    "print(\"Data Types are: \\n\",c_df.dtypes)"
   ]
  },
  {
   "cell_type": "code",
   "execution_count": 20,
   "metadata": {
    "execution": {
     "iopub.execute_input": "2023-02-27T02:08:16.502024Z",
     "iopub.status.busy": "2023-02-27T02:08:16.502024Z",
     "iopub.status.idle": "2023-02-27T02:08:16.598607Z",
     "shell.execute_reply": "2023-02-27T02:08:16.598607Z",
     "shell.execute_reply.started": "2023-02-27T02:08:16.502024Z"
    }
   },
   "outputs": [],
   "source": [
    "c_csv = c_df.to_csv('Data/c_csv.csv')"
   ]
  },
  {
   "cell_type": "markdown",
   "metadata": {},
   "source": [
    "### Weather API"
   ]
  },
  {
   "cell_type": "code",
   "execution_count": 21,
   "metadata": {
    "execution": {
     "iopub.execute_input": "2023-02-27T02:08:19.123374Z",
     "iopub.status.busy": "2023-02-27T02:08:19.123374Z",
     "iopub.status.idle": "2023-02-27T02:08:19.894649Z",
     "shell.execute_reply": "2023-02-27T02:08:19.892650Z",
     "shell.execute_reply.started": "2023-02-27T02:08:19.123374Z"
    }
   },
   "outputs": [
    {
     "name": "stdout",
     "output_type": "stream",
     "text": [
      "{\"cloud_pct\": 40, \"temp\": 11, \"feels_like\": 10, \"humidity\": 65, \"min_temp\": 9, \"max_temp\": 12, \"wind_speed\": 2.57, \"wind_degrees\": 260, \"sunrise\": 1677421218, \"sunset\": 1677462188}\n"
     ]
    }
   ],
   "source": [
    "# URL Website of Weather API\n",
    "url = \"https://weather-by-api-ninjas.p.rapidapi.com/v1/weather\"\n",
    "\n",
    "# Pulling of Host and Subscriber Key\n",
    "headers = {\n",
    "\t\"X-RapidAPI-Key\": weather_key,\n",
    "\t\"X-RapidAPI-Host\": \"weather-by-api-ninjas.p.rapidapi.com\"\n",
    "}\n",
    "\n",
    "# Parameter Input\n",
    "querystring = {\"city\": city}\n",
    "\n",
    "# Pull Data using request library\n",
    "w_response = requests.request(\"GET\", url, headers=headers, params = querystring)\n",
    "\n",
    "print(w_response.text)"
   ]
  },
  {
   "cell_type": "code",
   "execution_count": 35,
   "metadata": {
    "execution": {
     "iopub.execute_input": "2023-02-27T02:15:42.441042Z",
     "iopub.status.busy": "2023-02-27T02:15:42.440044Z",
     "iopub.status.idle": "2023-02-27T02:15:42.560041Z",
     "shell.execute_reply": "2023-02-27T02:15:42.559044Z",
     "shell.execute_reply.started": "2023-02-27T02:15:42.440044Z"
    }
   },
   "outputs": [],
   "source": [
    "# Convert the response to a dictionary\n",
    "w_data = w_response.json()\n",
    "\n",
    "# Create a Pandas dataframe from the dictionary\n",
    "w_df = pd.DataFrame(w_data, index = [0])"
   ]
  },
  {
   "cell_type": "code",
   "execution_count": 36,
   "metadata": {
    "execution": {
     "iopub.execute_input": "2023-02-27T02:15:42.784046Z",
     "iopub.status.busy": "2023-02-27T02:15:42.784046Z",
     "iopub.status.idle": "2023-02-27T02:15:42.893040Z",
     "shell.execute_reply": "2023-02-27T02:15:42.893040Z",
     "shell.execute_reply.started": "2023-02-27T02:15:42.784046Z"
    }
   },
   "outputs": [],
   "source": [
    "# Convert Unix Timestamp to Readable Datetime\n",
    "w_df['sunrise'] = datetime.fromtimestamp(w_df['sunrise']).strftime('%Y-%m-%d %H:%M:%S')\n",
    "w_df['sunset'] = datetime.fromtimestamp(w_df['sunset']).strftime('%Y-%m-%d %H:%M:%S')"
   ]
  },
  {
   "cell_type": "code",
   "execution_count": 37,
   "metadata": {
    "execution": {
     "iopub.execute_input": "2023-02-27T02:15:43.214061Z",
     "iopub.status.busy": "2023-02-27T02:15:43.214061Z",
     "iopub.status.idle": "2023-02-27T02:15:43.319131Z",
     "shell.execute_reply": "2023-02-27T02:15:43.318130Z",
     "shell.execute_reply.started": "2023-02-27T02:15:43.214061Z"
    }
   },
   "outputs": [],
   "source": [
    "# Convert Temperatures from Celsius to Fahrenheit\n",
    "w_df['temperature'] = w_df.apply(lambda x: (9/5)*x['temp']+32,axis=1)\n",
    "w_df['temp_feels_like'] = w_df.apply(lambda x: (9/5)*x['feels_like']+32,axis=1)\n",
    "w_df['min_temperature'] = w_df.apply(lambda x: (9/5)*x['min_temp']+32,axis=1)\n",
    "w_df['max_temperature'] = w_df.apply(lambda x: (9/5)*x['max_temp']+32,axis=1)"
   ]
  },
  {
   "cell_type": "code",
   "execution_count": 38,
   "metadata": {
    "execution": {
     "iopub.execute_input": "2023-02-27T02:15:44.873357Z",
     "iopub.status.busy": "2023-02-27T02:15:44.872357Z",
     "iopub.status.idle": "2023-02-27T02:15:44.981356Z",
     "shell.execute_reply": "2023-02-27T02:15:44.980390Z",
     "shell.execute_reply.started": "2023-02-27T02:15:44.873357Z"
    }
   },
   "outputs": [
    {
     "data": {
      "text/html": [
       "<div>\n",
       "<style scoped>\n",
       "    .dataframe tbody tr th:only-of-type {\n",
       "        vertical-align: middle;\n",
       "    }\n",
       "\n",
       "    .dataframe tbody tr th {\n",
       "        vertical-align: top;\n",
       "    }\n",
       "\n",
       "    .dataframe thead th {\n",
       "        text-align: right;\n",
       "    }\n",
       "</style>\n",
       "<table border=\"1\" class=\"dataframe\">\n",
       "  <thead>\n",
       "    <tr style=\"text-align: right;\">\n",
       "      <th></th>\n",
       "      <th>cloud_pct</th>\n",
       "      <th>temp</th>\n",
       "      <th>feels_like</th>\n",
       "      <th>humidity</th>\n",
       "      <th>min_temp</th>\n",
       "      <th>max_temp</th>\n",
       "      <th>wind_speed</th>\n",
       "      <th>wind_degrees</th>\n",
       "      <th>sunrise</th>\n",
       "      <th>sunset</th>\n",
       "      <th>temperature</th>\n",
       "      <th>temp_feels_like</th>\n",
       "      <th>min_temperature</th>\n",
       "      <th>max_temperature</th>\n",
       "      <th>city</th>\n",
       "    </tr>\n",
       "  </thead>\n",
       "  <tbody>\n",
       "    <tr>\n",
       "      <th>0</th>\n",
       "      <td>40</td>\n",
       "      <td>11</td>\n",
       "      <td>10</td>\n",
       "      <td>65</td>\n",
       "      <td>9</td>\n",
       "      <td>12</td>\n",
       "      <td>2.57</td>\n",
       "      <td>260</td>\n",
       "      <td>2023-02-26 06:20:18</td>\n",
       "      <td>2023-02-26 17:43:08</td>\n",
       "      <td>51.8</td>\n",
       "      <td>50.0</td>\n",
       "      <td>48.2</td>\n",
       "      <td>53.6</td>\n",
       "      <td>San Diego</td>\n",
       "    </tr>\n",
       "  </tbody>\n",
       "</table>\n",
       "</div>"
      ],
      "text/plain": [
       "   cloud_pct  temp  feels_like  humidity  min_temp  max_temp  wind_speed  \\\n",
       "0         40    11          10        65         9        12        2.57   \n",
       "\n",
       "   wind_degrees              sunrise               sunset  temperature  \\\n",
       "0           260  2023-02-26 06:20:18  2023-02-26 17:43:08         51.8   \n",
       "\n",
       "   temp_feels_like  min_temperature  max_temperature       city  \n",
       "0             50.0             48.2             53.6  San Diego  "
      ]
     },
     "execution_count": 38,
     "metadata": {},
     "output_type": "execute_result"
    }
   ],
   "source": [
    "# save variable city value to add to dataframe column\n",
    "new_city_col = [city]\n",
    "\n",
    "# add new column to the dataframe with the saved value\n",
    "w_df['city'] = new_city_col\n",
    "w_df"
   ]
  },
  {
   "cell_type": "code",
   "execution_count": 39,
   "metadata": {
    "execution": {
     "iopub.execute_input": "2023-02-27T02:16:27.141474Z",
     "iopub.status.busy": "2023-02-27T02:16:27.140473Z",
     "iopub.status.idle": "2023-02-27T02:16:27.292610Z",
     "shell.execute_reply": "2023-02-27T02:16:27.291613Z",
     "shell.execute_reply.started": "2023-02-27T02:16:27.141474Z"
    }
   },
   "outputs": [
    {
     "data": {
      "text/html": [
       "<div>\n",
       "<style scoped>\n",
       "    .dataframe tbody tr th:only-of-type {\n",
       "        vertical-align: middle;\n",
       "    }\n",
       "\n",
       "    .dataframe tbody tr th {\n",
       "        vertical-align: top;\n",
       "    }\n",
       "\n",
       "    .dataframe thead th {\n",
       "        text-align: right;\n",
       "    }\n",
       "</style>\n",
       "<table border=\"1\" class=\"dataframe\">\n",
       "  <thead>\n",
       "    <tr style=\"text-align: right;\">\n",
       "      <th></th>\n",
       "      <th>temperature</th>\n",
       "      <th>temp_feels_like</th>\n",
       "      <th>min_temperature</th>\n",
       "      <th>max_temperature</th>\n",
       "      <th>cloud_pct</th>\n",
       "      <th>humidity</th>\n",
       "      <th>wind_speed</th>\n",
       "      <th>wind_degrees</th>\n",
       "      <th>sunrise</th>\n",
       "      <th>sunset</th>\n",
       "      <th>city</th>\n",
       "    </tr>\n",
       "  </thead>\n",
       "  <tbody>\n",
       "    <tr>\n",
       "      <th>0</th>\n",
       "      <td>51.8</td>\n",
       "      <td>50.0</td>\n",
       "      <td>48.2</td>\n",
       "      <td>53.6</td>\n",
       "      <td>40</td>\n",
       "      <td>65</td>\n",
       "      <td>2.57</td>\n",
       "      <td>260</td>\n",
       "      <td>2023-02-26 06:20:18</td>\n",
       "      <td>2023-02-26 17:43:08</td>\n",
       "      <td>San Diego</td>\n",
       "    </tr>\n",
       "  </tbody>\n",
       "</table>\n",
       "</div>"
      ],
      "text/plain": [
       "   temperature  temp_feels_like  min_temperature  max_temperature  cloud_pct  \\\n",
       "0         51.8             50.0             48.2             53.6         40   \n",
       "\n",
       "   humidity  wind_speed  wind_degrees              sunrise  \\\n",
       "0        65        2.57           260  2023-02-26 06:20:18   \n",
       "\n",
       "                sunset       city  \n",
       "0  2023-02-26 17:43:08  San Diego  "
      ]
     },
     "execution_count": 39,
     "metadata": {},
     "output_type": "execute_result"
    }
   ],
   "source": [
    "# Preview Dataframe\n",
    "# Change order of the columns for the preview, based on the average user needs\n",
    "w_df = w_df.iloc[:,[10, 11, 12, 13, 0, 3, 6, 7, 8, 9, 14]]\n",
    "w_df"
   ]
  },
  {
   "cell_type": "code",
   "execution_count": 40,
   "metadata": {
    "execution": {
     "iopub.execute_input": "2023-02-27T02:16:29.039605Z",
     "iopub.status.busy": "2023-02-27T02:16:29.039605Z",
     "iopub.status.idle": "2023-02-27T02:16:29.141819Z",
     "shell.execute_reply": "2023-02-27T02:16:29.140854Z",
     "shell.execute_reply.started": "2023-02-27T02:16:29.039605Z"
    }
   },
   "outputs": [
    {
     "name": "stdout",
     "output_type": "stream",
     "text": [
      "Variables in Weather are: \n",
      " ['temperature', 'temp_feels_like', 'min_temperature', 'max_temperature', 'cloud_pct', 'humidity', 'wind_speed', 'wind_degrees', 'sunrise', 'sunset', 'city']\n",
      "Data Types are: \n",
      " temperature        float64\n",
      "temp_feels_like    float64\n",
      "min_temperature    float64\n",
      "max_temperature    float64\n",
      "cloud_pct            int64\n",
      "humidity             int64\n",
      "wind_speed         float64\n",
      "wind_degrees         int64\n",
      "sunrise             object\n",
      "sunset              object\n",
      "city                object\n",
      "dtype: object\n"
     ]
    }
   ],
   "source": [
    "# List of Columns in Weather and Data Types\n",
    "print(\"Variables in Weather are: \\n\", list(w_df.columns))\n",
    "print(\"Data Types are: \\n\",w_df.dtypes)"
   ]
  },
  {
   "cell_type": "code",
   "execution_count": 41,
   "metadata": {
    "execution": {
     "iopub.execute_input": "2023-02-27T02:16:30.443552Z",
     "iopub.status.busy": "2023-02-27T02:16:30.442550Z",
     "iopub.status.idle": "2023-02-27T02:16:30.545559Z",
     "shell.execute_reply": "2023-02-27T02:16:30.544554Z",
     "shell.execute_reply.started": "2023-02-27T02:16:30.443552Z"
    }
   },
   "outputs": [
    {
     "data": {
      "text/plain": [
       "[(51.8,\n",
       "  50.0,\n",
       "  48.2,\n",
       "  53.6,\n",
       "  40,\n",
       "  65,\n",
       "  2.57,\n",
       "  260,\n",
       "  '2023-02-26 06:20:18',\n",
       "  '2023-02-26 17:43:08',\n",
       "  'San Diego')]"
      ]
     },
     "execution_count": 41,
     "metadata": {},
     "output_type": "execute_result"
    }
   ],
   "source": [
    "# Convert to Dictionary\n",
    "w_dict = w_df.to_dict('records')\n",
    "#w_dict\n",
    "\n",
    "# Convert to Tuple for feeding into SQL Table\n",
    "w_tuple = [tuple(d.values()) for d in w_dict]\n",
    "w_tuple"
   ]
  },
  {
   "cell_type": "code",
   "execution_count": 42,
   "metadata": {
    "execution": {
     "iopub.execute_input": "2023-02-27T02:16:31.443457Z",
     "iopub.status.busy": "2023-02-27T02:16:31.443457Z",
     "iopub.status.idle": "2023-02-27T02:16:31.549452Z",
     "shell.execute_reply": "2023-02-27T02:16:31.548612Z",
     "shell.execute_reply.started": "2023-02-27T02:16:31.443457Z"
    }
   },
   "outputs": [],
   "source": [
    "w_csv = w_df.to_csv('Data/w_csv.csv')"
   ]
  },
  {
   "cell_type": "markdown",
   "metadata": {},
   "source": [
    "### **Load Python to SQL Database**"
   ]
  },
  {
   "cell_type": "markdown",
   "metadata": {},
   "source": [
    "#### Create Database"
   ]
  },
  {
   "cell_type": "code",
   "execution_count": 43,
   "metadata": {
    "execution": {
     "iopub.execute_input": "2023-02-27T02:16:32.461939Z",
     "iopub.status.busy": "2023-02-27T02:16:32.460938Z",
     "iopub.status.idle": "2023-02-27T02:16:32.883939Z",
     "shell.execute_reply": "2023-02-27T02:16:32.882937Z",
     "shell.execute_reply.started": "2023-02-27T02:16:32.461939Z"
    }
   },
   "outputs": [
    {
     "name": "stdout",
     "output_type": "stream",
     "text": [
      "Error while connecting to MySQL 1007 (HY000): Can't create database 'public_safety'; database exists\n"
     ]
    }
   ],
   "source": [
    "# Create New Database\n",
    "try:\n",
    "    conn=mysql.connect(host='localhost',port=int(3306),user='root',passwd=passwd)\n",
    "    if conn.is_connected():\n",
    "        cursor = conn.cursor()\n",
    "        cursor.execute(\"CREATE DATABASE public_safety\")\n",
    "        print(\"Database is created\")\n",
    "except Error as e:\n",
    "    print(\"Error while connecting to MySQL\", e)"
   ]
  },
  {
   "cell_type": "markdown",
   "metadata": {},
   "source": [
    "#### Add Air Quality Table to Public Safety Database"
   ]
  },
  {
   "cell_type": "code",
   "execution_count": 44,
   "metadata": {
    "execution": {
     "iopub.execute_input": "2023-02-27T02:16:32.885940Z",
     "iopub.status.busy": "2023-02-27T02:16:32.885940Z",
     "iopub.status.idle": "2023-02-27T02:16:33.363936Z",
     "shell.execute_reply": "2023-02-27T02:16:33.363936Z",
     "shell.execute_reply.started": "2023-02-27T02:16:32.885940Z"
    }
   },
   "outputs": [
    {
     "name": "stdout",
     "output_type": "stream",
     "text": [
      "You're connected to database:  ('public_safety',)\n",
      "Creating Table Air Quality\n",
      "Table is created....\n",
      "Record inserted\n",
      "Table is Complete\n"
     ]
    }
   ],
   "source": [
    "try:\n",
    "    conn=mysql.connect(host='localhost',port=int(3306),user='root',passwd=passwd, database= 'public_safety')\n",
    "    if conn.is_connected():\n",
    "        cursor = conn.cursor()\n",
    "        cursor.execute(\"select database();\")\n",
    "        record = cursor.fetchone()\n",
    "        print(\"You're connected to database: \", record)\n",
    "        cursor.execute('DROP TABLE IF EXISTS air_quality;')\n",
    "        print('Creating Table Air Quality')\n",
    "# in the below line please pass the create table statement which you want #to create\n",
    "        cursor.execute('CREATE TABLE air_quality(CO float, NO2 float, O3 float, SO2 float, FineParticulateMatter float, InhalableParticulateMatter float, Overall_AQI SMALLINT, city text)')\n",
    "        conn.commit()\n",
    "        print(\"Table is created....\")\n",
    "        #loop through the data frame\n",
    "            #here %S means string values \n",
    "        a_sql = 'INSERT INTO air_quality (CO, NO2, O3, SO2, FineParticulateMatter, InhalableParticulateMatter, Overall_AQI, city) VALUES (%s,%s,%s,%s,%s,%s,%s,%s)'\n",
    "        cursor.executemany(a_sql, a_tuple)\n",
    "        print(\"Record inserted\")\n",
    "            # the connection is not auto committed by default, so we must commit to save our changes\n",
    "        conn.commit()\n",
    "        print(\"Table is Complete\")\n",
    "except Error as e:\n",
    "            print(\"Error while connecting to MySQL\", e)"
   ]
  },
  {
   "cell_type": "code",
   "execution_count": 45,
   "metadata": {
    "execution": {
     "iopub.execute_input": "2023-02-27T02:16:33.993372Z",
     "iopub.status.busy": "2023-02-27T02:16:33.993372Z",
     "iopub.status.idle": "2023-02-27T02:16:34.091567Z",
     "shell.execute_reply": "2023-02-27T02:16:34.090590Z",
     "shell.execute_reply.started": "2023-02-27T02:16:33.993372Z"
    }
   },
   "outputs": [
    {
     "name": "stderr",
     "output_type": "stream",
     "text": [
      "C:\\Users\\trevor.sauerbrey\\WPy64-3890\\python-3.8.9.amd64\\lib\\site-packages\\pandas\\io\\sql.py:761: UserWarning: pandas only support SQLAlchemy connectable(engine/connection) ordatabase string URI or sqlite3 DBAPI2 connectionother DBAPI2 objects are not tested, please consider using SQLAlchemy\n",
      "  warnings.warn(\n"
     ]
    },
    {
     "data": {
      "text/html": [
       "<div>\n",
       "<style scoped>\n",
       "    .dataframe tbody tr th:only-of-type {\n",
       "        vertical-align: middle;\n",
       "    }\n",
       "\n",
       "    .dataframe tbody tr th {\n",
       "        vertical-align: top;\n",
       "    }\n",
       "\n",
       "    .dataframe thead th {\n",
       "        text-align: right;\n",
       "    }\n",
       "</style>\n",
       "<table border=\"1\" class=\"dataframe\">\n",
       "  <thead>\n",
       "    <tr style=\"text-align: right;\">\n",
       "      <th></th>\n",
       "      <th>CO</th>\n",
       "      <th>NO2</th>\n",
       "      <th>O3</th>\n",
       "      <th>SO2</th>\n",
       "      <th>FineParticulateMatter</th>\n",
       "      <th>InhalableParticulateMatter</th>\n",
       "      <th>Overall_AQI</th>\n",
       "      <th>city</th>\n",
       "    </tr>\n",
       "  </thead>\n",
       "  <tbody>\n",
       "    <tr>\n",
       "      <th>0</th>\n",
       "      <td>453.95</td>\n",
       "      <td>54.15</td>\n",
       "      <td>21.64</td>\n",
       "      <td>1.15</td>\n",
       "      <td>6.57</td>\n",
       "      <td>10.92</td>\n",
       "      <td>67</td>\n",
       "      <td>San Diego</td>\n",
       "    </tr>\n",
       "  </tbody>\n",
       "</table>\n",
       "</div>"
      ],
      "text/plain": [
       "       CO    NO2     O3   SO2  FineParticulateMatter  \\\n",
       "0  453.95  54.15  21.64  1.15                   6.57   \n",
       "\n",
       "   InhalableParticulateMatter  Overall_AQI       city  \n",
       "0                       10.92           67  San Diego  "
      ]
     },
     "execution_count": 45,
     "metadata": {},
     "output_type": "execute_result"
    }
   ],
   "source": [
    "query_testing= pd.read_sql(\"\"\" \n",
    "SELECT * FROM air_quality;\n",
    " \"\"\", conn)\n",
    " \n",
    "query_testing"
   ]
  },
  {
   "cell_type": "markdown",
   "metadata": {},
   "source": [
    "#### Add Weather Table to Public Safety Database"
   ]
  },
  {
   "cell_type": "code",
   "execution_count": 46,
   "metadata": {
    "execution": {
     "iopub.execute_input": "2023-02-27T02:16:35.846434Z",
     "iopub.status.busy": "2023-02-27T02:16:35.846434Z",
     "iopub.status.idle": "2023-02-27T02:16:36.320448Z",
     "shell.execute_reply": "2023-02-27T02:16:36.320448Z",
     "shell.execute_reply.started": "2023-02-27T02:16:35.846434Z"
    }
   },
   "outputs": [
    {
     "name": "stdout",
     "output_type": "stream",
     "text": [
      "You're connected to database:  ('public_safety',)\n",
      "Creating Table Weather\n",
      "Table is created....\n",
      "Record inserted\n",
      "Table is Complete\n"
     ]
    }
   ],
   "source": [
    "try:\n",
    "    conn=mysql.connect(host='localhost',port=int(3306),user='root',passwd=passwd, database= 'public_safety')\n",
    "    if conn.is_connected():\n",
    "        cursor = conn.cursor()\n",
    "        cursor.execute(\"select database();\")\n",
    "        record = cursor.fetchone()\n",
    "        print(\"You're connected to database: \", record)\n",
    "        cursor.execute('DROP TABLE IF EXISTS weather;')\n",
    "        print('Creating Table Weather')\n",
    "# in the below line please pass the create table statement which you want #to create\n",
    "        cursor.execute('CREATE TABLE weather(temperature float, temp_feels_like float, min_temperature float, max_temperature float, cloud_pct SMALLINT, humidity SMALLINT, wind_speed float, wind_degrees SMALLINT, sunrise datetime, sunset datetime, city text)')\n",
    "        conn.commit()\n",
    "        print(\"Table is created....\")\n",
    "        #loop through the data frame\n",
    "            #here %S means string values \n",
    "        w_sql = 'INSERT INTO weather (temperature, temp_feels_like, min_temperature, max_temperature, cloud_pct, humidity, wind_speed, wind_degrees, sunrise, sunset, city) VALUES (%s,%s,%s,%s,%s,%s,%s,%s,%s,%s,%s)'\n",
    "        cursor.executemany(w_sql, w_tuple)\n",
    "        print(\"Record inserted\")\n",
    "            # the connection is not auto committed by default, so we must commit to save our changes\n",
    "        conn.commit()\n",
    "        print(\"Table is Complete\")\n",
    "except Error as e:\n",
    "            print(\"Error while connecting to MySQL\", e)"
   ]
  },
  {
   "cell_type": "code",
   "execution_count": 47,
   "metadata": {
    "execution": {
     "iopub.execute_input": "2023-02-27T02:16:38.935468Z",
     "iopub.status.busy": "2023-02-27T02:16:38.935468Z",
     "iopub.status.idle": "2023-02-27T02:16:39.043601Z",
     "shell.execute_reply": "2023-02-27T02:16:39.043601Z",
     "shell.execute_reply.started": "2023-02-27T02:16:38.935468Z"
    }
   },
   "outputs": [
    {
     "name": "stderr",
     "output_type": "stream",
     "text": [
      "C:\\Users\\trevor.sauerbrey\\WPy64-3890\\python-3.8.9.amd64\\lib\\site-packages\\pandas\\io\\sql.py:761: UserWarning: pandas only support SQLAlchemy connectable(engine/connection) ordatabase string URI or sqlite3 DBAPI2 connectionother DBAPI2 objects are not tested, please consider using SQLAlchemy\n",
      "  warnings.warn(\n"
     ]
    },
    {
     "data": {
      "text/html": [
       "<div>\n",
       "<style scoped>\n",
       "    .dataframe tbody tr th:only-of-type {\n",
       "        vertical-align: middle;\n",
       "    }\n",
       "\n",
       "    .dataframe tbody tr th {\n",
       "        vertical-align: top;\n",
       "    }\n",
       "\n",
       "    .dataframe thead th {\n",
       "        text-align: right;\n",
       "    }\n",
       "</style>\n",
       "<table border=\"1\" class=\"dataframe\">\n",
       "  <thead>\n",
       "    <tr style=\"text-align: right;\">\n",
       "      <th></th>\n",
       "      <th>temperature</th>\n",
       "      <th>temp_feels_like</th>\n",
       "      <th>min_temperature</th>\n",
       "      <th>max_temperature</th>\n",
       "      <th>cloud_pct</th>\n",
       "      <th>humidity</th>\n",
       "      <th>wind_speed</th>\n",
       "      <th>wind_degrees</th>\n",
       "      <th>sunrise</th>\n",
       "      <th>sunset</th>\n",
       "      <th>city</th>\n",
       "    </tr>\n",
       "  </thead>\n",
       "  <tbody>\n",
       "    <tr>\n",
       "      <th>0</th>\n",
       "      <td>51.8</td>\n",
       "      <td>50.0</td>\n",
       "      <td>48.2</td>\n",
       "      <td>53.6</td>\n",
       "      <td>40</td>\n",
       "      <td>65</td>\n",
       "      <td>2.57</td>\n",
       "      <td>260</td>\n",
       "      <td>2023-02-26 06:20:18</td>\n",
       "      <td>2023-02-26 17:43:08</td>\n",
       "      <td>San Diego</td>\n",
       "    </tr>\n",
       "  </tbody>\n",
       "</table>\n",
       "</div>"
      ],
      "text/plain": [
       "   temperature  temp_feels_like  min_temperature  max_temperature  cloud_pct  \\\n",
       "0         51.8             50.0             48.2             53.6         40   \n",
       "\n",
       "   humidity  wind_speed  wind_degrees             sunrise              sunset  \\\n",
       "0        65        2.57           260 2023-02-26 06:20:18 2023-02-26 17:43:08   \n",
       "\n",
       "        city  \n",
       "0  San Diego  "
      ]
     },
     "execution_count": 47,
     "metadata": {},
     "output_type": "execute_result"
    }
   ],
   "source": [
    "w_query_testing= pd.read_sql(\"\"\" \n",
    "SELECT * FROM weather;\n",
    " \"\"\", conn)\n",
    " \n",
    "w_query_testing"
   ]
  },
  {
   "cell_type": "markdown",
   "metadata": {},
   "source": [
    "#### Add Covid-19 Table to Public Safety Database"
   ]
  },
  {
   "cell_type": "code",
   "execution_count": 48,
   "metadata": {
    "execution": {
     "iopub.execute_input": "2023-02-27T02:16:43.086584Z",
     "iopub.status.busy": "2023-02-27T02:16:43.086584Z",
     "iopub.status.idle": "2023-02-27T02:16:43.582210Z",
     "shell.execute_reply": "2023-02-27T02:16:43.582210Z",
     "shell.execute_reply.started": "2023-02-27T02:16:43.086584Z"
    }
   },
   "outputs": [
    {
     "name": "stdout",
     "output_type": "stream",
     "text": [
      "You're connected to database:  ('public_safety',)\n",
      "Creating Table Covid-19\n",
      "Table is created....\n",
      "Record inserted\n",
      "Table is Complete\n"
     ]
    }
   ],
   "source": [
    "try:\n",
    "    conn=mysql.connect(host='localhost',port=int(3306),user='root',passwd=passwd, database= 'public_safety')\n",
    "    if conn.is_connected():\n",
    "        cursor = conn.cursor()\n",
    "        cursor.execute(\"select database();\")\n",
    "        record = cursor.fetchone()\n",
    "        print(\"You're connected to database: \", record)\n",
    "        cursor.execute('DROP TABLE IF EXISTS covid;')\n",
    "        print('Creating Table Covid-19')\n",
    "# in the below line please pass the create table statement which you want #to create\n",
    "        cursor.execute('CREATE TABLE covid(date date, total_confirmed_cases_state INT, total_deaths_state INT, recovered INT, confirmed_today_state INT, deaths_today_state INT, recovered_today_state INT, fatality_rate_state float, country text, state text, state_latitude float, state_longitude float, city text, fips_city_code INT, city_latitude float, city_longitude float, total_confirmed_cases_city INT, total_deaths_city INT, confirmed_today_city INT, deaths_today_city INT, last_API_update datetime)')\n",
    "        conn.commit()\n",
    "        print(\"Table is created....\")\n",
    "        #loop through the data frame\n",
    "            #here %S means string values \n",
    "        c_sql = 'INSERT INTO covid (date, total_confirmed_cases_state, total_deaths_state, recovered, confirmed_today_state, deaths_today_state, recovered_today_state, fatality_rate_state, country, state, state_latitude, state_longitude, city, fips_city_code, city_latitude, city_longitude, total_confirmed_cases_city, total_deaths_city, confirmed_today_city, deaths_today_city, last_API_update) VALUES (%s,%s,%s,%s,%s,%s,%s,%s,%s,%s,%s,%s,%s,%s,%s,%s,%s,%s,%s,%s,%s)'\n",
    "        cursor.executemany(c_sql, c_tuple)\n",
    "        print(\"Record inserted\")\n",
    "            # the connection is not auto committed by default, so we must commit to save our changes\n",
    "        conn.commit()\n",
    "        print(\"Table is Complete\")\n",
    "except Error as e:\n",
    "            print(\"Error while connecting to MySQL\", e)"
   ]
  },
  {
   "cell_type": "code",
   "execution_count": 49,
   "metadata": {
    "execution": {
     "iopub.execute_input": "2023-02-27T02:16:43.584208Z",
     "iopub.status.busy": "2023-02-27T02:16:43.583208Z",
     "iopub.status.idle": "2023-02-27T02:16:43.692244Z",
     "shell.execute_reply": "2023-02-27T02:16:43.692244Z",
     "shell.execute_reply.started": "2023-02-27T02:16:43.584208Z"
    }
   },
   "outputs": [
    {
     "name": "stderr",
     "output_type": "stream",
     "text": [
      "C:\\Users\\trevor.sauerbrey\\WPy64-3890\\python-3.8.9.amd64\\lib\\site-packages\\pandas\\io\\sql.py:761: UserWarning: pandas only support SQLAlchemy connectable(engine/connection) ordatabase string URI or sqlite3 DBAPI2 connectionother DBAPI2 objects are not tested, please consider using SQLAlchemy\n",
      "  warnings.warn(\n"
     ]
    },
    {
     "data": {
      "text/html": [
       "<div>\n",
       "<style scoped>\n",
       "    .dataframe tbody tr th:only-of-type {\n",
       "        vertical-align: middle;\n",
       "    }\n",
       "\n",
       "    .dataframe tbody tr th {\n",
       "        vertical-align: top;\n",
       "    }\n",
       "\n",
       "    .dataframe thead th {\n",
       "        text-align: right;\n",
       "    }\n",
       "</style>\n",
       "<table border=\"1\" class=\"dataframe\">\n",
       "  <thead>\n",
       "    <tr style=\"text-align: right;\">\n",
       "      <th></th>\n",
       "      <th>date</th>\n",
       "      <th>total_confirmed_cases_state</th>\n",
       "      <th>total_deaths_state</th>\n",
       "      <th>recovered</th>\n",
       "      <th>confirmed_today_state</th>\n",
       "      <th>deaths_today_state</th>\n",
       "      <th>recovered_today_state</th>\n",
       "      <th>fatality_rate_state</th>\n",
       "      <th>country</th>\n",
       "      <th>state</th>\n",
       "      <th>...</th>\n",
       "      <th>state_longitude</th>\n",
       "      <th>city</th>\n",
       "      <th>fips_city_code</th>\n",
       "      <th>city_latitude</th>\n",
       "      <th>city_longitude</th>\n",
       "      <th>total_confirmed_cases_city</th>\n",
       "      <th>total_deaths_city</th>\n",
       "      <th>confirmed_today_city</th>\n",
       "      <th>deaths_today_city</th>\n",
       "      <th>last_API_update</th>\n",
       "    </tr>\n",
       "  </thead>\n",
       "  <tbody>\n",
       "    <tr>\n",
       "      <th>0</th>\n",
       "      <td>2023-02-25</td>\n",
       "      <td>12084297</td>\n",
       "      <td>100816</td>\n",
       "      <td>0</td>\n",
       "      <td>0</td>\n",
       "      <td>0</td>\n",
       "      <td>0</td>\n",
       "      <td>0.0083</td>\n",
       "      <td>USA</td>\n",
       "      <td>California</td>\n",
       "      <td>...</td>\n",
       "      <td>-119.682</td>\n",
       "      <td>San Diego</td>\n",
       "      <td>6073</td>\n",
       "      <td>33.0348</td>\n",
       "      <td>-116.737</td>\n",
       "      <td>1064093</td>\n",
       "      <td>5768</td>\n",
       "      <td>0</td>\n",
       "      <td>0</td>\n",
       "      <td>2023-02-26 04:20:54</td>\n",
       "    </tr>\n",
       "  </tbody>\n",
       "</table>\n",
       "<p>1 rows × 21 columns</p>\n",
       "</div>"
      ],
      "text/plain": [
       "         date  total_confirmed_cases_state  total_deaths_state  recovered  \\\n",
       "0  2023-02-25                     12084297              100816          0   \n",
       "\n",
       "   confirmed_today_state  deaths_today_state  recovered_today_state  \\\n",
       "0                      0                   0                      0   \n",
       "\n",
       "   fatality_rate_state country       state  ...  state_longitude       city  \\\n",
       "0               0.0083     USA  California  ...         -119.682  San Diego   \n",
       "\n",
       "  fips_city_code  city_latitude  city_longitude  total_confirmed_cases_city  \\\n",
       "0           6073        33.0348        -116.737                     1064093   \n",
       "\n",
       "   total_deaths_city  confirmed_today_city  deaths_today_city  \\\n",
       "0               5768                     0                  0   \n",
       "\n",
       "      last_API_update  \n",
       "0 2023-02-26 04:20:54  \n",
       "\n",
       "[1 rows x 21 columns]"
      ]
     },
     "execution_count": 49,
     "metadata": {},
     "output_type": "execute_result"
    }
   ],
   "source": [
    "c_query_testing= pd.read_sql(\"\"\" \n",
    "SELECT * FROM covid;\n",
    " \"\"\", conn)\n",
    " \n",
    "c_query_testing"
   ]
  },
  {
   "cell_type": "code",
   "execution_count": null,
   "metadata": {},
   "outputs": [],
   "source": []
  },
  {
   "cell_type": "code",
   "execution_count": null,
   "metadata": {},
   "outputs": [],
   "source": []
  },
  {
   "cell_type": "code",
   "execution_count": null,
   "metadata": {},
   "outputs": [],
   "source": []
  }
 ],
 "metadata": {
  "kernelspec": {
   "display_name": "Python 3",
   "language": "python",
   "name": "python3"
  },
  "language_info": {
   "codemirror_mode": {
    "name": "ipython",
    "version": 3
   },
   "file_extension": ".py",
   "mimetype": "text/x-python",
   "name": "python",
   "nbconvert_exporter": "python",
   "pygments_lexer": "ipython3",
   "version": "3.8.9"
  },
  "vscode": {
   "interpreter": {
    "hash": "ddb46927d1ef75e251eac7da7e5799506bd45f0bba9ac3fec5df7cda6478264c"
   }
  }
 },
 "nbformat": 4,
 "nbformat_minor": 4
}
