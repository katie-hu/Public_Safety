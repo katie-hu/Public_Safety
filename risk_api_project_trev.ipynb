{
 "cells": [
  {
   "cell_type": "code",
   "execution_count": 1,
   "id": "7d8df3fb",
   "metadata": {
    "execution": {
     "iopub.execute_input": "2023-02-24T23:06:36.707814Z",
     "iopub.status.busy": "2023-02-24T23:06:36.707814Z",
     "iopub.status.idle": "2023-02-24T23:06:40.341583Z",
     "shell.execute_reply": "2023-02-24T23:06:40.341583Z",
     "shell.execute_reply.started": "2023-02-24T23:06:36.707814Z"
    }
   },
   "outputs": [],
   "source": [
    "import requests\n",
    "import numpy as np\n",
    "import pandas as pd\n",
    "import pymysql as mysql\n",
    "from pprint import pprint\n",
    "from tabulate import tabulate\n",
    "import seaborn as sns\n",
    "import matplotlib.pyplot as plt\n",
    "import warnings\n",
    "from termcolor import colored\n",
    "from sqlalchemy import create_engine, MetaData\n",
    "from sqlalchemy_schemadisplay import create_schema_graph\n",
    "from IPython.display import Image\n",
    "import base64\n",
    "warnings.filterwarnings('ignore')"
   ]
  },
  {
   "cell_type": "markdown",
   "id": "8ab13216",
   "metadata": {},
   "source": [
    "APIs (rapid API), username trevsauer2023"
   ]
  },
  {
   "cell_type": "code",
   "execution_count": 55,
   "id": "7addaabc",
   "metadata": {
    "execution": {
     "iopub.execute_input": "2023-02-25T00:06:50.545531Z",
     "iopub.status.busy": "2023-02-25T00:06:50.545531Z",
     "iopub.status.idle": "2023-02-25T00:06:50.651530Z",
     "shell.execute_reply": "2023-02-25T00:06:50.651530Z",
     "shell.execute_reply.started": "2023-02-25T00:06:50.545531Z"
    }
   },
   "outputs": [],
   "source": [
    "city_id = \"San Diego\""
   ]
  },
  {
   "cell_type": "markdown",
   "id": "0cf5ec38",
   "metadata": {},
   "source": [
    "# Air Quality "
   ]
  },
  {
   "cell_type": "code",
   "execution_count": 62,
   "id": "0edfb35f",
   "metadata": {
    "execution": {
     "iopub.execute_input": "2023-02-25T00:12:57.512183Z",
     "iopub.status.busy": "2023-02-25T00:12:57.512183Z",
     "iopub.status.idle": "2023-02-25T00:12:58.898194Z",
     "shell.execute_reply": "2023-02-25T00:12:58.897183Z",
     "shell.execute_reply.started": "2023-02-25T00:12:57.512183Z"
    }
   },
   "outputs": [
    {
     "data": {
      "text/html": [
       "<div>\n",
       "<style scoped>\n",
       "    .dataframe tbody tr th:only-of-type {\n",
       "        vertical-align: middle;\n",
       "    }\n",
       "\n",
       "    .dataframe tbody tr th {\n",
       "        vertical-align: top;\n",
       "    }\n",
       "\n",
       "    .dataframe thead th {\n",
       "        text-align: right;\n",
       "    }\n",
       "</style>\n",
       "<table border=\"1\" class=\"dataframe\">\n",
       "  <thead>\n",
       "    <tr style=\"text-align: right;\">\n",
       "      <th></th>\n",
       "      <th>CO</th>\n",
       "      <th>NO2</th>\n",
       "      <th>O3</th>\n",
       "      <th>SO2</th>\n",
       "      <th>PM2.5</th>\n",
       "      <th>PM10</th>\n",
       "      <th>overall_aqi</th>\n",
       "    </tr>\n",
       "  </thead>\n",
       "  <tbody>\n",
       "    <tr>\n",
       "      <th>concentration</th>\n",
       "      <td>226.97</td>\n",
       "      <td>4.71</td>\n",
       "      <td>87.98</td>\n",
       "      <td>1.28</td>\n",
       "      <td>1.74</td>\n",
       "      <td>2.54</td>\n",
       "      <td>132</td>\n",
       "    </tr>\n",
       "    <tr>\n",
       "      <th>aqi</th>\n",
       "      <td>2.00</td>\n",
       "      <td>5.00</td>\n",
       "      <td>132.00</td>\n",
       "      <td>1.00</td>\n",
       "      <td>5.00</td>\n",
       "      <td>2.00</td>\n",
       "      <td>132</td>\n",
       "    </tr>\n",
       "  </tbody>\n",
       "</table>\n",
       "</div>"
      ],
      "text/plain": [
       "                   CO   NO2      O3   SO2  PM2.5  PM10  overall_aqi\n",
       "concentration  226.97  4.71   87.98  1.28   1.74  2.54          132\n",
       "aqi              2.00  5.00  132.00  1.00   5.00  2.00          132"
      ]
     },
     "execution_count": 62,
     "metadata": {},
     "output_type": "execute_result"
    }
   ],
   "source": [
    "url = \"https://air-quality-by-api-ninjas.p.rapidapi.com/v1/airquality\"\n",
    "\n",
    "querystring = {\"city\":city}\n",
    "\n",
    "headers = {\n",
    "\t\"X-RapidAPI-Key\": \"ad2cc6becemsh2e08af212b398c8p15d59djsn310073516954\",\n",
    "\t\"X-RapidAPI-Host\": \"air-quality-by-api-ninjas.p.rapidapi.com\"\n",
    "}\n",
    "\n",
    "a_response = requests.request(\"GET\", url, headers=headers, params=querystring)\n",
    "\n",
    "# Convert the response to a dictionary\n",
    "a_data = a_response.json()\n",
    "\n",
    "# Create a Pandas dataframe from the dictionary\n",
    "a_df = pd.DataFrame(a_data)\n",
    "a_df"
   ]
  },
  {
   "cell_type": "markdown",
   "id": "2f30aaa1",
   "metadata": {},
   "source": [
    "# Covid API\n",
    "\n",
    "###  Coronavirus COVID-19 Statistics API Based on public data by Johns Hopkins CSSE. It includes search by country, province, and date. Returns diff for confirmed, deaths, and recovered, compared with the previous day.\n",
    "\n"
   ]
  },
  {
   "cell_type": "code",
   "execution_count": 56,
   "id": "cf1ad60e",
   "metadata": {
    "execution": {
     "iopub.execute_input": "2023-02-25T00:06:57.055573Z",
     "iopub.status.busy": "2023-02-25T00:06:57.054570Z",
     "iopub.status.idle": "2023-02-25T00:07:01.644527Z",
     "shell.execute_reply": "2023-02-25T00:07:01.644527Z",
     "shell.execute_reply.started": "2023-02-25T00:06:57.055573Z"
    }
   },
   "outputs": [
    {
     "name": "stdout",
     "output_type": "stream",
     "text": [
      "{\"data\":[{\"date\":\"2023-02-23\",\"confirmed\":12080387,\"deaths\":100816,\"recovered\":0,\"confirmed_diff\":21022,\"deaths_diff\":231,\"recovered_diff\":0,\"last_update\":\"2023-02-24 04:20:54\",\"active\":11979571,\"active_diff\":20791,\"fatality_rate\":0.0083,\"region\":{\"iso\":\"USA\",\"name\":\"US\",\"province\":\"California\",\"lat\":\"36.1162\",\"long\":\"-119.6816\",\"cities\":[{\"name\":\"San Diego\",\"date\":\"2023-02-23\",\"fips\":6073,\"lat\":\"33.03484597\",\"long\":\"-116.7365326\",\"confirmed\":1063940,\"deaths\":5768,\"confirmed_diff\":1914,\"deaths_diff\":9,\"last_update\":\"2023-02-24 04:20:54\"}]}}]}\n"
     ]
    }
   ],
   "source": [
    "# make the API call\n",
    "# link to documentation: https://rapidapi.com/axisbits-axisbits-default/api/covid-19-statistics/\n",
    "url = \"https://covid-19-statistics.p.rapidapi.com/reports\"\n",
    "\n",
    "# optional parameter selected to querying the API\n",
    "querystring = {\"city_name\":city_id}\n",
    "\n",
    "# API credentials\n",
    "headers = {\n",
    "\t\"X-RapidAPI-Key\": \"ad2cc6becemsh2e08af212b398c8p15d59djsn310073516954\",\n",
    "\t\"X-RapidAPI-Host\": \"covid-19-statistics.p.rapidapi.com\"\n",
    "}\n",
    "\n",
    "# get raw response query from the API\n",
    "response = requests.request(\"GET\", url, headers=headers, params=querystring)\n",
    "print(response.text)"
   ]
  },
  {
   "cell_type": "code",
   "execution_count": 58,
   "id": "a5183040",
   "metadata": {
    "execution": {
     "iopub.execute_input": "2023-02-25T00:07:09.734986Z",
     "iopub.status.busy": "2023-02-25T00:07:09.733986Z",
     "iopub.status.idle": "2023-02-25T00:07:09.954983Z",
     "shell.execute_reply": "2023-02-25T00:07:09.953983Z",
     "shell.execute_reply.started": "2023-02-25T00:07:09.734986Z"
    }
   },
   "outputs": [
    {
     "data": {
      "text/plain": [
       "{'date': '2023-02-23',\n",
       " 'total_confirmed_cases_state': 12080387,\n",
       " 'total_deaths_state': 100816,\n",
       " 'recovered': 0,\n",
       " 'confirmed_today_state': 21022,\n",
       " 'deaths_today_state': 231,\n",
       " 'recovered_today_state': 0,\n",
       " 'fatality_rate_state': 0.0083,\n",
       " 'country': 'USA',\n",
       " 'state': 'California',\n",
       " 'state_latitude': '36.1162',\n",
       " 'state_longitude': '-119.6816',\n",
       " 'city': 'San Diego',\n",
       " 'fips_city_code': 6073,\n",
       " 'city_latitude': '33.03484597',\n",
       " 'city_longitude': '-116.7365326',\n",
       " 'total_confirmed_cases_city': 1063940,\n",
       " 'total_deaths_city': 5768,\n",
       " 'confirmed_today_city': 1914,\n",
       " 'deaths_today_city': 9,\n",
       " 'last_API_update': '2023-02-24 04:20:54'}"
      ]
     },
     "execution_count": 58,
     "metadata": {},
     "output_type": "execute_result"
    }
   ],
   "source": [
    "# convert the response to a dictionary\n",
    "data = response.json()\n",
    "\n",
    "# create a Pandas dataframe from the dictionary\n",
    "df = pd.DataFrame(data)\n",
    "\n",
    "# unpack the dictionaries in the column into separate columns\n",
    "df_unpacked = pd.json_normalize(df['data'])\n",
    "\n",
    "# merge the new columns back into the original dataframe\n",
    "df_1 = df.merge(df_unpacked, left_index=True, right_index=True)\n",
    "\n",
    "# drop the original column containing the dictionaries\n",
    "df_2 = df_1.drop('data', axis=1)\n",
    "\n",
    "# extract the dictionary from region.cities column for flattening\n",
    "col_dic = df_2['region.cities'].iloc[0]\n",
    "\n",
    "# turn the extracted dictionary into its on dataframe \n",
    "flatten_col = pd.DataFrame(col_dic)\n",
    "\n",
    "# merge the two dataframes\n",
    "result = df_2.merge(flatten_col, left_index=True, right_index=True)\n",
    "\n",
    "# drop columns \n",
    "result.drop(['last_update_x', 'active', 'active_diff', 'region.name', 'region.cities', 'date_y'], axis=1, inplace=True)\n",
    "\n",
    "# rename columns to be more understandable\n",
    "final_output_df = result.rename(columns={\"date_x\": \"date\", \"confirmed_x\": \"total_confirmed_cases_state\",\"deaths_x\": \"total_deaths_state\", \n",
    "                                         \"confirmed_diff_x\": \"confirmed_today_state\", \"deaths_diff_x\": \"deaths_today_state\",\n",
    "                                        \"recovered_diff\": \"recovered_today_state\", \"fatality_rate\":\"fatality_rate_state\",\"region.iso\":\"country\",\n",
    "                                        \"region.province\": \"state\", \"region.lat\":\"state_latitude\", \"region.long\":\"state_longitude\", \"name\": \"city\",\n",
    "                                        \"fips\":\"fips_city_code\", \"lat\": \"city_latitude\", \"long\": \"city_longitude\", \"confirmed_y\":\"total_confirmed_cases_city\",\n",
    "                                        \"deaths_y\": \"total_deaths_city\", \"confirmed_diff_y\":\"confirmed_today_city\", \"deaths_diff_y\": \"deaths_today_city\",\n",
    "                                        \"last_update_y\": \"last_API_update\"})\n",
    "\n",
    "# show the values of all the columns\n",
    "row_values = final_output_df.iloc[0].to_dict()\n",
    "row_values"
   ]
  },
  {
   "cell_type": "markdown",
   "id": "4312a01a",
   "metadata": {
    "execution": {
     "iopub.execute_input": "2023-02-09T00:18:56.281632Z",
     "iopub.status.busy": "2023-02-09T00:18:56.281632Z",
     "iopub.status.idle": "2023-02-09T00:18:56.456828Z",
     "shell.execute_reply": "2023-02-09T00:18:56.455874Z",
     "shell.execute_reply.started": "2023-02-09T00:18:56.281632Z"
    }
   },
   "source": [
    "# Weather API(s)"
   ]
  },
  {
   "cell_type": "code",
   "execution_count": 60,
   "id": "fe984528",
   "metadata": {
    "execution": {
     "iopub.execute_input": "2023-02-25T00:07:46.495052Z",
     "iopub.status.busy": "2023-02-25T00:07:46.495052Z",
     "iopub.status.idle": "2023-02-25T00:07:47.493332Z",
     "shell.execute_reply": "2023-02-25T00:07:47.492331Z",
     "shell.execute_reply.started": "2023-02-25T00:07:46.495052Z"
    }
   },
   "outputs": [
    {
     "data": {
      "text/html": [
       "<div>\n",
       "<style scoped>\n",
       "    .dataframe tbody tr th:only-of-type {\n",
       "        vertical-align: middle;\n",
       "    }\n",
       "\n",
       "    .dataframe tbody tr th {\n",
       "        vertical-align: top;\n",
       "    }\n",
       "\n",
       "    .dataframe thead th {\n",
       "        text-align: right;\n",
       "    }\n",
       "</style>\n",
       "<table border=\"1\" class=\"dataframe\">\n",
       "  <thead>\n",
       "    <tr style=\"text-align: right;\">\n",
       "      <th></th>\n",
       "      <th>cloud_pct</th>\n",
       "      <th>temp</th>\n",
       "      <th>feels_like</th>\n",
       "      <th>humidity</th>\n",
       "      <th>min_temp</th>\n",
       "      <th>max_temp</th>\n",
       "      <th>wind_speed</th>\n",
       "      <th>wind_degrees</th>\n",
       "      <th>sunrise</th>\n",
       "      <th>sunset</th>\n",
       "    </tr>\n",
       "  </thead>\n",
       "  <tbody>\n",
       "    <tr>\n",
       "      <th>0</th>\n",
       "      <td>100</td>\n",
       "      <td>15</td>\n",
       "      <td>14</td>\n",
       "      <td>64</td>\n",
       "      <td>13</td>\n",
       "      <td>16</td>\n",
       "      <td>6.71</td>\n",
       "      <td>144</td>\n",
       "      <td>1677248554</td>\n",
       "      <td>1677289290</td>\n",
       "    </tr>\n",
       "  </tbody>\n",
       "</table>\n",
       "</div>"
      ],
      "text/plain": [
       "   cloud_pct  temp  feels_like  humidity  min_temp  max_temp  wind_speed  \\\n",
       "0        100    15          14        64        13        16        6.71   \n",
       "\n",
       "   wind_degrees     sunrise      sunset  \n",
       "0           144  1677248554  1677289290  "
      ]
     },
     "execution_count": 60,
     "metadata": {},
     "output_type": "execute_result"
    }
   ],
   "source": [
    "url = \"https://weather-by-api-ninjas.p.rapidapi.com/v1/weather\"\n",
    "\n",
    "headers = {\n",
    "\t\"X-RapidAPI-Key\": \"570296f95emsh5f009ea13d4ed2cp106b38jsnbd81b0645b00\",\n",
    "\t\"X-RapidAPI-Host\": \"weather-by-api-ninjas.p.rapidapi.com\"\n",
    "}\n",
    "querystring = {\"city\":city_id}\n",
    "\n",
    "w_response = requests.request(\"GET\", url, headers=headers, params = querystring)\n",
    "\n",
    "# Convert the response to a dictionary\n",
    "w_data = w_response.json()\n",
    "\n",
    "# Create a Pandas dataframe from the dictionary\n",
    "w_df = pd.DataFrame(w_data, index = [0])\n",
    "w_df"
   ]
  },
  {
   "cell_type": "code",
   "execution_count": 13,
   "id": "25a3c8ef",
   "metadata": {
    "execution": {
     "iopub.execute_input": "2023-02-08T05:50:04.853054Z",
     "iopub.status.busy": "2023-02-08T05:50:04.852059Z",
     "iopub.status.idle": "2023-02-08T05:50:05.805740Z",
     "shell.execute_reply": "2023-02-08T05:50:05.804739Z",
     "shell.execute_reply.started": "2023-02-08T05:50:04.853054Z"
    }
   },
   "outputs": [
    {
     "name": "stdout",
     "output_type": "stream",
     "text": [
      "{\"Overall\":{\"Zipcode\":\"94109\",\"Overall Crime Grade\":\"F\",\"Violent Crime Grade\":\"F\",\"Property Crime Grade\":\"F\",\"Other Crime Grade\":\"F\",\"Fact\":\"A crime occurs every 1 hour 11 minutes (on average) in 94109.\",\"Risk\":\"300%\",\"Risk Detail\":\"Your home is 300% more likely to be robbed with no home security system.\"},\"Crime BreakDown\":[{\"Violent Crime Rates\":{\"Assault\":\"11.35\",\"Robbery\":\"4.370\",\"Rape\":\"0.4715\",\"Murder\":\"0.0509\"},\"0\":{\"Total Violent Crime\":\"16.24\",\"Total Violent Crime Score\":\"(F)\"}},{\"Property Crime Rates\":{\"Theft\":\"59.22\",\"Vehicle Theft\":\"3.198\",\"Burglary\":\"12.50\",\"Arson\":\"3.770\"},\"0\":{\"Total Property Crime\":\"78.69\",\"Total Property Crime Score\":\"(F)\"}},{\"Other Crime Rates\":{\"Kidnapping\":\"0.4780\",\"Drug Crimes\":\"25.45\",\"Vandalism\":\"7.619\",\"Identity Theft\":\"1.047\",\"Animal Cruelty\":\"0.0570\"},\"0\":{\"Total Other Rate\":\"34.65\",\"Total Other Score\":\"(F)\"}}],\"Crime Rates Nearby\":[{\"Nearby Zip\":\"94108, CA\",\"Overall Crime Grade\":\"F\",\"Violent Crime Grade\":\"F\",\"Property Crime Grade\":\"F\"},{\"Nearby Zip\":\"94133, CA\",\"Overall Crime Grade\":\"F\",\"Violent Crime Grade\":\"F\",\"Property Crime Grade\":\"F\"},{\"Nearby Zip\":\"94102, CA\",\"Overall Crime Grade\":\"F\",\"Violent Crime Grade\":\"F\",\"Property Crime Grade\":\"F\"},{\"Nearby Zip\":\"94115, CA\",\"Overall Crime Grade\":\"F\",\"Violent Crime Grade\":\"F\",\"Property Crime Grade\":\"F\"},{\"Nearby Zip\":\"94123, CA\",\"Overall Crime Grade\":\"F\",\"Violent Crime Grade\":\"F\",\"Property Crime Grade\":\"F\"},{\"Nearby Zip\":\"94104, CA\",\"Overall Crime Grade\":\"F\",\"Violent Crime Grade\":\"F\",\"Property Crime Grade\":\"F\"},{\"Nearby Zip\":\"94111, CA\",\"Overall Crime Grade\":\"F\",\"Violent Crime Grade\":\"F\",\"Property Crime Grade\":\"F\"},{\"Nearby Zip\":\"94105, CA\",\"Overall Crime Grade\":\"F\",\"Violent Crime Grade\":\"F\",\"Property Crime Grade\":\"F\"},{\"Nearby Zip\":\"94103, CA\",\"Overall Crime Grade\":\"F\",\"Violent Crime Grade\":\"F\",\"Property Crime Grade\":\"F\"},{\"Nearby Zip\":\"94117, CA\",\"Overall Crime Grade\":\"F\",\"Violent Crime Grade\":\"F\",\"Property Crime Grade\":\"F\"}],\"Similar Population Crime Rates\":[{\"Similar Zip\":\"27834, NC\",\"Overall Crime Grade\":\"F\",\"Violent Crime Grade\":\"F\",\"Property Crime Grade\":\"F\"},{\"Similar Zip\":\"65203, MO\",\"Overall Crime Grade\":\"F\",\"Violent Crime Grade\":\"F\",\"Property Crime Grade\":\"F\"},{\"Similar Zip\":\"33165, FL\",\"Overall Crime Grade\":\"F\",\"Violent Crime Grade\":\"F\",\"Property Crime Grade\":\"F\"},{\"Similar Zip\":\"30101, GA\",\"Overall Crime Grade\":\"F\",\"Violent Crime Grade\":\"F\",\"Property Crime Grade\":\"F\"},{\"Similar Zip\":\"92504, CA\",\"Overall Crime Grade\":\"F\",\"Violent Crime Grade\":\"F\",\"Property Crime Grade\":\"F\"},{\"Similar Zip\":\"93063, CA\",\"Overall Crime Grade\":\"F\",\"Violent Crime Grade\":\"F\",\"Property Crime Grade\":\"F\"},{\"Similar Zip\":\"72401, AR\",\"Overall Crime Grade\":\"F\",\"Violent Crime Grade\":\"F\",\"Property Crime Grade\":\"F\"},{\"Similar Zip\":\"29072, SC\",\"Overall Crime Grade\":\"F\",\"Violent Crime Grade\":\"F\",\"Property Crime Grade\":\"F\"},{\"Similar Zip\":\"38401, TN\",\"Overall Crime Grade\":\"F\",\"Violent Crime Grade\":\"F\",\"Property Crime Grade\":\"F\"},{\"Similar Zip\":\"93458, CA\",\"Overall Crime Grade\":\"F\",\"Violent Crime Grade\":\"F\",\"Property Crime Grade\":\"F\"}],\"success\":true,\"status code\":200}\n"
     ]
    }
   ],
   "source": [
    "url = \"https://crime-data-by-zipcode-api.p.rapidapi.com/crime_data\"\n",
    "\n",
    "querystring = {\"zip\":\"94109\"}\n",
    "\n",
    "headers = {\n",
    "\t\"X-RapidAPI-Key\": \"ad2cc6becemsh2e08af212b398c8p15d59djsn310073516954\",\n",
    "\t\"X-RapidAPI-Host\": \"crime-data-by-zipcode-api.p.rapidapi.com\"\n",
    "}\n",
    "\n",
    "response = requests.request(\"GET\", url, headers=headers, params=querystring)\n",
    "\n",
    "df = pd.DataFrame(response)\n",
    "\n",
    "print(response.text)\n"
   ]
  }
 ],
 "metadata": {
  "kernelspec": {
   "display_name": "Python 3",
   "language": "python",
   "name": "python3"
  },
  "language_info": {
   "codemirror_mode": {
    "name": "ipython",
    "version": 3
   },
   "file_extension": ".py",
   "mimetype": "text/x-python",
   "name": "python",
   "nbconvert_exporter": "python",
   "pygments_lexer": "ipython3",
   "version": "3.8.9"
  }
 },
 "nbformat": 4,
 "nbformat_minor": 5
}
